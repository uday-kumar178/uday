{
 "cells": [
  {
   "cell_type": "markdown",
   "id": "8a77807f92f26ee",
   "metadata": {},
   "source": [
    "# This is a sample Jupyter Notebook\n",
    "\n",
    "Below is an example of a code cell. \n",
    "Put your cursor into the cell and press Shift+Enter to execute it and select the next one, or click 'Run Cell' button.\n",
    "\n",
    "Press Double Shift to search everywhere for classes, files, tool windows, actions, and settings.\n",
    "\n",
    "To learn more about Jupyter Notebooks in PyCharm, see [help](https://www.jetbrains.com/help/pycharm/ipython-notebook-support.html).\n",
    "For an overview of PyCharm, go to Help -> Learn IDE features or refer to [our documentation](https://www.jetbrains.com/help/pycharm/getting-started.html)."
   ]
  },
  {
   "cell_type": "code",
   "execution_count": 50,
   "id": "fbc121e30a2defb3",
   "metadata": {
    "ExecuteTime": {
     "end_time": "2025-05-10T09:01:04.508281Z",
     "start_time": "2025-05-10T08:59:22.899021Z"
    }
   },
   "outputs": [
    {
     "name": "stdout",
     "output_type": "stream",
     "text": [
      "data science\n"
     ]
    }
   ],
   "source": [
    "from jupyter_server.terminal import initialize\n",
    "\n",
    "if True:\n",
    "    print('data science')\n"
   ]
  },
  {
   "cell_type": "code",
   "execution_count": 52,
   "id": "d93cf58182a8b2a6",
   "metadata": {
    "ExecuteTime": {
     "end_time": "2025-05-10T09:02:58.790874Z",
     "start_time": "2025-05-10T09:02:58.784770Z"
    }
   },
   "outputs": [],
   "source": [
    "if False:\n",
    "    print('data science')\n",
    "    print('bye for now')"
   ]
  },
  {
   "cell_type": "code",
   "execution_count": 54,
   "id": "7609689d2ee3e5f",
   "metadata": {
    "ExecuteTime": {
     "end_time": "2025-05-10T09:03:44.579272Z",
     "start_time": "2025-05-10T09:03:44.550816Z"
    }
   },
   "outputs": [
    {
     "name": "stdout",
     "output_type": "stream",
     "text": [
      "data science\n",
      "bye for now\n"
     ]
    }
   ],
   "source": [
    "if True:\n",
    "    print('data science')\n",
    "    print('bye for now')"
   ]
  },
  {
   "cell_type": "code",
   "execution_count": 56,
   "id": "df7ef2c312722eb1",
   "metadata": {
    "ExecuteTime": {
     "end_time": "2025-05-10T09:04:32.399938Z",
     "start_time": "2025-05-10T09:04:32.365903Z"
    }
   },
   "outputs": [
    {
     "name": "stdout",
     "output_type": "stream",
     "text": [
      "data science\n"
     ]
    }
   ],
   "source": [
    "if True:\n",
    "    print('data science')\n",
    "else:\n",
    "    print('bye for now')"
   ]
  },
  {
   "cell_type": "code",
   "execution_count": 58,
   "id": "394e0cee96f585cc",
   "metadata": {
    "ExecuteTime": {
     "end_time": "2025-05-10T09:04:52.063122Z",
     "start_time": "2025-05-10T09:04:52.052742Z"
    }
   },
   "outputs": [
    {
     "name": "stdout",
     "output_type": "stream",
     "text": [
      "bye for now\n"
     ]
    }
   ],
   "source": [
    "if False:\n",
    "    print('data science')\n",
    "else:\n",
    "    print('bye for now')"
   ]
  },
  {
   "cell_type": "markdown",
   "id": "49e58cf6fd336d3a",
   "metadata": {},
   "source": [
    "# PROGRAM"
   ]
  },
  {
   "cell_type": "code",
   "execution_count": 61,
   "id": "6ec7957cba510f5c",
   "metadata": {
    "ExecuteTime": {
     "end_time": "2025-05-10T09:06:29.004762Z",
     "start_time": "2025-05-10T09:06:28.998742Z"
    }
   },
   "outputs": [
    {
     "name": "stdout",
     "output_type": "stream",
     "text": [
      "Even number\n"
     ]
    }
   ],
   "source": [
    "x = 4\n",
    "r = x%2\n",
    "if r == 0:\n",
    "    print('Even number')"
   ]
  },
  {
   "cell_type": "code",
   "execution_count": 63,
   "id": "a13ba50b5a68214a",
   "metadata": {
    "ExecuteTime": {
     "end_time": "2025-05-10T09:07:14.643188Z",
     "start_time": "2025-05-10T09:07:14.635264Z"
    }
   },
   "outputs": [],
   "source": [
    "x = 5\n",
    "r = x%2\n",
    "if r == 0:\n",
    "    print('Even number')"
   ]
  },
  {
   "cell_type": "code",
   "execution_count": 65,
   "id": "355cd1a29785df7a",
   "metadata": {
    "ExecuteTime": {
     "end_time": "2025-05-10T09:09:55.544185Z",
     "start_time": "2025-05-10T09:09:55.533956Z"
    }
   },
   "outputs": [],
   "source": [
    "x = 5\n",
    "r = x%2\n",
    "if r == 0:\n",
    "    print('Even number')\n",
    "    if r == 1:\n",
    "        print('odd number')"
   ]
  },
  {
   "cell_type": "code",
   "execution_count": 67,
   "id": "f1a5f3491f0ee36b",
   "metadata": {
    "ExecuteTime": {
     "end_time": "2025-05-10T09:18:28.778456Z",
     "start_time": "2025-05-10T09:18:28.771411Z"
    }
   },
   "outputs": [],
   "source": [
    "x = 5\n",
    "r = x%2\n",
    "if r == 0:\n",
    "    print('Even number')\n",
    "    if r!=0:\n",
    "         print('odd number')"
   ]
  },
  {
   "cell_type": "code",
   "execution_count": 69,
   "id": "316f3b3847bd0127",
   "metadata": {
    "ExecuteTime": {
     "end_time": "2025-05-10T09:14:53.963980Z",
     "start_time": "2025-05-10T09:14:53.953007Z"
    }
   },
   "outputs": [
    {
     "name": "stdout",
     "output_type": "stream",
     "text": [
      "Even number\n"
     ]
    }
   ],
   "source": [
    "x = 4\n",
    "r = x%2\n",
    "if r == 0:\n",
    "    print('Even number')\n",
    "else:\n",
    "    print('Odd number')"
   ]
  },
  {
   "cell_type": "code",
   "execution_count": 71,
   "id": "f0fcb226c3a208ef",
   "metadata": {
    "ExecuteTime": {
     "end_time": "2025-05-10T09:18:11.131585Z",
     "start_time": "2025-05-10T09:18:11.122899Z"
    }
   },
   "outputs": [
    {
     "name": "stdout",
     "output_type": "stream",
     "text": [
      "odd number\n"
     ]
    }
   ],
   "source": [
    "x = 3\n",
    "r = x%2\n",
    "if r==0:\n",
    "    print('Even number')\n",
    "    if x>5:\n",
    "        print('greater number')\n",
    "else:\n",
    "        print('odd number')"
   ]
  },
  {
   "cell_type": "code",
   "execution_count": 73,
   "id": "2c9518547095dbf3",
   "metadata": {
    "ExecuteTime": {
     "end_time": "2025-05-10T09:17:41.592616Z",
     "start_time": "2025-05-10T09:17:41.584775Z"
    }
   },
   "outputs": [
    {
     "name": "stdout",
     "output_type": "stream",
     "text": [
      "Even number\n",
      "lesser number\n"
     ]
    }
   ],
   "source": [
    "x = 4\n",
    "r = x%2\n",
    "if r==0:\n",
    "    print('Even number')\n",
    "    if x>5:\n",
    "        print('greater number')\n",
    "    else:\n",
    "        print('lesser number')\n",
    "else:\n",
    "    print('odd number')\n"
   ]
  },
  {
   "cell_type": "code",
   "execution_count": 75,
   "id": "737f2670800cf62a",
   "metadata": {
    "ExecuteTime": {
     "end_time": "2025-05-10T09:19:28.984756Z",
     "start_time": "2025-05-10T09:19:28.975889Z"
    }
   },
   "outputs": [
    {
     "name": "stdout",
     "output_type": "stream",
     "text": [
      "Even number\n",
      "greater number\n"
     ]
    }
   ],
   "source": [
    "x = 6\n",
    "r = x%2\n",
    "if r==0:\n",
    "    print('Even number')\n",
    "    if x>5:\n",
    "        print('greater number')\n",
    "    else:\n",
    "        print('not greater')\n",
    "else:\n",
    "    print('odd number')"
   ]
  },
  {
   "cell_type": "code",
   "execution_count": 77,
   "id": "5b58abdcd471955d",
   "metadata": {
    "ExecuteTime": {
     "end_time": "2025-05-10T09:21:09.750125Z",
     "start_time": "2025-05-10T09:21:09.742270Z"
    }
   },
   "outputs": [
    {
     "name": "stdout",
     "output_type": "stream",
     "text": [
      "four\n"
     ]
    }
   ],
   "source": [
    "x = 4\n",
    "if x == 1:\n",
    "    print('one')\n",
    "if x == 2:\n",
    "    print('two')\n",
    "if x == 3:\n",
    "    print('three')\n",
    "if (x==4):\n",
    "    print('four')"
   ]
  },
  {
   "cell_type": "code",
   "execution_count": 79,
   "id": "2d06c7696e6bdffd",
   "metadata": {
    "ExecuteTime": {
     "end_time": "2025-05-10T09:25:51.257598Z",
     "start_time": "2025-05-10T09:25:51.248613Z"
    }
   },
   "outputs": [
    {
     "name": "stdout",
     "output_type": "stream",
     "text": [
      "number not found\n"
     ]
    }
   ],
   "source": [
    "x = 5\n",
    "if x == 1:\n",
    "    print('one')\n",
    "elif x == 2:\n",
    "    print('two')\n",
    "elif x == 3:\n",
    "    print('three')\n",
    "elif x == 4:\n",
    "    print('four')\n",
    "else:\n",
    "    print('number not found')"
   ]
  },
  {
   "cell_type": "markdown",
   "id": "8b5268be40fc0e18",
   "metadata": {},
   "source": [
    "# LOOPS IN PYTHON"
   ]
  },
  {
   "cell_type": "code",
   "execution_count": 82,
   "id": "6a304147a8a74814",
   "metadata": {
    "ExecuteTime": {
     "end_time": "2025-05-10T09:26:53.257507Z",
     "start_time": "2025-05-10T09:26:53.247874Z"
    }
   },
   "outputs": [
    {
     "name": "stdout",
     "output_type": "stream",
     "text": [
      "data science\n",
      "data science\n",
      "data science\n",
      "data science\n",
      "data science\n"
     ]
    }
   ],
   "source": [
    "print('data science')\n",
    "print('data science')\n",
    "print('data science')\n",
    "print('data science')\n",
    "print('data science')"
   ]
  },
  {
   "cell_type": "code",
   "execution_count": 84,
   "id": "32b37300b6d488ae",
   "metadata": {
    "ExecuteTime": {
     "end_time": "2025-05-10T09:27:22.281697Z",
     "start_time": "2025-05-10T09:27:22.273705Z"
    }
   },
   "outputs": [
    {
     "name": "stdout",
     "output_type": "stream",
     "text": [
      "data science\n",
      "data science\n",
      "data science\n",
      "data science\n",
      "data science\n"
     ]
    }
   ],
   "source": [
    "i = 1\n",
    "while i <= 5:\n",
    "    print('data science')\n",
    "    i = i + 1# increment"
   ]
  },
  {
   "cell_type": "code",
   "execution_count": 86,
   "id": "e68dfaf415ca2549",
   "metadata": {
    "ExecuteTime": {
     "end_time": "2025-05-10T09:28:57.484343Z",
     "start_time": "2025-05-10T09:28:57.476881Z"
    }
   },
   "outputs": [
    {
     "name": "stdout",
     "output_type": "stream",
     "text": [
      "data science\n",
      "data science\n",
      "data science\n",
      "data science\n"
     ]
    }
   ],
   "source": [
    "i = 5 # initializing\n",
    "while i > 1:\n",
    "    print('data science')\n",
    "    i = i - 1 #  decrement"
   ]
  },
  {
   "cell_type": "code",
   "execution_count": 88,
   "id": "329427f6bef3aa1b",
   "metadata": {
    "ExecuteTime": {
     "end_time": "2025-05-10T09:29:40.272425Z",
     "start_time": "2025-05-10T09:29:40.262832Z"
    }
   },
   "outputs": [
    {
     "name": "stdout",
     "output_type": "stream",
     "text": [
      "data science 1\n",
      "data science 2\n",
      "data science 3\n",
      "data science 4\n",
      "data science 5\n"
     ]
    }
   ],
   "source": [
    "i = 1\n",
    "while i <=5:\n",
    "    print('data science',i)\n",
    "    i = i + 1"
   ]
  },
  {
   "cell_type": "code",
   "execution_count": 90,
   "id": "5d69a5cd12137275",
   "metadata": {
    "ExecuteTime": {
     "end_time": "2025-05-10T09:33:57.064182Z",
     "start_time": "2025-05-10T09:33:57.053835Z"
    }
   },
   "outputs": [
    {
     "name": "stdout",
     "output_type": "stream",
     "text": [
      "data science 1\n",
      "technology 1\n",
      "\n",
      "technology 2\n",
      "\n",
      "technology 3\n",
      "\n",
      "technology 4\n",
      "\n",
      "data science 5\n",
      "technology 1\n",
      "\n",
      "technology 2\n",
      "\n",
      "technology 3\n",
      "\n",
      "technology 4\n",
      "\n"
     ]
    }
   ],
   "source": [
    "i =  1\n",
    "while i <=5:\n",
    "    print('data science',i)\n",
    "    j = 1\n",
    "    while j <= 4:\n",
    "        print('technology',j)\n",
    "        j = j + 1\n",
    "        i = i + 1\n",
    "        print()"
   ]
  },
  {
   "cell_type": "code",
   "execution_count": 92,
   "id": "815e99c2fc91bf6a",
   "metadata": {
    "ExecuteTime": {
     "end_time": "2025-05-10T09:38:19.033315Z",
     "start_time": "2025-05-10T09:38:19.022132Z"
    }
   },
   "outputs": [
    {
     "name": "stdout",
     "output_type": "stream",
     "text": [
      "data sciencetechnologytechnologytechnologytechnology\n",
      "data sciencetechnologytechnologytechnologytechnology\n",
      "data sciencetechnologytechnologytechnologytechnology\n",
      "data sciencetechnologytechnologytechnologytechnology\n",
      "data sciencetechnologytechnologytechnologytechnology\n"
     ]
    }
   ],
   "source": [
    "i = 1\n",
    "while i<=5:\n",
    "    print('data science',end =\"\")\n",
    "    j = 1\n",
    "    while j<= 4:\n",
    "        print('technology',end =\"\")\n",
    "        j = j + 1\n",
    "    i = i + 1\n",
    "    print()"
   ]
  },
  {
   "cell_type": "code",
   "execution_count": 94,
   "id": "f002794e2745beb3",
   "metadata": {
    "ExecuteTime": {
     "end_time": "2025-05-10T09:41:42.145828Z",
     "start_time": "2025-05-10T09:41:42.135449Z"
    }
   },
   "outputs": [
    {
     "name": "stdout",
     "output_type": "stream",
     "text": [
      "0 1 2 3 \n",
      "0 2 4 6 \n",
      "0 3 6 9 \n",
      "0 4 8 12 \n"
     ]
    }
   ],
   "source": [
    "i = 1\n",
    "while i<=4:\n",
    "    j = 0\n",
    "    while j<= 3:\n",
    "        print(i*j,end =\" \")\n",
    "        j += 1\n",
    "\n",
    "    print()\n",
    "    i +=1"
   ]
  },
  {
   "cell_type": "markdown",
   "id": "1fc4afe33bca097f",
   "metadata": {},
   "source": [
    "# FOR LOOP"
   ]
  },
  {
   "cell_type": "code",
   "execution_count": 97,
   "id": "357cca281667d05d",
   "metadata": {
    "ExecuteTime": {
     "end_time": "2025-05-10T09:44:06.303674Z",
     "start_time": "2025-05-10T09:44:06.294838Z"
    }
   },
   "outputs": [
    {
     "name": "stdout",
     "output_type": "stream",
     "text": [
      "u\n",
      "d\n",
      "a\n",
      "y\n"
     ]
    }
   ],
   "source": [
    "name = 'uday'\n",
    "for i in name:\n",
    "    print(i)"
   ]
  },
  {
   "cell_type": "code",
   "execution_count": 99,
   "id": "7b556ff71ae7709a",
   "metadata": {
    "ExecuteTime": {
     "end_time": "2025-05-10T09:45:27.319569Z",
     "start_time": "2025-05-10T09:45:27.310817Z"
    }
   },
   "outputs": [
    {
     "name": "stdout",
     "output_type": "stream",
     "text": [
      "1\n",
      "3.5\n",
      "uday\n"
     ]
    }
   ],
   "source": [
    "name1 = [1,3.5,'uday']\n",
    "for i in name1:\n",
    "    print(i)"
   ]
  },
  {
   "cell_type": "code",
   "execution_count": 101,
   "id": "c068c07c1f17f2ce",
   "metadata": {
    "ExecuteTime": {
     "end_time": "2025-05-10T09:51:30.623612Z",
     "start_time": "2025-05-10T09:51:30.613743Z"
    }
   },
   "outputs": [
    {
     "name": "stdout",
     "output_type": "stream",
     "text": [
      "1\n",
      "2\n",
      "3.5\n",
      "bro\n"
     ]
    }
   ],
   "source": [
    "for i in[1,2,3.5,'bro']:\n",
    "    print(i)"
   ]
  },
  {
   "cell_type": "code",
   "execution_count": 103,
   "id": "41be47f3f0b02762",
   "metadata": {
    "ExecuteTime": {
     "end_time": "2025-05-10T09:51:51.574935Z",
     "start_time": "2025-05-10T09:51:51.568183Z"
    }
   },
   "outputs": [
    {
     "name": "stdout",
     "output_type": "stream",
     "text": [
      "0\n",
      "1\n",
      "2\n",
      "3\n",
      "4\n"
     ]
    }
   ],
   "source": [
    "for i in range(5):\n",
    "    print(i)"
   ]
  },
  {
   "cell_type": "code",
   "execution_count": 105,
   "id": "e37c0009ee56908e",
   "metadata": {
    "ExecuteTime": {
     "end_time": "2025-05-10T09:53:19.963775Z",
     "start_time": "2025-05-10T09:53:19.956920Z"
    }
   },
   "outputs": [
    {
     "name": "stdout",
     "output_type": "stream",
     "text": [
      "5\n",
      "10\n",
      "15\n",
      "20\n",
      "25\n",
      "30\n",
      "35\n",
      "40\n"
     ]
    }
   ],
   "source": [
    "for i in range(1,41):\n",
    "    if i%5 == 0:\n",
    "       print(i)"
   ]
  },
  {
   "cell_type": "code",
   "execution_count": 107,
   "id": "d0bbed252e1ad429",
   "metadata": {
    "ExecuteTime": {
     "end_time": "2025-05-10T09:54:13.207351Z",
     "start_time": "2025-05-10T09:54:13.194004Z"
    }
   },
   "outputs": [
    {
     "name": "stdout",
     "output_type": "stream",
     "text": [
      "1\n",
      "2\n",
      "3\n",
      "4\n",
      "6\n",
      "7\n",
      "8\n",
      "9\n",
      "11\n",
      "12\n",
      "13\n",
      "14\n",
      "16\n",
      "17\n",
      "18\n",
      "19\n",
      "21\n",
      "22\n",
      "23\n",
      "24\n",
      "26\n",
      "27\n",
      "28\n",
      "29\n",
      "31\n",
      "32\n",
      "33\n",
      "34\n",
      "36\n",
      "37\n",
      "38\n",
      "39\n"
     ]
    }
   ],
   "source": [
    "for i in range(1,41):\n",
    "    if i%5 !=0:\n",
    "       print(i)"
   ]
  },
  {
   "cell_type": "code",
   "execution_count": 109,
   "id": "d0e23d87c38ad30a",
   "metadata": {
    "ExecuteTime": {
     "end_time": "2025-05-10T09:54:50.653507Z",
     "start_time": "2025-05-10T09:54:50.642934Z"
    }
   },
   "outputs": [
    {
     "name": "stdout",
     "output_type": "stream",
     "text": [
      "1\n",
      "2\n",
      "3\n",
      "4\n",
      "5\n",
      "6\n",
      "7\n",
      "8\n",
      "9\n",
      "10\n",
      "11\n",
      "12\n",
      "13\n",
      "14\n",
      "15\n",
      "16\n",
      "17\n",
      "18\n",
      "19\n",
      "20\n",
      "21\n",
      "22\n",
      "23\n",
      "24\n",
      "25\n",
      "26\n",
      "27\n",
      "28\n",
      "29\n",
      "30\n",
      "31\n",
      "32\n",
      "33\n",
      "34\n",
      "35\n",
      "36\n",
      "37\n",
      "38\n",
      "39\n",
      "40\n",
      "41\n",
      "42\n",
      "43\n",
      "44\n",
      "45\n",
      "46\n",
      "47\n",
      "48\n",
      "49\n"
     ]
    }
   ],
   "source": [
    "for i in range(1,50):\n",
    "    print(i)"
   ]
  },
  {
   "cell_type": "code",
   "execution_count": 111,
   "id": "7cb67a64c7d4ff43",
   "metadata": {
    "ExecuteTime": {
     "end_time": "2025-05-10T09:55:53.422281Z",
     "start_time": "2025-05-10T09:55:53.416163Z"
    }
   },
   "outputs": [
    {
     "name": "stdout",
     "output_type": "stream",
     "text": [
      "1\n",
      "2\n",
      "3\n",
      "4\n"
     ]
    }
   ],
   "source": [
    "for  i in range(1,10):\n",
    "     if i == 5:\n",
    "        break\n",
    "     print(i)"
   ]
  },
  {
   "cell_type": "code",
   "execution_count": 113,
   "id": "5075f86a120d1723",
   "metadata": {
    "ExecuteTime": {
     "end_time": "2025-05-10T09:57:24.099868Z",
     "start_time": "2025-05-10T09:57:24.092834Z"
    }
   },
   "outputs": [
    {
     "name": "stdout",
     "output_type": "stream",
     "text": [
      "1\n",
      "2\n",
      "3\n",
      "4\n",
      "5\n",
      "6\n"
     ]
    }
   ],
   "source": [
    "for i in range(1,10):\n",
    "    if i ==7:\n",
    "        break\n",
    "    print(i)"
   ]
  },
  {
   "cell_type": "code",
   "execution_count": 115,
   "id": "7ac1ab08c8287e0d",
   "metadata": {
    "ExecuteTime": {
     "end_time": "2025-05-10T09:58:04.230805Z",
     "start_time": "2025-05-10T09:58:04.222937Z"
    }
   },
   "outputs": [
    {
     "name": "stdout",
     "output_type": "stream",
     "text": [
      "1\n",
      "2\n",
      "3\n",
      "4\n",
      "5\n",
      "6\n",
      "8\n",
      "9\n"
     ]
    }
   ],
   "source": [
    "for i in range(1,10):\n",
    "    if i ==7:\n",
    "        continue\n",
    "    print(i)"
   ]
  },
  {
   "cell_type": "code",
   "execution_count": 117,
   "id": "a73ff9c27f8e7a90",
   "metadata": {
    "ExecuteTime": {
     "end_time": "2025-05-10T09:58:57.273438Z",
     "start_time": "2025-05-10T09:58:57.265564Z"
    }
   },
   "outputs": [
    {
     "name": "stdout",
     "output_type": "stream",
     "text": [
      "hello 1\n",
      "hello 2\n",
      "hello 3\n",
      "hello 4\n",
      "hello 5\n",
      "hello 6\n",
      "hello 8\n",
      "hello 9\n"
     ]
    }
   ],
   "source": [
    "for i in range(1,10):\n",
    "    if i ==7:\n",
    "       continue\n",
    "    print('hello',i)"
   ]
  },
  {
   "cell_type": "code",
   "execution_count": 119,
   "id": "dae354366cddb872",
   "metadata": {
    "ExecuteTime": {
     "end_time": "2025-05-10T09:59:09.817766Z",
     "start_time": "2025-05-10T09:59:09.804626Z"
    }
   },
   "outputs": [
    {
     "ename": "SyntaxError",
     "evalue": "incomplete input (4054113036.py, line 1)",
     "output_type": "error",
     "traceback": [
      "\u001b[1;36m  Cell \u001b[1;32mIn[119], line 1\u001b[1;36m\u001b[0m\n\u001b[1;33m    for i in range(1,10):\u001b[0m\n\u001b[1;37m                         ^\u001b[0m\n\u001b[1;31mSyntaxError\u001b[0m\u001b[1;31m:\u001b[0m incomplete input\n"
     ]
    }
   ],
   "source": [
    "for i in range(1,10):"
   ]
  },
  {
   "cell_type": "code",
   "execution_count": 121,
   "id": "828eb4f5365c0f9a",
   "metadata": {
    "ExecuteTime": {
     "end_time": "2025-05-10T09:59:34.902309Z",
     "start_time": "2025-05-10T09:59:34.894339Z"
    }
   },
   "outputs": [],
   "source": [
    "for i in range(1,10):\n",
    "    pass"
   ]
  },
  {
   "cell_type": "code",
   "execution_count": 123,
   "id": "8099b8b4d6b3ac9",
   "metadata": {
    "ExecuteTime": {
     "end_time": "2025-05-10T10:00:49.624638Z",
     "start_time": "2025-05-10T10:00:49.615240Z"
    }
   },
   "outputs": [
    {
     "name": "stdout",
     "output_type": "stream",
     "text": [
      "3\n",
      "6\n",
      "9\n",
      "12\n",
      "15\n",
      "18\n",
      "21\n",
      "24\n",
      "27\n",
      "30\n",
      "33\n",
      "36\n",
      "39\n",
      "42\n",
      "45\n",
      "48\n",
      "end\n"
     ]
    }
   ],
   "source": [
    "for  i in range(1,50):\n",
    "     if  i % 3 == 0:\n",
    "             print(i)\n",
    "print('end')"
   ]
  },
  {
   "cell_type": "code",
   "execution_count": 125,
   "id": "67ca83cc8107a089",
   "metadata": {
    "ExecuteTime": {
     "end_time": "2025-05-10T10:02:12.338928Z",
     "start_time": "2025-05-10T10:02:12.328110Z"
    }
   },
   "outputs": [
    {
     "name": "stdout",
     "output_type": "stream",
     "text": [
      "1\n",
      "2\n",
      "4\n",
      "5\n",
      "7\n",
      "8\n",
      "10\n",
      "11\n",
      "13\n",
      "14\n",
      "16\n",
      "17\n",
      "19\n",
      "20\n",
      "22\n",
      "23\n",
      "25\n",
      "26\n",
      "28\n",
      "29\n",
      "31\n",
      "32\n",
      "34\n",
      "35\n",
      "37\n",
      "38\n",
      "40\n",
      "41\n",
      "43\n",
      "44\n",
      "46\n",
      "47\n",
      "49\n",
      "end\n"
     ]
    }
   ],
   "source": [
    "for i in range(1,50):\n",
    "    if i %3 ==0:\n",
    "       continue\n",
    "    print(i)\n",
    "print('end')"
   ]
  },
  {
   "cell_type": "code",
   "execution_count": 127,
   "id": "29b734032b9131dc",
   "metadata": {
    "ExecuteTime": {
     "end_time": "2025-05-10T10:03:54.928425Z",
     "start_time": "2025-05-10T10:03:54.918603Z"
    }
   },
   "outputs": [
    {
     "name": "stdout",
     "output_type": "stream",
     "text": [
      "1\n",
      "2\n",
      "4\n",
      "7\n",
      "8\n",
      "11\n",
      "13\n",
      "14\n",
      "16\n",
      "17\n",
      "19\n",
      "22\n",
      "23\n",
      "26\n",
      "28\n",
      "29\n",
      "31\n",
      "32\n",
      "34\n",
      "37\n",
      "38\n",
      "41\n",
      "43\n",
      "44\n",
      "46\n",
      "47\n",
      "49\n",
      "end\n"
     ]
    }
   ],
   "source": [
    "for i in range(1,50):\n",
    "    if i%3 ==0 or i%5 ==0:\n",
    "       continue\n",
    "    print(i)\n",
    "print('end')\n",
    "# it will skip all the values which is divisible by  3 or 5"
   ]
  },
  {
   "cell_type": "code",
   "execution_count": 129,
   "id": "47ff3a1d479af25b",
   "metadata": {
    "ExecuteTime": {
     "end_time": "2025-05-10T10:06:04.916437Z",
     "start_time": "2025-05-10T10:06:04.906829Z"
    }
   },
   "outputs": [
    {
     "name": "stdout",
     "output_type": "stream",
     "text": [
      "1\n",
      "2\n",
      "3\n",
      "4\n",
      "5\n",
      "6\n",
      "7\n",
      "8\n",
      "9\n",
      "10\n",
      "11\n",
      "12\n",
      "13\n",
      "14\n",
      "16\n",
      "17\n",
      "18\n",
      "19\n",
      "20\n",
      "21\n",
      "22\n",
      "23\n",
      "24\n",
      "25\n",
      "26\n",
      "27\n",
      "28\n",
      "29\n",
      "31\n",
      "32\n",
      "33\n",
      "34\n",
      "35\n",
      "36\n",
      "37\n",
      "38\n",
      "39\n",
      "40\n",
      "41\n",
      "42\n",
      "43\n",
      "44\n",
      "46\n",
      "47\n",
      "48\n",
      "49\n",
      "end\n"
     ]
    }
   ],
   "source": [
    "for i in range(1,50):\n",
    "    if i%3==0 and i%5==0:\n",
    "        continue\n",
    "    print(i)\n",
    "print('end')\n",
    "# it  will skip all the values which is divisibble by 3 and 5."
   ]
  },
  {
   "cell_type": "code",
   "execution_count": 131,
   "id": "bf8e4d9aaa4b8eb5",
   "metadata": {
    "ExecuteTime": {
     "end_time": "2025-05-10T10:11:56.325755Z",
     "start_time": "2025-05-10T10:11:56.314157Z"
    }
   },
   "outputs": [
    {
     "name": "stdout",
     "output_type": "stream",
     "text": [
      "1\n",
      "3\n",
      "5\n",
      "7\n",
      "9\n",
      "11\n",
      "13\n",
      "15\n",
      "17\n",
      "19\n",
      "21\n",
      "23\n",
      "25\n",
      "27\n",
      "29\n",
      "31\n",
      "33\n",
      "35\n",
      "37\n",
      "39\n",
      "41\n",
      "43\n",
      "45\n",
      "47\n",
      "49\n",
      "bye\n"
     ]
    }
   ],
   "source": [
    "for i in range(1,50):\n",
    "    if (i%2 == 0):\n",
    "        pass\n",
    "    else:\n",
    "        print(i)\n",
    "print('bye')"
   ]
  },
  {
   "cell_type": "code",
   "execution_count": 133,
   "id": "f15424ac4759ea5c",
   "metadata": {
    "ExecuteTime": {
     "end_time": "2025-05-10T10:12:26.615478Z",
     "start_time": "2025-05-10T10:12:26.607087Z"
    }
   },
   "outputs": [
    {
     "name": "stdout",
     "output_type": "stream",
     "text": [
      "####\n",
      "####\n",
      "####\n",
      "####\n",
      "####\n"
     ]
    }
   ],
   "source": [
    "print('####')\n",
    "print('####')\n",
    "print('####')\n",
    "print('####')\n",
    "print('####')\n"
   ]
  },
  {
   "cell_type": "code",
   "execution_count": 135,
   "id": "19dc65d3f9daba6d",
   "metadata": {
    "ExecuteTime": {
     "end_time": "2025-05-10T10:13:21.211234Z",
     "start_time": "2025-05-10T10:13:21.201754Z"
    }
   },
   "outputs": [
    {
     "name": "stdout",
     "output_type": "stream",
     "text": [
      "# # # # # "
     ]
    }
   ],
   "source": [
    "for i in range(5):\n",
    "    print('#',end=\" \")"
   ]
  },
  {
   "cell_type": "code",
   "execution_count": 136,
   "id": "1a3eb5e44bb62569",
   "metadata": {
    "ExecuteTime": {
     "end_time": "2025-05-10T10:14:36.668636Z",
     "start_time": "2025-05-10T10:14:36.658968Z"
    }
   },
   "outputs": [
    {
     "name": "stdout",
     "output_type": "stream",
     "text": [
      "# # # # # # \n",
      "# # # # # # \n"
     ]
    }
   ],
   "source": [
    "for i in range(6):\n",
    "    print('#',end=\" \")\n",
    "print()\n",
    "for i in range(6):\n",
    "    print('#',end=\" \")\n",
    "print()"
   ]
  },
  {
   "cell_type": "code",
   "execution_count": 139,
   "id": "a20235c5321fd26c",
   "metadata": {
    "ExecuteTime": {
     "end_time": "2025-05-10T10:16:14.750163Z",
     "start_time": "2025-05-10T10:16:14.741549Z"
    }
   },
   "outputs": [
    {
     "name": "stdout",
     "output_type": "stream",
     "text": [
      "# # # # # # \n",
      "# # # # # # \n",
      "# # # # # # \n",
      "# # # # # # \n",
      "# # # # # # \n",
      "# # # # # # \n"
     ]
    }
   ],
   "source": [
    "for i in range(6):\n",
    "    for i in range(6):\n",
    "        print('#',end=\" \")\n",
    "    print()"
   ]
  }
 ],
 "metadata": {
  "kernelspec": {
   "display_name": "Python [conda env:base] *",
   "language": "python",
   "name": "conda-base-py"
  },
  "language_info": {
   "codemirror_mode": {
    "name": "ipython",
    "version": 3
   },
   "file_extension": ".py",
   "mimetype": "text/x-python",
   "name": "python",
   "nbconvert_exporter": "python",
   "pygments_lexer": "ipython3",
   "version": "3.12.7"
  }
 },
 "nbformat": 4,
 "nbformat_minor": 5
}
