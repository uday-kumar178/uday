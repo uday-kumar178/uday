{
 "cells": [
  {
   "cell_type": "markdown",
   "id": "356f3da3-5267-495b-841b-da228da7d202",
   "metadata": {},
   "source": [
    "# numpy  is a module which contain many inbuild functions"
   ]
  },
  {
   "cell_type": "markdown",
   "id": "f9417a8c-0a4d-4937-bcbf-e882a3ffbc25",
   "metadata": {},
   "source": [
    "# a[2,3] ---> bydefault 2nd row & 3rd columns"
   ]
  },
  {
   "cell_type": "code",
   "execution_count": null,
   "id": "e432b341-8aaa-4cc9-b9d6-18efb5c37d81",
   "metadata": {},
   "outputs": [],
   "source": [
    "#numpy use for-->\n",
    " 1- arthmetic operation\n",
    " 2-stats operation\n",
    " 3-bitwise operator\n",
    " 4-copy 7 view array\n",
    " 5-stacking\n",
    " 6-matrix\n",
    " 7-linear algebra\n",
    " 8-broadcasting\n",
    " 9-math operation\n",
    " 10- search,sorting counting"
   ]
  },
  {
   "cell_type": "markdown",
   "id": "9dee8acf-12dc-4df4-9aee-10c317f4c8a9",
   "metadata": {},
   "source": [
    "# numpy crash course"
   ]
  },
  {
   "cell_type": "code",
   "execution_count": 21,
   "id": "db02077d-90c9-482a-8c41-6993b1e29fe7",
   "metadata": {},
   "outputs": [],
   "source": [
    "import numpy as np"
   ]
  },
  {
   "cell_type": "code",
   "execution_count": 23,
   "id": "b97313a8-ad24-43d3-a9ff-64c4d9afd504",
   "metadata": {},
   "outputs": [
    {
     "data": {
      "text/plain": [
       "<module 'numpy.version' from 'C:\\\\Users\\\\Asus\\\\anaconda3\\\\Lib\\\\site-packages\\\\numpy\\\\version.py'>"
      ]
     },
     "execution_count": 23,
     "metadata": {},
     "output_type": "execute_result"
    }
   ],
   "source": [
    "np.version"
   ]
  },
  {
   "cell_type": "code",
   "execution_count": 25,
   "id": "5e1992d0-9a7f-445c-b5d2-6599e9f169a1",
   "metadata": {},
   "outputs": [
    {
     "data": {
      "text/plain": [
       "'3.12.7 | packaged by Anaconda, Inc. | (main, Oct  4 2024, 13:17:27) [MSC v.1929 64 bit (AMD64)]'"
      ]
     },
     "execution_count": 25,
     "metadata": {},
     "output_type": "execute_result"
    }
   ],
   "source": [
    "import sys\n",
    "sys.version"
   ]
  },
  {
   "cell_type": "markdown",
   "id": "295c2676-eb8d-4627-90ac-ecb7f7a3f9db",
   "metadata": {},
   "source": [
    "# create array"
   ]
  },
  {
   "cell_type": "code",
   "execution_count": 28,
   "id": "f49de0ec-4c8a-4d79-a7f6-8d5523ce494b",
   "metadata": {},
   "outputs": [
    {
     "data": {
      "text/plain": [
       "[0, 1, 2, 3, 4, 5]"
      ]
     },
     "execution_count": 28,
     "metadata": {},
     "output_type": "execute_result"
    }
   ],
   "source": [
    "my_list = [0,1,2,3,4,5]\n",
    "my_list"
   ]
  },
  {
   "cell_type": "code",
   "execution_count": 30,
   "id": "be8485c3-a47c-40ed-a934-862e8f1a23c5",
   "metadata": {},
   "outputs": [
    {
     "data": {
      "text/plain": [
       "list"
      ]
     },
     "execution_count": 30,
     "metadata": {},
     "output_type": "execute_result"
    }
   ],
   "source": [
    "type(my_list)"
   ]
  },
  {
   "cell_type": "markdown",
   "id": "043496e5-62b0-4e5f-97d4-69e422382587",
   "metadata": {},
   "source": [
    "# below code we are converting list to array"
   ]
  },
  {
   "cell_type": "code",
   "execution_count": 33,
   "id": "a15330ac-e02f-4a47-a6e5-05ed47ffadc9",
   "metadata": {},
   "outputs": [
    {
     "data": {
      "text/plain": [
       "array([0, 1, 2, 3, 4, 5])"
      ]
     },
     "execution_count": 33,
     "metadata": {},
     "output_type": "execute_result"
    }
   ],
   "source": [
    "arr = np.array(my_list)\n",
    "arr"
   ]
  },
  {
   "cell_type": "code",
   "execution_count": 35,
   "id": "1aff95a1-8f81-43e5-ab62-befdb3fe097b",
   "metadata": {},
   "outputs": [
    {
     "data": {
      "text/plain": [
       "numpy.ndarray"
      ]
     },
     "execution_count": 35,
     "metadata": {},
     "output_type": "execute_result"
    }
   ],
   "source": [
    "type(arr)"
   ]
  },
  {
   "cell_type": "code",
   "execution_count": 37,
   "id": "c6b477d5-39d9-4480-a874-efe122b1810c",
   "metadata": {},
   "outputs": [
    {
     "data": {
      "text/plain": [
       "list"
      ]
     },
     "execution_count": 37,
     "metadata": {},
     "output_type": "execute_result"
    }
   ],
   "source": [
    "type(my_list)"
   ]
  },
  {
   "cell_type": "code",
   "execution_count": null,
   "id": "32fce1de-2bc5-4cff-b8f4-7f9cf0462c99",
   "metadata": {},
   "outputs": [],
   "source": [
    "np."
   ]
  },
  {
   "cell_type": "code",
   "execution_count": 39,
   "id": "e4e869e8-23fb-4f2e-a750-5fcc995330ab",
   "metadata": {},
   "outputs": [
    {
     "data": {
      "text/plain": [
       "array([0, 1, 2, 3, 4, 5, 6, 7, 8, 9])"
      ]
     },
     "execution_count": 39,
     "metadata": {},
     "output_type": "execute_result"
    }
   ],
   "source": [
    "np.arange(10)# it will return valus between 0 to  10 "
   ]
  },
  {
   "cell_type": "code",
   "execution_count": 41,
   "id": "374e6e9e-6c42-4c4b-95b1-3d7491afa731",
   "metadata": {},
   "outputs": [
    {
     "data": {
      "text/plain": [
       "array([0., 1., 2.])"
      ]
     },
     "execution_count": 41,
     "metadata": {},
     "output_type": "execute_result"
    }
   ],
   "source": [
    "np.arange(3.0)# it will  return in float numbers"
   ]
  },
  {
   "cell_type": "code",
   "execution_count": 43,
   "id": "60969953-9845-4a30-8dcc-31e9c13c31bb",
   "metadata": {},
   "outputs": [
    {
     "data": {
      "text/plain": [
       "array([0, 1, 2, 3, 4])"
      ]
     },
     "execution_count": 43,
     "metadata": {},
     "output_type": "execute_result"
    }
   ],
   "source": [
    "np.arange(0,5)"
   ]
  },
  {
   "cell_type": "code",
   "execution_count": 45,
   "id": "d6c954d6-ceeb-41ab-9295-a8ca29e0cde9",
   "metadata": {},
   "outputs": [
    {
     "data": {
      "text/plain": [
       "array([10, 11, 12, 13, 14, 15, 16, 17, 18, 19])"
      ]
     },
     "execution_count": 45,
     "metadata": {},
     "output_type": "execute_result"
    }
   ],
   "source": [
    "np.arange(10,20)# it will return the values between the numbers we assign"
   ]
  },
  {
   "cell_type": "code",
   "execution_count": 49,
   "id": "6f398685-c8e5-4c1b-94f9-0baca40fe304",
   "metadata": {},
   "outputs": [
    {
     "data": {
      "text/plain": [
       "array([], dtype=int32)"
      ]
     },
     "execution_count": 49,
     "metadata": {},
     "output_type": "execute_result"
    }
   ],
   "source": [
    "np.arange(20,10) # it much be lessthen second argument , it will project empty array"
   ]
  },
  {
   "cell_type": "code",
   "execution_count": 53,
   "id": "6edece3c-516f-430a-97fe-3c2680f43813",
   "metadata": {},
   "outputs": [
    {
     "data": {
      "text/plain": [
       "array([-20, -19, -18, -17, -16, -15, -14, -13, -12, -11, -10,  -9,  -8,\n",
       "        -7,  -6,  -5,  -4,  -3,  -2,  -1,   0,   1,   2,   3,   4,   5,\n",
       "         6,   7,   8,   9])"
      ]
     },
     "execution_count": 53,
     "metadata": {},
     "output_type": "execute_result"
    }
   ],
   "source": [
    "np.arange(-20,10)"
   ]
  },
  {
   "cell_type": "code",
   "execution_count": 55,
   "id": "bbb66d97-6d53-4691-bcf1-5871758490b6",
   "metadata": {},
   "outputs": [
    {
     "data": {
      "text/plain": [
       "array([-20, -19, -18, -17, -16, -15, -14, -13, -12, -11])"
      ]
     },
     "execution_count": 55,
     "metadata": {},
     "output_type": "execute_result"
    }
   ],
   "source": [
    "np.arange(-20,-10)"
   ]
  },
  {
   "cell_type": "code",
   "execution_count": 57,
   "id": "0213e2ba-cedd-4762-9a8c-4df10e8e7615",
   "metadata": {},
   "outputs": [
    {
     "data": {
      "text/plain": [
       "array([-30, -29, -28, -27, -26, -25, -24, -23, -22, -21, -20, -19, -18,\n",
       "       -17, -16, -15, -14, -13, -12, -11, -10,  -9,  -8,  -7,  -6,  -5,\n",
       "        -4,  -3,  -2,  -1,   0,   1,   2,   3,   4,   5,   6,   7,   8,\n",
       "         9,  10,  11,  12,  13,  14,  15,  16,  17,  18,  19])"
      ]
     },
     "execution_count": 57,
     "metadata": {},
     "output_type": "execute_result"
    }
   ],
   "source": [
    "ar = np.arange(-30,20)\n",
    "ar"
   ]
  },
  {
   "cell_type": "code",
   "execution_count": 59,
   "id": "00175484-1108-4e63-9646-f79d4a359925",
   "metadata": {},
   "outputs": [
    {
     "data": {
      "text/plain": [
       "array([10, 15])"
      ]
     },
     "execution_count": 59,
     "metadata": {},
     "output_type": "execute_result"
    }
   ],
   "source": [
    "np.arange(10,20,5)"
   ]
  },
  {
   "cell_type": "code",
   "execution_count": 61,
   "id": "02e267d6-2624-4645-844c-b0949d7a9a84",
   "metadata": {},
   "outputs": [
    {
     "data": {
      "text/plain": [
       "array([0., 0., 0., 0., 0., 0., 0., 0., 0., 0.])"
      ]
     },
     "execution_count": 61,
     "metadata": {},
     "output_type": "execute_result"
    }
   ],
   "source": [
    "np.zeros(10)# bydefault it print in float"
   ]
  },
  {
   "cell_type": "code",
   "execution_count": 65,
   "id": "bf887310-deda-49e3-82e1-8faef1ccca1d",
   "metadata": {},
   "outputs": [
    {
     "data": {
      "text/plain": [
       "array([0, 0, 0, 0, 0])"
      ]
     },
     "execution_count": 65,
     "metadata": {},
     "output_type": "execute_result"
    }
   ],
   "source": [
    "np.zeros(5, dtype=int)# by the syntax we can change the value."
   ]
  },
  {
   "cell_type": "markdown",
   "id": "edc8632b-727a-453d-9ec6-5f878edbb325",
   "metadata": {},
   "source": [
    "# parameter tunning -- system uses his own parameter"
   ]
  },
  {
   "cell_type": "code",
   "execution_count": 71,
   "id": "38595f05-6292-464c-91b8-af9c9dd63eed",
   "metadata": {},
   "outputs": [
    {
     "data": {
      "text/plain": [
       "array([[0, 0],\n",
       "       [0, 0]])"
      ]
     },
     "execution_count": 71,
     "metadata": {},
     "output_type": "execute_result"
    }
   ],
   "source": [
    "np.zeros((2,2),dtype=int)# this is 2d array."
   ]
  },
  {
   "cell_type": "code",
   "execution_count": 73,
   "id": "86731bf3-d722-4cb9-82f1-75d765c4d586",
   "metadata": {},
   "outputs": [
    {
     "data": {
      "text/plain": [
       "array([[0., 0., 0., 0., 0., 0., 0., 0., 0., 0.],\n",
       "       [0., 0., 0., 0., 0., 0., 0., 0., 0., 0.]])"
      ]
     },
     "execution_count": 73,
     "metadata": {},
     "output_type": "execute_result"
    }
   ],
   "source": [
    "np.zeros((2,10))# it prints 2 rows& 10 colums"
   ]
  },
  {
   "cell_type": "code",
   "execution_count": 75,
   "id": "5a065a6c-2a76-441f-8e5e-986bae0c36a6",
   "metadata": {},
   "outputs": [
    {
     "data": {
      "text/plain": [
       "array([[0., 0., 0., 0., 0., 0., 0., 0., 0., 0., 0., 0., 0., 0., 0., 0.,\n",
       "        0., 0., 0., 0., 0., 0., 0., 0., 0., 0., 0., 0., 0., 0.],\n",
       "       [0., 0., 0., 0., 0., 0., 0., 0., 0., 0., 0., 0., 0., 0., 0., 0.,\n",
       "        0., 0., 0., 0., 0., 0., 0., 0., 0., 0., 0., 0., 0., 0.],\n",
       "       [0., 0., 0., 0., 0., 0., 0., 0., 0., 0., 0., 0., 0., 0., 0., 0.,\n",
       "        0., 0., 0., 0., 0., 0., 0., 0., 0., 0., 0., 0., 0., 0.],\n",
       "       [0., 0., 0., 0., 0., 0., 0., 0., 0., 0., 0., 0., 0., 0., 0., 0.,\n",
       "        0., 0., 0., 0., 0., 0., 0., 0., 0., 0., 0., 0., 0., 0.],\n",
       "       [0., 0., 0., 0., 0., 0., 0., 0., 0., 0., 0., 0., 0., 0., 0., 0.,\n",
       "        0., 0., 0., 0., 0., 0., 0., 0., 0., 0., 0., 0., 0., 0.],\n",
       "       [0., 0., 0., 0., 0., 0., 0., 0., 0., 0., 0., 0., 0., 0., 0., 0.,\n",
       "        0., 0., 0., 0., 0., 0., 0., 0., 0., 0., 0., 0., 0., 0.],\n",
       "       [0., 0., 0., 0., 0., 0., 0., 0., 0., 0., 0., 0., 0., 0., 0., 0.,\n",
       "        0., 0., 0., 0., 0., 0., 0., 0., 0., 0., 0., 0., 0., 0.],\n",
       "       [0., 0., 0., 0., 0., 0., 0., 0., 0., 0., 0., 0., 0., 0., 0., 0.,\n",
       "        0., 0., 0., 0., 0., 0., 0., 0., 0., 0., 0., 0., 0., 0.],\n",
       "       [0., 0., 0., 0., 0., 0., 0., 0., 0., 0., 0., 0., 0., 0., 0., 0.,\n",
       "        0., 0., 0., 0., 0., 0., 0., 0., 0., 0., 0., 0., 0., 0.],\n",
       "       [0., 0., 0., 0., 0., 0., 0., 0., 0., 0., 0., 0., 0., 0., 0., 0.,\n",
       "        0., 0., 0., 0., 0., 0., 0., 0., 0., 0., 0., 0., 0., 0.]])"
      ]
     },
     "execution_count": 75,
     "metadata": {},
     "output_type": "execute_result"
    }
   ],
   "source": [
    "np.zeros((10,30))"
   ]
  },
  {
   "cell_type": "code",
   "execution_count": 79,
   "id": "99e40151-5136-4e78-abf0-d336f390dd58",
   "metadata": {},
   "outputs": [
    {
     "data": {
      "text/plain": [
       "array([[0, 0, 0, 0, 0, 0, 0, 0, 0, 0],\n",
       "       [0, 0, 0, 0, 0, 0, 0, 0, 0, 0],\n",
       "       [0, 0, 0, 0, 0, 0, 0, 0, 0, 0],\n",
       "       [0, 0, 0, 0, 0, 0, 0, 0, 0, 0],\n",
       "       [0, 0, 0, 0, 0, 0, 0, 0, 0, 0],\n",
       "       [0, 0, 0, 0, 0, 0, 0, 0, 0, 0],\n",
       "       [0, 0, 0, 0, 0, 0, 0, 0, 0, 0],\n",
       "       [0, 0, 0, 0, 0, 0, 0, 0, 0, 0],\n",
       "       [0, 0, 0, 0, 0, 0, 0, 0, 0, 0],\n",
       "       [0, 0, 0, 0, 0, 0, 0, 0, 0, 0]])"
      ]
     },
     "execution_count": 79,
     "metadata": {},
     "output_type": "execute_result"
    }
   ],
   "source": [
    "np.zeros((10,10),dtype=int)# this is Nd array"
   ]
  },
  {
   "cell_type": "code",
   "execution_count": 81,
   "id": "ecfffd12-987d-4c32-a02e-6cbbc8c18ef4",
   "metadata": {},
   "outputs": [
    {
     "data": {
      "text/plain": [
       "array([1., 1., 1.])"
      ]
     },
     "execution_count": 81,
     "metadata": {},
     "output_type": "execute_result"
    }
   ],
   "source": [
    "np.ones(3)"
   ]
  },
  {
   "cell_type": "code",
   "execution_count": 83,
   "id": "3807ef56-4b82-427d-bf72-39840a72586d",
   "metadata": {},
   "outputs": [
    {
     "data": {
      "text/plain": [
       "array([1, 1, 1])"
      ]
     },
     "execution_count": 83,
     "metadata": {},
     "output_type": "execute_result"
    }
   ],
   "source": [
    "np.ones((3),dtype=int)"
   ]
  },
  {
   "cell_type": "code",
   "execution_count": 89,
   "id": "08cc6800-62c9-47ac-946b-ff358ad71773",
   "metadata": {},
   "outputs": [
    {
     "ename": "NameError",
     "evalue": "name 'random' is not defined",
     "output_type": "error",
     "traceback": [
      "\u001b[1;31m---------------------------------------------------------------------------\u001b[0m",
      "\u001b[1;31mNameError\u001b[0m                                 Traceback (most recent call last)",
      "Cell \u001b[1;32mIn[89], line 1\u001b[0m\n\u001b[1;32m----> 1\u001b[0m random\u001b[38;5;241m.\u001b[39mrand(\u001b[38;5;241m3\u001b[39m,\u001b[38;5;241m2\u001b[39m)\n",
      "\u001b[1;31mNameError\u001b[0m: name 'random' is not defined"
     ]
    }
   ],
   "source": [
    "random.rand(3,2)"
   ]
  },
  {
   "cell_type": "code",
   "execution_count": 95,
   "id": "98a0c63a-bbe5-43e3-8f8e-eefda2666e77",
   "metadata": {},
   "outputs": [
    {
     "data": {
      "text/plain": [
       "array([0.56349146, 0.33794689, 0.81284473, 0.29123857, 0.13665669])"
      ]
     },
     "execution_count": 95,
     "metadata": {},
     "output_type": "execute_result"
    }
   ],
   "source": [
    "np.random.rand(5)# it will shuffle the numbers."
   ]
  },
  {
   "cell_type": "code",
   "execution_count": 103,
   "id": "4409fdd5-71fa-4cba-bfbe-8c0940669da9",
   "metadata": {},
   "outputs": [
    {
     "data": {
      "text/plain": [
       "array([[0.2798661 , 0.41262993, 0.36174161, 0.034808  , 0.23622247],\n",
       "       [0.21205421, 0.55991837, 0.03741352, 0.95924308, 0.67626408],\n",
       "       [0.6275828 , 0.52904578, 0.82161833, 0.42398615, 0.82609727]])"
      ]
     },
     "execution_count": 103,
     "metadata": {},
     "output_type": "execute_result"
    }
   ],
   "source": [
    "np.random.rand(3,5)"
   ]
  },
  {
   "cell_type": "code",
   "execution_count": 105,
   "id": "c4ac23e5-0543-4485-aad8-a9b7e4d599e8",
   "metadata": {},
   "outputs": [
    {
     "data": {
      "text/plain": [
       "array([0.19042268, 0.29151131, 0.97246906, 0.7721051 ])"
      ]
     },
     "execution_count": 105,
     "metadata": {},
     "output_type": "execute_result"
    }
   ],
   "source": [
    "np.random.rand(4)"
   ]
  },
  {
   "cell_type": "code",
   "execution_count": 110,
   "id": "1cdc29b8-57b8-4276-8a2d-44e2d1fd8112",
   "metadata": {},
   "outputs": [
    {
     "data": {
      "text/plain": [
       "5"
      ]
     },
     "execution_count": 110,
     "metadata": {},
     "output_type": "execute_result"
    }
   ],
   "source": [
    "np.random.randint(4,6)"
   ]
  },
  {
   "cell_type": "code",
   "execution_count": 112,
   "id": "8166653c-9d95-467d-a143-f16ea7192901",
   "metadata": {},
   "outputs": [
    {
     "data": {
      "text/plain": [
       "19"
      ]
     },
     "execution_count": 112,
     "metadata": {},
     "output_type": "execute_result"
    }
   ],
   "source": [
    "np.random.randint(10,20)"
   ]
  },
  {
   "cell_type": "code",
   "execution_count": 126,
   "id": "6295dc7a-53a9-469a-a939-909252337eef",
   "metadata": {},
   "outputs": [
    {
     "data": {
      "text/plain": [
       "array([13, 12, 16, 19])"
      ]
     },
     "execution_count": 126,
     "metadata": {},
     "output_type": "execute_result"
    }
   ],
   "source": [
    "np.random.randint(10,20,4)# every time numbers will shuffle\n",
    "# and it will only interprit just 3 numbers"
   ]
  },
  {
   "cell_type": "code",
   "execution_count": 130,
   "id": "47c479cf-115b-425a-893c-034475312531",
   "metadata": {},
   "outputs": [
    {
     "data": {
      "text/plain": [
       "array([11, 14, 10, 15, 11])"
      ]
     },
     "execution_count": 130,
     "metadata": {},
     "output_type": "execute_result"
    }
   ],
   "source": [
    "np.random.randint(10,20,5)"
   ]
  },
  {
   "cell_type": "code",
   "execution_count": 138,
   "id": "a5666d3a-e1b3-497f-9a46-7f72303fda41",
   "metadata": {},
   "outputs": [
    {
     "data": {
      "text/plain": [
       "array([[10, 30, 33, 34, 30, 30, 18, 26, 27, 14],\n",
       "       [22, 31, 22, 22, 19, 23, 25, 24, 36, 32],\n",
       "       [16, 12, 31, 27, 30, 35, 14, 21, 39, 32],\n",
       "       [36, 20, 32, 33, 26, 37, 31, 12, 11, 28],\n",
       "       [22, 12, 30, 10, 20, 11, 18, 22, 21, 18],\n",
       "       [11, 22, 38, 10, 28, 17, 30, 15, 29, 31],\n",
       "       [27, 13, 37, 32, 35, 27, 20, 37, 26, 25],\n",
       "       [22, 35, 20, 21, 23, 34, 36, 19, 14, 38],\n",
       "       [34, 21, 12, 11, 19, 29, 35, 35, 30, 19],\n",
       "       [22, 25, 14, 29, 38, 27, 15, 22, 15, 33]])"
      ]
     },
     "execution_count": 138,
     "metadata": {},
     "output_type": "execute_result"
    }
   ],
   "source": [
    "np.random.randint(10,40,(10,10))# generate the elements 10-3- with 4*4 matrix"
   ]
  },
  {
   "cell_type": "code",
   "execution_count": null,
   "id": "e4b4a151-77bb-416d-ae3f-1aed830506a7",
   "metadata": {},
   "outputs": [],
   "source": [
    "#numpy introduction\n",
    "#numpy usecase \n",
    "#text,audio,image,number,xm,---must convert to array\n",
    "#arange()\n",
    "#zeros()\n",
    "#ones()\n",
    "#np.random.rand()\n",
    "#np.random.randint()"
   ]
  },
  {
   "cell_type": "code",
   "execution_count": 144,
   "id": "1ba6fea6-3706-4634-ba40-87909f1a35f7",
   "metadata": {},
   "outputs": [
    {
     "data": {
      "text/plain": [
       "array([[ 1,  2,  3,  4],\n",
       "       [ 5,  6,  7,  8],\n",
       "       [ 9, 10, 11, 12]])"
      ]
     },
     "execution_count": 144,
     "metadata": {},
     "output_type": "execute_result"
    }
   ],
   "source": [
    "np.arange(1,13).reshape(3,4)# if we have to reshape the numbers."
   ]
  },
  {
   "cell_type": "code",
   "execution_count": 156,
   "id": "dc52f09e-1ebb-43b7-b325-4397d9d63cba",
   "metadata": {},
   "outputs": [
    {
     "data": {
      "text/plain": [
       "array([[ 1,  2],\n",
       "       [ 3,  4],\n",
       "       [ 5,  6],\n",
       "       [ 7,  8],\n",
       "       [ 9, 10],\n",
       "       [11, 12]])"
      ]
     },
     "execution_count": 156,
     "metadata": {},
     "output_type": "execute_result"
    }
   ],
   "source": [
    "np.arange(1,13).reshape(6,2)"
   ]
  },
  {
   "cell_type": "code",
   "execution_count": 158,
   "id": "771f75f3-aac0-4bc5-9a29-2cb7780fec41",
   "metadata": {},
   "outputs": [
    {
     "data": {
      "text/plain": [
       "array([[ 1,  2,  3],\n",
       "       [ 4,  5,  6],\n",
       "       [ 7,  8,  9],\n",
       "       [10, 11, 12]])"
      ]
     },
     "execution_count": 158,
     "metadata": {},
     "output_type": "execute_result"
    }
   ],
   "source": [
    "np.arange(1,13).reshape(4,3)"
   ]
  },
  {
   "cell_type": "markdown",
   "id": "d91d19b8-3ee3-4929-abf6-33d3bcddf31c",
   "metadata": {},
   "source": [
    "# slicing in matrix"
   ]
  },
  {
   "cell_type": "code",
   "execution_count": 171,
   "id": "0cda725b-3d39-4000-96e4-bfc4b396a8b6",
   "metadata": {},
   "outputs": [
    {
     "data": {
      "text/plain": [
       "array([[18, 17, 17, 19],\n",
       "       [13, 18, 18, 17],\n",
       "       [19, 15, 15, 19],\n",
       "       [10, 11, 12, 16],\n",
       "       [12, 19, 10, 14]])"
      ]
     },
     "execution_count": 171,
     "metadata": {},
     "output_type": "execute_result"
    }
   ],
   "source": [
    "a= np.random.randint(10,20,(5,4))\n",
    "a"
   ]
  },
  {
   "cell_type": "code",
   "execution_count": 173,
   "id": "a29ece74-7859-4f02-8bbe-69be3872f2c2",
   "metadata": {},
   "outputs": [
    {
     "data": {
      "text/plain": [
       "numpy.ndarray"
      ]
     },
     "execution_count": 173,
     "metadata": {},
     "output_type": "execute_result"
    }
   ],
   "source": [
    "type(a)"
   ]
  },
  {
   "cell_type": "code",
   "execution_count": 175,
   "id": "4afd4ea7-1f4a-4e31-a35f-86897e0ad85f",
   "metadata": {},
   "outputs": [
    {
     "data": {
      "text/plain": [
       "array([[18, 17, 17, 19],\n",
       "       [13, 18, 18, 17],\n",
       "       [19, 15, 15, 19],\n",
       "       [10, 11, 12, 16],\n",
       "       [12, 19, 10, 14]])"
      ]
     },
     "execution_count": 175,
     "metadata": {},
     "output_type": "execute_result"
    }
   ],
   "source": [
    "a"
   ]
  },
  {
   "cell_type": "code",
   "execution_count": 179,
   "id": "d39b68ad-674c-4bb0-ba65-b9c3ff48e22c",
   "metadata": {},
   "outputs": [
    {
     "data": {
      "text/plain": [
       "array([[18, 17, 17, 19],\n",
       "       [13, 18, 18, 17],\n",
       "       [19, 15, 15, 19],\n",
       "       [10, 11, 12, 16],\n",
       "       [12, 19, 10, 14]])"
      ]
     },
     "execution_count": 179,
     "metadata": {},
     "output_type": "execute_result"
    }
   ],
   "source": [
    "a[:]"
   ]
  },
  {
   "cell_type": "code",
   "execution_count": null,
   "id": "edf181f2-fcf5-448d-81ec-6b9c2c8f74e8",
   "metadata": {},
   "outputs": [],
   "source": []
  }
 ],
 "metadata": {
  "kernelspec": {
   "display_name": "Python [conda env:base] *",
   "language": "python",
   "name": "conda-base-py"
  },
  "language_info": {
   "codemirror_mode": {
    "name": "ipython",
    "version": 3
   },
   "file_extension": ".py",
   "mimetype": "text/x-python",
   "name": "python",
   "nbconvert_exporter": "python",
   "pygments_lexer": "ipython3",
   "version": "3.12.7"
  }
 },
 "nbformat": 4,
 "nbformat_minor": 5
}
