{
 "cells": [
  {
   "cell_type": "markdown",
   "id": "ff88f926-0a9e-4320-a99c-3ed02f376c84",
   "metadata": {},
   "source": [
    "# 23rd APR ----->"
   ]
  },
  {
   "cell_type": "markdown",
   "id": "9af96484-96ca-4983-b4b9-679a46bd1e3a",
   "metadata": {},
   "source": [
    "# TUPLE"
   ]
  },
  {
   "cell_type": "code",
   "execution_count": 12,
   "id": "da929366-2339-4485-8ce4-c83f90baa09c",
   "metadata": {},
   "outputs": [
    {
     "data": {
      "text/plain": [
       "()"
      ]
     },
     "execution_count": 12,
     "metadata": {},
     "output_type": "execute_result"
    }
   ],
   "source": [
    "t = ()\n",
    "t"
   ]
  },
  {
   "cell_type": "code",
   "execution_count": 14,
   "id": "1037b4e2-3bd8-4ce1-93cb-236465484d90",
   "metadata": {},
   "outputs": [
    {
     "data": {
      "text/plain": [
       "0"
      ]
     },
     "execution_count": 14,
     "metadata": {},
     "output_type": "execute_result"
    }
   ],
   "source": [
    "len(t)"
   ]
  },
  {
   "cell_type": "code",
   "execution_count": 16,
   "id": "6871f5a3-1a8f-444d-a979-9b8dd0d8b38c",
   "metadata": {},
   "outputs": [
    {
     "data": {
      "text/plain": [
       "(10, 20, 30, 40, 50)"
      ]
     },
     "execution_count": 16,
     "metadata": {},
     "output_type": "execute_result"
    }
   ],
   "source": [
    "t1 = (10,20,30,40,50)\n",
    "t1"
   ]
  },
  {
   "cell_type": "code",
   "execution_count": 20,
   "id": "3d473ba3-94ec-449b-99ef-f852ce528e54",
   "metadata": {},
   "outputs": [
    {
     "data": {
      "text/plain": [
       "('a', 'b', 'z', 'm', 'n')"
      ]
     },
     "execution_count": 20,
     "metadata": {},
     "output_type": "execute_result"
    }
   ],
   "source": [
    "t2 = ('a','b','z','m','n')\n",
    "t2"
   ]
  },
  {
   "cell_type": "code",
   "execution_count": 22,
   "id": "6228d04e-bc75-42f3-b7c5-a269f22aa0aa",
   "metadata": {},
   "outputs": [
    {
     "data": {
      "text/plain": [
       "1"
      ]
     },
     "execution_count": 22,
     "metadata": {},
     "output_type": "execute_result"
    }
   ],
   "source": [
    "t2.count('z')"
   ]
  },
  {
   "cell_type": "code",
   "execution_count": 28,
   "id": "0332f153-1b9d-48a9-a559-c3a98800f068",
   "metadata": {},
   "outputs": [
    {
     "data": {
      "text/plain": [
       "0"
      ]
     },
     "execution_count": 28,
     "metadata": {},
     "output_type": "execute_result"
    }
   ],
   "source": [
    "t2.index('a')# it only  take direct value and it will given the index"
   ]
  },
  {
   "cell_type": "code",
   "execution_count": 30,
   "id": "a67a3bfe-0e0c-4cb3-a666-30f6fc88b22e",
   "metadata": {},
   "outputs": [
    {
     "data": {
      "text/plain": [
       "('a', 'b', 'z', 'm', 'n')"
      ]
     },
     "execution_count": 30,
     "metadata": {},
     "output_type": "execute_result"
    }
   ],
   "source": [
    "t2"
   ]
  },
  {
   "cell_type": "code",
   "execution_count": 32,
   "id": "4f188a60-95e9-4140-936e-3cc171c8b1bc",
   "metadata": {},
   "outputs": [
    {
     "data": {
      "text/plain": [
       "10"
      ]
     },
     "execution_count": 32,
     "metadata": {},
     "output_type": "execute_result"
    }
   ],
   "source": [
    "t1[0]"
   ]
  },
  {
   "cell_type": "code",
   "execution_count": 34,
   "id": "b50fc7bc-0ef4-4c0e-ac43-76465ead9eb8",
   "metadata": {},
   "outputs": [
    {
     "ename": "TypeError",
     "evalue": "'tuple' object does not support item assignment",
     "output_type": "error",
     "traceback": [
      "\u001b[1;31m---------------------------------------------------------------------------\u001b[0m",
      "\u001b[1;31mTypeError\u001b[0m                                 Traceback (most recent call last)",
      "Cell \u001b[1;32mIn[34], line 1\u001b[0m\n\u001b[1;32m----> 1\u001b[0m t1[\u001b[38;5;241m0\u001b[39m] \u001b[38;5;241m=\u001b[39m \u001b[38;5;241m100\u001b[39m\n",
      "\u001b[1;31mTypeError\u001b[0m: 'tuple' object does not support item assignment"
     ]
    }
   ],
   "source": [
    "t1[0] = 100"
   ]
  },
  {
   "cell_type": "code",
   "execution_count": 36,
   "id": "a395044c-b284-4bb6-b7cd-484e9ecd5204",
   "metadata": {},
   "outputs": [
    {
     "data": {
      "text/plain": [
       "('12345', '13th apr 2004', 123456, 'cvgz678892')"
      ]
     },
     "execution_count": 36,
     "metadata": {},
     "output_type": "execute_result"
    }
   ],
   "source": [
    "sbi = ('12345','13th apr 2004',123456,'cvgz678892')\n",
    "sbi"
   ]
  },
  {
   "cell_type": "code",
   "execution_count": 38,
   "id": "7f0e6179-7d16-4fc1-943c-062541f3d838",
   "metadata": {},
   "outputs": [
    {
     "ename": "TypeError",
     "evalue": "'tuple' object does not support item assignment",
     "output_type": "error",
     "traceback": [
      "\u001b[1;31m---------------------------------------------------------------------------\u001b[0m",
      "\u001b[1;31mTypeError\u001b[0m                                 Traceback (most recent call last)",
      "Cell \u001b[1;32mIn[38], line 1\u001b[0m\n\u001b[1;32m----> 1\u001b[0m sbi[\u001b[38;5;241m0\u001b[39m] \u001b[38;5;241m=\u001b[39m \u001b[38;5;241m12345\u001b[39m\n",
      "\u001b[1;31mTypeError\u001b[0m: 'tuple' object does not support item assignment"
     ]
    }
   ],
   "source": [
    "sbi[0] = 12345"
   ]
  },
  {
   "cell_type": "code",
   "execution_count": 40,
   "id": "c63132a0-0532-4877-b0fe-1beea8eaf18d",
   "metadata": {},
   "outputs": [
    {
     "data": {
      "text/plain": [
       "(10, 20, 30, 40, 50)"
      ]
     },
     "execution_count": 40,
     "metadata": {},
     "output_type": "execute_result"
    }
   ],
   "source": [
    "t1"
   ]
  },
  {
   "cell_type": "code",
   "execution_count": 42,
   "id": "36cdae78-f3c2-4e3e-b7b4-9141c3ba5094",
   "metadata": {},
   "outputs": [
    {
     "data": {
      "text/plain": [
       "(10, 20, 30, 40, 50, 10, 20, 30, 40, 50, 10, 20, 30, 40, 50)"
      ]
     },
     "execution_count": 42,
     "metadata": {},
     "output_type": "execute_result"
    }
   ],
   "source": [
    "t3 = t1* 3\n",
    "t3"
   ]
  },
  {
   "cell_type": "markdown",
   "id": "7515ea49-7d9d-410e-b525-fa93bf79fae8",
   "metadata": {},
   "source": [
    "# tuple completed"
   ]
  },
  {
   "cell_type": "code",
   "execution_count": 49,
   "id": "59369981-9095-463b-9f2b-a17d066aefb1",
   "metadata": {},
   "outputs": [
    {
     "data": {
      "text/plain": [
       "(10, 20, 30, 40, 10, 30)"
      ]
     },
     "execution_count": 49,
     "metadata": {},
     "output_type": "execute_result"
    }
   ],
   "source": [
    "t4 = (10,20,30,40,10,30) # duplicates are allowed\n",
    "t4"
   ]
  },
  {
   "cell_type": "code",
   "execution_count": 51,
   "id": "dfe9162b-62b6-46d4-af5b-7ed55923d103",
   "metadata": {},
   "outputs": [
    {
     "data": {
      "text/plain": [
       "(10, 20, 30)"
      ]
     },
     "execution_count": 51,
     "metadata": {},
     "output_type": "execute_result"
    }
   ],
   "source": [
    "t3[:3]"
   ]
  },
  {
   "cell_type": "code",
   "execution_count": 53,
   "id": "3ccc4ce3-dffe-4693-a8f9-2e1dd9ec60b2",
   "metadata": {},
   "outputs": [
    {
     "data": {
      "text/plain": [
       "(20, 30, 40, 50)"
      ]
     },
     "execution_count": 53,
     "metadata": {},
     "output_type": "execute_result"
    }
   ],
   "source": [
    "t3[1:5]"
   ]
  },
  {
   "cell_type": "code",
   "execution_count": null,
   "id": "bd766441-5856-4b79-88aa-e0bc90699770",
   "metadata": {},
   "outputs": [],
   "source": []
  }
 ],
 "metadata": {
  "kernelspec": {
   "display_name": "Python [conda env:base] *",
   "language": "python",
   "name": "conda-base-py"
  },
  "language_info": {
   "codemirror_mode": {
    "name": "ipython",
    "version": 3
   },
   "file_extension": ".py",
   "mimetype": "text/x-python",
   "name": "python",
   "nbconvert_exporter": "python",
   "pygments_lexer": "ipython3",
   "version": "3.12.7"
  }
 },
 "nbformat": 4,
 "nbformat_minor": 5
}
