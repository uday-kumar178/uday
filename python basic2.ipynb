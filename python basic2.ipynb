{
 "cells": [
  {
   "cell_type": "markdown",
   "id": "17114ab4-fa90-437e-859f-22eb10f8e118",
   "metadata": {},
   "source": [
    "17th april ai agentic ai python basics."
   ]
  },
  {
   "cell_type": "code",
   "execution_count": 4,
   "id": "30c0a8ae-f583-4954-804d-5a4bba9f4aec",
   "metadata": {},
   "outputs": [
    {
     "name": "stdout",
     "output_type": "stream",
     "text": [
      "<class 'bool'>\n"
     ]
    }
   ],
   "source": [
    "a = 3\n",
    "b = 4\n",
    "a == b\n",
    "print(type(a == b))"
   ]
  },
  {
   "cell_type": "code",
   "execution_count": 6,
   "id": "7ec986c4-68a7-4a0c-8555-61044a627974",
   "metadata": {},
   "outputs": [
    {
     "data": {
      "text/plain": [
       "True"
      ]
     },
     "execution_count": 6,
     "metadata": {},
     "output_type": "execute_result"
    }
   ],
   "source": [
    "True"
   ]
  },
  {
   "cell_type": "code",
   "execution_count": 8,
   "id": "926ce100-2cfe-4bbc-8cf2-6c972014bb55",
   "metadata": {},
   "outputs": [
    {
     "data": {
      "text/plain": [
       "False"
      ]
     },
     "execution_count": 8,
     "metadata": {},
     "output_type": "execute_result"
    }
   ],
   "source": [
    "False"
   ]
  },
  {
   "cell_type": "code",
   "execution_count": 10,
   "id": "d1f1815f-aeb5-47ad-898f-c6d06c0c5c4f",
   "metadata": {},
   "outputs": [
    {
     "name": "stdout",
     "output_type": "stream",
     "text": [
      "<class 'bool'>\n"
     ]
    }
   ],
   "source": [
    "b = True\n",
    "b1 = False\n",
    "b> b1\n",
    "print(type(b>b1))"
   ]
  },
  {
   "cell_type": "code",
   "execution_count": 14,
   "id": "d0c2012d-7f60-42fd-ade4-150b4cdc4e18",
   "metadata": {},
   "outputs": [
    {
     "data": {
      "text/plain": [
       "True"
      ]
     },
     "execution_count": 14,
     "metadata": {},
     "output_type": "execute_result"
    }
   ],
   "source": [
    "b = True\n",
    "b1 =False\n",
    "b"
   ]
  },
  {
   "cell_type": "code",
   "execution_count": 16,
   "id": "2d59c47a-3eb7-42d8-b267-1ce3354f1705",
   "metadata": {},
   "outputs": [
    {
     "data": {
      "text/plain": [
       "1"
      ]
     },
     "execution_count": 16,
     "metadata": {},
     "output_type": "execute_result"
    }
   ],
   "source": [
    "b+b1"
   ]
  },
  {
   "cell_type": "markdown",
   "id": "0f4ddb7e-a5f8-44aa-b471-b4b8141e02ce",
   "metadata": {},
   "source": [
    "print(b*b1)\n",
    "print(b1/b)#float division\n",
    "print(b1//b)#boolean division\n",
    "print(b+b1)"
   ]
  },
  {
   "cell_type": "code",
   "execution_count": 24,
   "id": "d7aaf850-c6f8-4dab-85a5-02302403a81f",
   "metadata": {},
   "outputs": [
    {
     "name": "stdout",
     "output_type": "stream",
     "text": [
      "1\n"
     ]
    }
   ],
   "source": [
    "print(b-b1)"
   ]
  },
  {
   "cell_type": "code",
   "execution_count": null,
   "id": "b57dd58f-c6c3-4a29-aa55-615c527e5509",
   "metadata": {},
   "outputs": [],
   "source": [
    "#complex datatype"
   ]
  },
  {
   "cell_type": "code",
   "execution_count": null,
   "id": "fe980606-89c4-4af7-909a-eb972d5163fe",
   "metadata": {},
   "outputs": [],
   "source": [
    "a+bj\n",
    "-a-real part\n",
    "-b-imaginary part\n",
    "-j -square root of-1"
   ]
  },
  {
   "cell_type": "code",
   "execution_count": 29,
   "id": "13ed179f-6143-4d15-9b22-28aa33285b2c",
   "metadata": {},
   "outputs": [
    {
     "name": "stdout",
     "output_type": "stream",
     "text": [
      "<class 'complex'>\n"
     ]
    }
   ],
   "source": [
    "c1 = 10+20j  # a+bj  is  the formula of complex \n",
    "print(type(c1))"
   ]
  },
  {
   "cell_type": "code",
   "execution_count": 31,
   "id": "5148b1a1-207f-4a79-8a53-374e39f17745",
   "metadata": {},
   "outputs": [
    {
     "data": {
      "text/plain": [
       "(10+20j)"
      ]
     },
     "execution_count": 31,
     "metadata": {},
     "output_type": "execute_result"
    }
   ],
   "source": [
    "c1"
   ]
  },
  {
   "cell_type": "code",
   "execution_count": 33,
   "id": "b8c59219-fdf6-47b1-9df5-99cec58b48e4",
   "metadata": {},
   "outputs": [
    {
     "data": {
      "text/plain": [
       "10.0"
      ]
     },
     "execution_count": 33,
     "metadata": {},
     "output_type": "execute_result"
    }
   ],
   "source": [
    "c1.real"
   ]
  },
  {
   "cell_type": "code",
   "execution_count": 35,
   "id": "ebe4c457-8892-40e7-b720-52be83b49b51",
   "metadata": {},
   "outputs": [
    {
     "data": {
      "text/plain": [
       "20.0"
      ]
     },
     "execution_count": 35,
     "metadata": {},
     "output_type": "execute_result"
    }
   ],
   "source": [
    "c1.imag"
   ]
  },
  {
   "cell_type": "code",
   "execution_count": 37,
   "id": "0b3ffe9d-8a92-4df4-bd63-691e18f0f5b0",
   "metadata": {},
   "outputs": [
    {
     "data": {
      "text/plain": [
       "(3+5j)"
      ]
     },
     "execution_count": 37,
     "metadata": {},
     "output_type": "execute_result"
    }
   ],
   "source": [
    "c2 = 3+5j\n",
    "c2"
   ]
  },
  {
   "cell_type": "code",
   "execution_count": 39,
   "id": "52937add-e6e0-42c7-9ed5-69387efd9fee",
   "metadata": {},
   "outputs": [
    {
     "name": "stdout",
     "output_type": "stream",
     "text": [
      "(10+20j)\n",
      "(3+5j)\n"
     ]
    }
   ],
   "source": [
    "print(c1)\n",
    "print(c2)"
   ]
  },
  {
   "cell_type": "code",
   "execution_count": 41,
   "id": "c8cffac5-2488-4358-8d27-7b8f28809065",
   "metadata": {},
   "outputs": [
    {
     "data": {
      "text/plain": [
       "(13+25j)"
      ]
     },
     "execution_count": 41,
     "metadata": {},
     "output_type": "execute_result"
    }
   ],
   "source": [
    "c1 + c2"
   ]
  },
  {
   "cell_type": "markdown",
   "id": "09e69ade-8790-4535-a86e-796b78f36dba",
   "metadata": {},
   "source": [
    "# python datatypes."
   ]
  },
  {
   "cell_type": "code",
   "execution_count": null,
   "id": "58d43fdb-e9a3-4877-bc78-1ec1b8c0d00a",
   "metadata": {},
   "outputs": [],
   "source": [
    "type casting or type conversion"
   ]
  },
  {
   "cell_type": "code",
   "execution_count": null,
   "id": "152c3dbf-ddd5-4fce-b14d-e55f53f6999a",
   "metadata": {},
   "outputs": [],
   "source": [
    "#python functions always ends with ():"
   ]
  },
  {
   "cell_type": "code",
   "execution_count": 43,
   "id": "88a43853-d875-4935-ad6f-4912203ce6e5",
   "metadata": {},
   "outputs": [
    {
     "data": {
      "text/plain": [
       "3"
      ]
     },
     "execution_count": 43,
     "metadata": {},
     "output_type": "execute_result"
    }
   ],
   "source": [
    "int(3.4)"
   ]
  },
  {
   "cell_type": "code",
   "execution_count": 45,
   "id": "018c0c95-ad58-492c-8b43-33391718cc93",
   "metadata": {},
   "outputs": [
    {
     "ename": "TypeError",
     "evalue": "'float' object cannot be interpreted as an integer",
     "output_type": "error",
     "traceback": [
      "\u001b[1;31m---------------------------------------------------------------------------\u001b[0m",
      "\u001b[1;31mTypeError\u001b[0m                                 Traceback (most recent call last)",
      "Cell \u001b[1;32mIn[45], line 1\u001b[0m\n\u001b[1;32m----> 1\u001b[0m \u001b[38;5;28mint\u001b[39m(\u001b[38;5;241m3.4\u001b[39m,\u001b[38;5;241m5.7\u001b[39m)\n",
      "\u001b[1;31mTypeError\u001b[0m: 'float' object cannot be interpreted as an integer"
     ]
    }
   ],
   "source": [
    "int(3.4,5.7)# float cant accept two decimal digits."
   ]
  },
  {
   "cell_type": "code",
   "execution_count": 47,
   "id": "748b79b3-4381-41f3-95c1-201f77cd4156",
   "metadata": {},
   "outputs": [
    {
     "data": {
      "text/plain": [
       "1"
      ]
     },
     "execution_count": 47,
     "metadata": {},
     "output_type": "execute_result"
    }
   ],
   "source": [
    "int(True)"
   ]
  },
  {
   "cell_type": "code",
   "execution_count": 49,
   "id": "20b1e25e-e445-40b3-ad34-fa41b969d01e",
   "metadata": {},
   "outputs": [
    {
     "ename": "TypeError",
     "evalue": "int() can't convert non-string with explicit base",
     "output_type": "error",
     "traceback": [
      "\u001b[1;31m---------------------------------------------------------------------------\u001b[0m",
      "\u001b[1;31mTypeError\u001b[0m                                 Traceback (most recent call last)",
      "Cell \u001b[1;32mIn[49], line 1\u001b[0m\n\u001b[1;32m----> 1\u001b[0m \u001b[38;5;28mint\u001b[39m(\u001b[38;5;28;01mTrue\u001b[39;00m,\u001b[38;5;28;01mFalse\u001b[39;00m)\n",
      "\u001b[1;31mTypeError\u001b[0m: int() can't convert non-string with explicit base"
     ]
    }
   ],
   "source": [
    "int(True,False)"
   ]
  },
  {
   "cell_type": "code",
   "execution_count": 51,
   "id": "729dca2f-baf9-4993-becd-78c15ac31ebf",
   "metadata": {},
   "outputs": [
    {
     "data": {
      "text/plain": [
       "0"
      ]
     },
     "execution_count": 51,
     "metadata": {},
     "output_type": "execute_result"
    }
   ],
   "source": [
    "int(False)"
   ]
  },
  {
   "cell_type": "code",
   "execution_count": 53,
   "id": "55851feb-f4fc-40c9-bbfd-7a1e04798c7d",
   "metadata": {},
   "outputs": [
    {
     "name": "stdout",
     "output_type": "stream",
     "text": [
      "3\n",
      "1\n",
      "10\n"
     ]
    }
   ],
   "source": [
    "print(int(3.4))\n",
    "print(int(True))# in string only number string will be allowed.\n",
    "print(int('10'))"
   ]
  },
  {
   "cell_type": "code",
   "execution_count": 57,
   "id": "1369fcac-4439-443c-9c7b-697407e89db6",
   "metadata": {},
   "outputs": [
    {
     "ename": "TypeError",
     "evalue": "int() argument must be a string, a bytes-like object or a real number, not 'complex'",
     "output_type": "error",
     "traceback": [
      "\u001b[1;31m---------------------------------------------------------------------------\u001b[0m",
      "\u001b[1;31mTypeError\u001b[0m                                 Traceback (most recent call last)",
      "Cell \u001b[1;32mIn[57], line 1\u001b[0m\n\u001b[1;32m----> 1\u001b[0m \u001b[38;5;28mprint\u001b[39m(\u001b[38;5;28mint\u001b[39m(\u001b[38;5;241m10\u001b[39m\u001b[38;5;241m+\u001b[39m\u001b[38;5;241m20\u001b[39mj))\n",
      "\u001b[1;31mTypeError\u001b[0m: int() argument must be a string, a bytes-like object or a real number, not 'complex'"
     ]
    }
   ],
   "source": [
    "print(int(10+20j)) # in typecasting from other dtaattype to int possible except complex"
   ]
  },
  {
   "cell_type": "code",
   "execution_count": null,
   "id": "7a1380df-3ccf-4bbe-9f3d-707949a036fa",
   "metadata": {},
   "outputs": [],
   "source": [
    "# FROM ALL OTHER DATATTYPES TO  INT \n",
    "# COMPLEX  AND STRING TEXT IS NOT ALLOWED"
   ]
  },
  {
   "cell_type": "code",
   "execution_count": null,
   "id": "3310944d-84df-4707-8df2-558c3d7d8e33",
   "metadata": {},
   "outputs": [],
   "source": []
  }
 ],
 "metadata": {
  "kernelspec": {
   "display_name": "Python [conda env:base] *",
   "language": "python",
   "name": "conda-base-py"
  },
  "language_info": {
   "codemirror_mode": {
    "name": "ipython",
    "version": 3
   },
   "file_extension": ".py",
   "mimetype": "text/x-python",
   "name": "python",
   "nbconvert_exporter": "python",
   "pygments_lexer": "ipython3",
   "version": "3.12.7"
  }
 },
 "nbformat": 4,
 "nbformat_minor": 5
}
