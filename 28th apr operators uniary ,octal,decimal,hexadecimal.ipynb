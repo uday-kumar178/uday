{
 "cells": [
  {
   "cell_type": "markdown",
   "id": "25632c37-250e-42de-aa1d-b5819f36b644",
   "metadata": {},
   "source": [
    "# introduce to ID()"
   ]
  },
  {
   "cell_type": "code",
   "execution_count": 2,
   "id": "f7aa5b19-f286-4b98-8cd6-0f5215953e20",
   "metadata": {},
   "outputs": [
    {
     "data": {
      "text/plain": [
       "140726125734456"
      ]
     },
     "execution_count": 2,
     "metadata": {},
     "output_type": "execute_result"
    }
   ],
   "source": [
    "num = 5\n",
    "id(num)"
   ]
  },
  {
   "cell_type": "code",
   "execution_count": 4,
   "id": "d483723a-9715-4f80-a9c4-ea81862b22cf",
   "metadata": {},
   "outputs": [
    {
     "data": {
      "text/plain": [
       "2341752898832"
      ]
     },
     "execution_count": 4,
     "metadata": {},
     "output_type": "execute_result"
    }
   ],
   "source": [
    "name = 'uda'\n",
    "id('uda') # address will be different for both"
   ]
  },
  {
   "cell_type": "code",
   "execution_count": 6,
   "id": "ac6b075a-be21-4106-86fd-58ae0426d723",
   "metadata": {},
   "outputs": [
    {
     "data": {
      "text/plain": [
       "140726125734616"
      ]
     },
     "execution_count": 6,
     "metadata": {},
     "output_type": "execute_result"
    }
   ],
   "source": [
    "a = 10\n",
    "id(a)"
   ]
  },
  {
   "cell_type": "code",
   "execution_count": 8,
   "id": "c3d3c657-52ab-4015-91a6-64723592d2ef",
   "metadata": {},
   "outputs": [
    {
     "data": {
      "text/plain": [
       "140726125734616"
      ]
     },
     "execution_count": 8,
     "metadata": {},
     "output_type": "execute_result"
    }
   ],
   "source": [
    "id (10)"
   ]
  },
  {
   "cell_type": "code",
   "execution_count": 10,
   "id": "4025f580-8149-471c-8014-43ad006badf7",
   "metadata": {},
   "outputs": [
    {
     "data": {
      "text/plain": [
       "140726125734936"
      ]
     },
     "execution_count": 10,
     "metadata": {},
     "output_type": "execute_result"
    }
   ],
   "source": [
    "a = 20\n",
    "id(a)"
   ]
  },
  {
   "cell_type": "code",
   "execution_count": 12,
   "id": "9b495b0f-3f71-411e-bbcd-8d3eb8e81180",
   "metadata": {},
   "outputs": [
    {
     "data": {
      "text/plain": [
       "float"
      ]
     },
     "execution_count": 12,
     "metadata": {},
     "output_type": "execute_result"
    }
   ],
   "source": [
    "w = 2.5\n",
    "type(w)"
   ]
  },
  {
   "cell_type": "markdown",
   "id": "dbf52829-901d-41f3-a4d9-1dea16b261e2",
   "metadata": {},
   "source": [
    "# unary operator"
   ]
  },
  {
   "cell_type": "code",
   "execution_count": null,
   "id": "cae13dd8-1c7a-4f9a-8e60-003d726da490",
   "metadata": {},
   "outputs": [],
   "source": [
    "n = 7 #negattion"
   ]
  },
  {
   "cell_type": "markdown",
   "id": "fd270594-d696-404d-9f43-1beb77d6d8e9",
   "metadata": {},
   "source": [
    "# relational operator"
   ]
  },
  {
   "cell_type": "code",
   "execution_count": 26,
   "id": "c816ad90-039a-40b9-88be-148da0be2d26",
   "metadata": {},
   "outputs": [],
   "source": [
    "a = 5\n",
    "b = 6"
   ]
  },
  {
   "cell_type": "code",
   "execution_count": 28,
   "id": "da386818-c029-4943-b0ec-7f4f1a32c472",
   "metadata": {},
   "outputs": [
    {
     "data": {
      "text/plain": [
       "False"
      ]
     },
     "execution_count": 28,
     "metadata": {},
     "output_type": "execute_result"
    }
   ],
   "source": [
    "a == b"
   ]
  },
  {
   "cell_type": "code",
   "execution_count": 30,
   "id": "78789709-75cc-4d42-99e5-cda153db1a6f",
   "metadata": {},
   "outputs": [
    {
     "data": {
      "text/plain": [
       "True"
      ]
     },
     "execution_count": 30,
     "metadata": {},
     "output_type": "execute_result"
    }
   ],
   "source": [
    "a<b"
   ]
  },
  {
   "cell_type": "code",
   "execution_count": 32,
   "id": "5925943b-503c-4cef-b1c4-d85315eeb4cb",
   "metadata": {},
   "outputs": [
    {
     "data": {
      "text/plain": [
       "False"
      ]
     },
     "execution_count": 32,
     "metadata": {},
     "output_type": "execute_result"
    }
   ],
   "source": [
    "a>b"
   ]
  },
  {
   "cell_type": "code",
   "execution_count": 36,
   "id": "4079cfae-53ff-4155-b8ac-7ae62f4581c5",
   "metadata": {},
   "outputs": [],
   "source": [
    " a=b # we cannot use = operator that means it is assigning"
   ]
  },
  {
   "cell_type": "code",
   "execution_count": 38,
   "id": "46fd35bb-1e03-4c94-adea-25b1df83a83f",
   "metadata": {},
   "outputs": [
    {
     "data": {
      "text/plain": [
       "True"
      ]
     },
     "execution_count": 38,
     "metadata": {},
     "output_type": "execute_result"
    }
   ],
   "source": [
    "a == b"
   ]
  },
  {
   "cell_type": "code",
   "execution_count": 40,
   "id": "b96eadd2-9b97-4119-ab5e-01cc18f329e9",
   "metadata": {},
   "outputs": [],
   "source": [
    "a = 10"
   ]
  },
  {
   "cell_type": "code",
   "execution_count": 46,
   "id": "7a3d52fc-3024-4fc2-ba11-ec5cd6f81c4a",
   "metadata": {},
   "outputs": [
    {
     "data": {
      "text/plain": [
       "True"
      ]
     },
     "execution_count": 46,
     "metadata": {},
     "output_type": "execute_result"
    }
   ],
   "source": [
    "a!=b"
   ]
  },
  {
   "cell_type": "code",
   "execution_count": 48,
   "id": "02fdeb4e-fb45-489d-ba6f-7bd76254bb88",
   "metadata": {},
   "outputs": [],
   "source": [
    "b = 10"
   ]
  },
  {
   "cell_type": "code",
   "execution_count": 50,
   "id": "2032a590-35cd-4e4f-8d4e-90135855ba52",
   "metadata": {},
   "outputs": [
    {
     "data": {
      "text/plain": [
       "True"
      ]
     },
     "execution_count": 50,
     "metadata": {},
     "output_type": "execute_result"
    }
   ],
   "source": [
    "a==b"
   ]
  },
  {
   "cell_type": "code",
   "execution_count": 52,
   "id": "56096e6b-0613-431c-abc6-6d66d23a7ac9",
   "metadata": {},
   "outputs": [
    {
     "data": {
      "text/plain": [
       "True"
      ]
     },
     "execution_count": 52,
     "metadata": {},
     "output_type": "execute_result"
    }
   ],
   "source": [
    "a>=b"
   ]
  },
  {
   "cell_type": "code",
   "execution_count": 54,
   "id": "b443097f-77bf-4431-a24d-efce13e65e1d",
   "metadata": {},
   "outputs": [
    {
     "data": {
      "text/plain": [
       "True"
      ]
     },
     "execution_count": 54,
     "metadata": {},
     "output_type": "execute_result"
    }
   ],
   "source": [
    "a<=b"
   ]
  },
  {
   "cell_type": "code",
   "execution_count": 56,
   "id": "f6966e51-5031-4841-a196-051fa2eff876",
   "metadata": {},
   "outputs": [],
   "source": [
    "b = 7"
   ]
  },
  {
   "cell_type": "code",
   "execution_count": 58,
   "id": "857dc47c-d5a7-4a82-b6a3-5fe811da1037",
   "metadata": {},
   "outputs": [
    {
     "data": {
      "text/plain": [
       "True"
      ]
     },
     "execution_count": 58,
     "metadata": {},
     "output_type": "execute_result"
    }
   ],
   "source": [
    "a!=b"
   ]
  },
  {
   "cell_type": "markdown",
   "id": "4f8d7a19-ca6b-4595-82dc-3240932bfa46",
   "metadata": {},
   "source": [
    "# logical operator"
   ]
  },
  {
   "cell_type": "markdown",
   "id": "1ccb537b-60ca-4c58-bf0d-822977f33d89",
   "metadata": {},
   "source": [
    "# AND OR NOT"
   ]
  },
  {
   "cell_type": "code",
   "execution_count": 64,
   "id": "d0c9d5e1-57e9-4275-b007-57b0d4d84ff8",
   "metadata": {},
   "outputs": [],
   "source": [
    "a = 5\n",
    "b = 4"
   ]
  },
  {
   "cell_type": "code",
   "execution_count": 66,
   "id": "f94126ab-b07a-45d8-ba04-5bb61e4bc4b1",
   "metadata": {},
   "outputs": [
    {
     "data": {
      "text/plain": [
       "True"
      ]
     },
     "execution_count": 66,
     "metadata": {},
     "output_type": "execute_result"
    }
   ],
   "source": [
    "a<8 and b<5"
   ]
  },
  {
   "cell_type": "code",
   "execution_count": 68,
   "id": "4db21760-59e5-4af3-ba1c-e574674c19ba",
   "metadata": {},
   "outputs": [
    {
     "data": {
      "text/plain": [
       "False"
      ]
     },
     "execution_count": 68,
     "metadata": {},
     "output_type": "execute_result"
    }
   ],
   "source": [
    "a>8 and b >5"
   ]
  },
  {
   "cell_type": "code",
   "execution_count": 70,
   "id": "9ddfad92-ece8-463f-9b07-70a5a8037ba5",
   "metadata": {},
   "outputs": [
    {
     "data": {
      "text/plain": [
       "False"
      ]
     },
     "execution_count": 70,
     "metadata": {},
     "output_type": "execute_result"
    }
   ],
   "source": [
    "x = False\n",
    "x"
   ]
  },
  {
   "cell_type": "code",
   "execution_count": 72,
   "id": "af934135-697b-4a5c-ba7a-ebd5d7e4dd41",
   "metadata": {},
   "outputs": [
    {
     "data": {
      "text/plain": [
       "True"
      ]
     },
     "execution_count": 72,
     "metadata": {},
     "output_type": "execute_result"
    }
   ],
   "source": [
    "not x"
   ]
  },
  {
   "cell_type": "code",
   "execution_count": 74,
   "id": "07e5e9e4-814b-4d75-b3f2-81e1c0b64eed",
   "metadata": {},
   "outputs": [
    {
     "data": {
      "text/plain": [
       "True"
      ]
     },
     "execution_count": 74,
     "metadata": {},
     "output_type": "execute_result"
    }
   ],
   "source": [
    "x = not x\n",
    "x"
   ]
  },
  {
   "cell_type": "code",
   "execution_count": 76,
   "id": "9328cd4a-23a8-472a-b66c-7933e1bfe896",
   "metadata": {},
   "outputs": [
    {
     "data": {
      "text/plain": [
       "True"
      ]
     },
     "execution_count": 76,
     "metadata": {},
     "output_type": "execute_result"
    }
   ],
   "source": [
    "x"
   ]
  },
  {
   "cell_type": "markdown",
   "id": "4a828a33-6071-4c7f-b332-5e3da9b5b634",
   "metadata": {},
   "source": [
    "# binary digit"
   ]
  },
  {
   "cell_type": "code",
   "execution_count": 79,
   "id": "24b34baa-a9e5-48aa-9e2b-2d5d6cb28c43",
   "metadata": {},
   "outputs": [
    {
     "data": {
      "text/plain": [
       "'0b11001'"
      ]
     },
     "execution_count": 79,
     "metadata": {},
     "output_type": "execute_result"
    }
   ],
   "source": [
    "bin(25)"
   ]
  },
  {
   "cell_type": "code",
   "execution_count": 81,
   "id": "dde2ea7f-85e4-4b4c-bbf8-962e0604a193",
   "metadata": {},
   "outputs": [
    {
     "data": {
      "text/plain": [
       "25"
      ]
     },
     "execution_count": 81,
     "metadata": {},
     "output_type": "execute_result"
    }
   ],
   "source": [
    "int(0b11001)"
   ]
  },
  {
   "cell_type": "code",
   "execution_count": 83,
   "id": "c612b0aa-8a47-42da-8a5f-50a6de5bacb3",
   "metadata": {},
   "outputs": [
    {
     "data": {
      "text/plain": [
       "'0b100011'"
      ]
     },
     "execution_count": 83,
     "metadata": {},
     "output_type": "execute_result"
    }
   ],
   "source": [
    "bin(35)"
   ]
  },
  {
   "cell_type": "code",
   "execution_count": 85,
   "id": "a4f5109c-2421-4964-afb3-00f7e74def6a",
   "metadata": {},
   "outputs": [
    {
     "data": {
      "text/plain": [
       "35"
      ]
     },
     "execution_count": 85,
     "metadata": {},
     "output_type": "execute_result"
    }
   ],
   "source": [
    "int(0b100011)"
   ]
  },
  {
   "cell_type": "markdown",
   "id": "3ea8df8c-d552-47f8-9f07-869200988328",
   "metadata": {},
   "source": [
    "# octal     "
   ]
  },
  {
   "cell_type": "markdown",
   "id": "60fbf86b-98f4-4372-85fb-a054ceb80750",
   "metadata": {},
   "source": [
    "# where the value represents \"8\""
   ]
  },
  {
   "cell_type": "markdown",
   "id": "1f4d3e87-cb9f-47ac-9ce5-64dded65e8a0",
   "metadata": {},
   "source": [
    "# where it define has\"0O\""
   ]
  },
  {
   "cell_type": "code",
   "execution_count": 87,
   "id": "3594877a-50a8-4ab7-ae68-39d5b79afe7d",
   "metadata": {},
   "outputs": [
    {
     "data": {
      "text/plain": [
       "'0o17'"
      ]
     },
     "execution_count": 87,
     "metadata": {},
     "output_type": "execute_result"
    }
   ],
   "source": [
    "oct(15)"
   ]
  },
  {
   "cell_type": "code",
   "execution_count": 89,
   "id": "b8693cb5-300c-4728-b163-14cfb8bb6753",
   "metadata": {},
   "outputs": [
    {
     "data": {
      "text/plain": [
       "15"
      ]
     },
     "execution_count": 89,
     "metadata": {},
     "output_type": "execute_result"
    }
   ],
   "source": [
    "int(0o17)"
   ]
  },
  {
   "cell_type": "code",
   "execution_count": 91,
   "id": "d6b62e5e-3801-4cc9-961f-2abbbbf56a25",
   "metadata": {},
   "outputs": [
    {
     "data": {
      "text/plain": [
       "'0o50'"
      ]
     },
     "execution_count": 91,
     "metadata": {},
     "output_type": "execute_result"
    }
   ],
   "source": [
    "oct(40)"
   ]
  },
  {
   "cell_type": "code",
   "execution_count": 93,
   "id": "62821e9e-2acd-4130-88ea-373c11bc2b7d",
   "metadata": {},
   "outputs": [
    {
     "data": {
      "text/plain": [
       "40"
      ]
     },
     "execution_count": 93,
     "metadata": {},
     "output_type": "execute_result"
    }
   ],
   "source": [
    "int(0o50)"
   ]
  },
  {
   "cell_type": "markdown",
   "id": "c956224b-a6c9-4652-b6aa-ee1fd54e1291",
   "metadata": {},
   "source": [
    "# HEXADECIMAL"
   ]
  },
  {
   "cell_type": "markdown",
   "id": "690e24fc-e803-43c8-ba70-700746d9429b",
   "metadata": {},
   "source": [
    "# where in hexadecimal the values represet with \"16\""
   ]
  },
  {
   "cell_type": "markdown",
   "id": "5eedb37f-5304-493e-81cf-091b4074819b",
   "metadata": {},
   "source": [
    "# \"0x\" is the representing value "
   ]
  },
  {
   "cell_type": "code",
   "execution_count": 95,
   "id": "4bbb1bac-3e5c-4a2a-a053-6857224cea5d",
   "metadata": {},
   "outputs": [
    {
     "data": {
      "text/plain": [
       "'0xf'"
      ]
     },
     "execution_count": 95,
     "metadata": {},
     "output_type": "execute_result"
    }
   ],
   "source": [
    "hex(15)"
   ]
  },
  {
   "cell_type": "code",
   "execution_count": 97,
   "id": "1fd797fb-2d1a-4b67-b724-5ac5f89384b1",
   "metadata": {},
   "outputs": [
    {
     "data": {
      "text/plain": [
       "15"
      ]
     },
     "execution_count": 97,
     "metadata": {},
     "output_type": "execute_result"
    }
   ],
   "source": [
    "int(0xf)"
   ]
  },
  {
   "cell_type": "code",
   "execution_count": 99,
   "id": "48c57fd1-8479-400a-a80d-4ef265639d4a",
   "metadata": {},
   "outputs": [
    {
     "data": {
      "text/plain": [
       "'0x9'"
      ]
     },
     "execution_count": 99,
     "metadata": {},
     "output_type": "execute_result"
    }
   ],
   "source": [
    "hex(9)"
   ]
  },
  {
   "cell_type": "code",
   "execution_count": 101,
   "id": "53882284-d61f-4dea-96a3-bb9353d8bea6",
   "metadata": {},
   "outputs": [
    {
     "data": {
      "text/plain": [
       "9"
      ]
     },
     "execution_count": 101,
     "metadata": {},
     "output_type": "execute_result"
    }
   ],
   "source": [
    "int(0x9)"
   ]
  },
  {
   "cell_type": "markdown",
   "id": "b01cc66a-a3b2-421c-8c7d-b4f504fc5dd3",
   "metadata": {},
   "source": [
    "# swap variable in python"
   ]
  },
  {
   "cell_type": "code",
   "execution_count": 104,
   "id": "b0b2ba84-dba8-4143-a387-9ece0e735882",
   "metadata": {},
   "outputs": [],
   "source": [
    "a = 5\n",
    "b = 6"
   ]
  },
  {
   "cell_type": "code",
   "execution_count": 106,
   "id": "c285e338-c770-47a3-9500-fdab9d5ecc07",
   "metadata": {},
   "outputs": [],
   "source": [
    "a = b\n",
    "b = a"
   ]
  },
  {
   "cell_type": "code",
   "execution_count": 108,
   "id": "edc1b254-a610-4dd8-aac8-411effa26b8c",
   "metadata": {},
   "outputs": [],
   "source": [
    "a,b = b,a"
   ]
  },
  {
   "cell_type": "code",
   "execution_count": 110,
   "id": "6b6b8cfd-9e42-4e43-b069-94fedc664230",
   "metadata": {},
   "outputs": [
    {
     "name": "stdout",
     "output_type": "stream",
     "text": [
      "6\n",
      "6\n"
     ]
    }
   ],
   "source": [
    "print(a)\n",
    "print(b)"
   ]
  },
  {
   "cell_type": "code",
   "execution_count": 112,
   "id": "78ca74fa-0169-4ef2-81c9-6e76865814d5",
   "metadata": {},
   "outputs": [],
   "source": [
    "a1 = 7\n",
    "b1 = 8"
   ]
  },
  {
   "cell_type": "code",
   "execution_count": 114,
   "id": "6e14c1ce-38f8-47ef-a5f3-88537b837863",
   "metadata": {},
   "outputs": [],
   "source": [
    "temp = a1\n",
    "a1 = b1\n",
    "b1 = temp"
   ]
  },
  {
   "cell_type": "code",
   "execution_count": 116,
   "id": "f4e4b337-de47-4bda-a045-b1b3026727ef",
   "metadata": {},
   "outputs": [
    {
     "name": "stdout",
     "output_type": "stream",
     "text": [
      "8\n",
      "7\n"
     ]
    }
   ],
   "source": [
    "print(a1)\n",
    "print(b1)"
   ]
  },
  {
   "cell_type": "code",
   "execution_count": 118,
   "id": "613a4307-7a04-4eef-b626-06213c5318c8",
   "metadata": {},
   "outputs": [],
   "source": [
    "a2 = 5\n",
    "b2 = 6"
   ]
  },
  {
   "cell_type": "code",
   "execution_count": 120,
   "id": "c9e5853a-5e7f-4576-987b-496dc4d1f03b",
   "metadata": {},
   "outputs": [
    {
     "name": "stdout",
     "output_type": "stream",
     "text": [
      "6\n",
      "5\n"
     ]
    }
   ],
   "source": [
    "temp = a2\n",
    "a2 = b2\n",
    "b2 = temp\n",
    "print(a2)\n",
    "print(b2)"
   ]
  },
  {
   "cell_type": "markdown",
   "id": "2f197490-40c6-44fb-b660-7def63a4da08",
   "metadata": {},
   "source": [
    "# swap variable formulas."
   ]
  },
  {
   "cell_type": "code",
   "execution_count": 123,
   "id": "e87e636d-7a96-45e5-aa56-76a94617c9e9",
   "metadata": {},
   "outputs": [],
   "source": [
    "a2 = a2+ b2\n",
    "b2 = a2-b2\n",
    "a2 = a2-b2"
   ]
  },
  {
   "cell_type": "code",
   "execution_count": 125,
   "id": "e06042dc-65f7-492e-9791-1a8eabb9b823",
   "metadata": {},
   "outputs": [
    {
     "name": "stdout",
     "output_type": "stream",
     "text": [
      "5\n",
      "6\n"
     ]
    }
   ],
   "source": [
    "print(a2)\n",
    "print(b2)"
   ]
  },
  {
   "cell_type": "code",
   "execution_count": 127,
   "id": "11750b80-99b1-4a0a-90f7-b2371e552123",
   "metadata": {},
   "outputs": [
    {
     "name": "stdout",
     "output_type": "stream",
     "text": [
      "5\n",
      "6\n"
     ]
    }
   ],
   "source": [
    "print(0b101)\n",
    "print(0b110)"
   ]
  },
  {
   "cell_type": "code",
   "execution_count": 129,
   "id": "077b4b3e-9819-4912-877f-363a2ae92fed",
   "metadata": {},
   "outputs": [
    {
     "name": "stdout",
     "output_type": "stream",
     "text": [
      "0b1011\n",
      "11\n"
     ]
    }
   ],
   "source": [
    "print(bin(11))\n",
    "print(0b1011)\n",
    "# but when we use a2+b2 then we get 11 that means we will get 4 bit which is 1 bit extra"
   ]
  },
  {
   "cell_type": "code",
   "execution_count": 131,
   "id": "1670049f-1c77-4a40-9ea4-9dfbb13ef5d7",
   "metadata": {},
   "outputs": [
    {
     "name": "stdout",
     "output_type": "stream",
     "text": [
      "6\n",
      "5\n"
     ]
    }
   ],
   "source": [
    "# there is other way to work  using swap variable also which is XOR because it will not waste extra bit\n",
    "a2 = a2^b2\n",
    "b2 = a2^b2\n",
    "a2 = a2^b2\n",
    "print(a2)\n",
    "print(b2)"
   ]
  },
  {
   "cell_type": "code",
   "execution_count": 137,
   "id": "2dadb229-7e87-4d7c-ac01-d1fa3f5feaf6",
   "metadata": {},
   "outputs": [
    {
     "name": "stdout",
     "output_type": "stream",
     "text": [
      "5\n",
      "6\n"
     ]
    }
   ],
   "source": [
    "a2,b2 = b2,a2\n",
    "print(a2)\n",
    "print(b2)"
   ]
  },
  {
   "cell_type": "markdown",
   "id": "d50860a9-256a-4d01-b5b5-04b93dcad1ed",
   "metadata": {},
   "source": [
    "# bitwise operator"
   ]
  },
  {
   "cell_type": "code",
   "execution_count": 140,
   "id": "815c7850-836e-4071-bd87-56abd28bf0d8",
   "metadata": {},
   "outputs": [
    {
     "name": "stdout",
     "output_type": "stream",
     "text": [
      "0b1100\n",
      "0b1101\n"
     ]
    }
   ],
   "source": [
    "print(bin(12))\n",
    "print(bin(13))"
   ]
  },
  {
   "cell_type": "markdown",
   "id": "378fbd1d-a622-4a05-b9a6-d069b6b316ea",
   "metadata": {},
   "source": [
    "# COMPLEMENT --->you will get this  key below esc character"
   ]
  },
  {
   "cell_type": "code",
   "execution_count": 143,
   "id": "04fc3082-7b15-4198-98ce-96c7c28afeae",
   "metadata": {},
   "outputs": [
    {
     "data": {
      "text/plain": [
       "-13"
      ]
     },
     "execution_count": 143,
     "metadata": {},
     "output_type": "execute_result"
    }
   ],
   "source": [
    "~12"
   ]
  },
  {
   "cell_type": "code",
   "execution_count": 145,
   "id": "b22a60e9-cb07-43da-9f78-4d4b1904a06e",
   "metadata": {},
   "outputs": [
    {
     "data": {
      "text/plain": [
       "-46"
      ]
     },
     "execution_count": 145,
     "metadata": {},
     "output_type": "execute_result"
    }
   ],
   "source": [
    "~45"
   ]
  },
  {
   "cell_type": "code",
   "execution_count": 147,
   "id": "f20ee659-0419-4e11-a7bd-3586f2023a50",
   "metadata": {},
   "outputs": [
    {
     "data": {
      "text/plain": [
       "-7"
      ]
     },
     "execution_count": 147,
     "metadata": {},
     "output_type": "execute_result"
    }
   ],
   "source": [
    "~6"
   ]
  },
  {
   "cell_type": "code",
   "execution_count": 149,
   "id": "a136850d-707c-44c5-9e31-74fd41666c2b",
   "metadata": {},
   "outputs": [
    {
     "data": {
      "text/plain": [
       "5"
      ]
     },
     "execution_count": 149,
     "metadata": {},
     "output_type": "execute_result"
    }
   ],
   "source": [
    "~-6"
   ]
  },
  {
   "cell_type": "code",
   "execution_count": 151,
   "id": "eed0e18b-67f0-4d3f-bd63-691523f344ff",
   "metadata": {},
   "outputs": [
    {
     "data": {
      "text/plain": [
       "0"
      ]
     },
     "execution_count": 151,
     "metadata": {},
     "output_type": "execute_result"
    }
   ],
   "source": [
    "~-1"
   ]
  },
  {
   "cell_type": "markdown",
   "id": "c07baceb-a9fd-469f-91a6-775847c48444",
   "metadata": {},
   "source": [
    "# BIT WISE AND OPERATOR"
   ]
  },
  {
   "cell_type": "code",
   "execution_count": 154,
   "id": "649ca4ba-c47a-4280-8105-e61f2e36b964",
   "metadata": {},
   "outputs": [
    {
     "data": {
      "text/plain": [
       "12"
      ]
     },
     "execution_count": 154,
     "metadata": {},
     "output_type": "execute_result"
    }
   ],
   "source": [
    "12&13"
   ]
  },
  {
   "cell_type": "code",
   "execution_count": 156,
   "id": "aa84590f-f7ca-4fcc-a56d-c5adf7e23b52",
   "metadata": {},
   "outputs": [
    {
     "data": {
      "text/plain": [
       "1"
      ]
     },
     "execution_count": 156,
     "metadata": {},
     "output_type": "execute_result"
    }
   ],
   "source": [
    "1&1"
   ]
  },
  {
   "cell_type": "code",
   "execution_count": 158,
   "id": "50add2a9-eef3-4cc1-810e-34724859c481",
   "metadata": {},
   "outputs": [
    {
     "data": {
      "text/plain": [
       "1"
      ]
     },
     "execution_count": 158,
     "metadata": {},
     "output_type": "execute_result"
    }
   ],
   "source": [
    "1|0"
   ]
  },
  {
   "cell_type": "code",
   "execution_count": 160,
   "id": "a04b0d9a-1def-41a1-a1ec-3677a2c51dac",
   "metadata": {},
   "outputs": [
    {
     "data": {
      "text/plain": [
       "0"
      ]
     },
     "execution_count": 160,
     "metadata": {},
     "output_type": "execute_result"
    }
   ],
   "source": [
    "1&0"
   ]
  },
  {
   "cell_type": "code",
   "execution_count": 162,
   "id": "db238718-3618-4883-ab1f-766df23be6d5",
   "metadata": {},
   "outputs": [
    {
     "data": {
      "text/plain": [
       "13"
      ]
     },
     "execution_count": 162,
     "metadata": {},
     "output_type": "execute_result"
    }
   ],
   "source": [
    "12|13"
   ]
  },
  {
   "cell_type": "code",
   "execution_count": 164,
   "id": "9b12c067-a9f8-4c7b-a0dc-70bf2d3bff64",
   "metadata": {},
   "outputs": [
    {
     "data": {
      "text/plain": [
       "32"
      ]
     },
     "execution_count": 164,
     "metadata": {},
     "output_type": "execute_result"
    }
   ],
   "source": [
    "35&40"
   ]
  },
  {
   "cell_type": "code",
   "execution_count": 166,
   "id": "1ae7b2c1-50d6-4649-88ba-4ec7527d0652",
   "metadata": {},
   "outputs": [
    {
     "data": {
      "text/plain": [
       "43"
      ]
     },
     "execution_count": 166,
     "metadata": {},
     "output_type": "execute_result"
    }
   ],
   "source": [
    "35|40"
   ]
  },
  {
   "cell_type": "code",
   "execution_count": 168,
   "id": "11765185-5702-4163-9473-1667a2615279",
   "metadata": {},
   "outputs": [
    {
     "data": {
      "text/plain": [
       "1"
      ]
     },
     "execution_count": 168,
     "metadata": {},
     "output_type": "execute_result"
    }
   ],
   "source": [
    "12^13"
   ]
  },
  {
   "cell_type": "code",
   "execution_count": 170,
   "id": "194cd1c6-f94a-4dbc-a0e8-9d94e0294d0b",
   "metadata": {},
   "outputs": [
    {
     "data": {
      "text/plain": [
       "7"
      ]
     },
     "execution_count": 170,
     "metadata": {},
     "output_type": "execute_result"
    }
   ],
   "source": [
    "25^30"
   ]
  },
  {
   "cell_type": "code",
   "execution_count": 172,
   "id": "ab7f61e8-01e4-4b59-906d-dad127661713",
   "metadata": {},
   "outputs": [
    {
     "data": {
      "text/plain": [
       "'0b11001'"
      ]
     },
     "execution_count": 172,
     "metadata": {},
     "output_type": "execute_result"
    }
   ],
   "source": [
    "bin(25)"
   ]
  },
  {
   "cell_type": "code",
   "execution_count": 174,
   "id": "71c8009d-4859-48a2-aa8e-7c8e5dd60763",
   "metadata": {},
   "outputs": [
    {
     "data": {
      "text/plain": [
       "'0b11110'"
      ]
     },
     "execution_count": 174,
     "metadata": {},
     "output_type": "execute_result"
    }
   ],
   "source": [
    "bin(30)"
   ]
  },
  {
   "cell_type": "code",
   "execution_count": 176,
   "id": "f2efdb7c-7ba7-4d94-a7af-6f38b8a427f7",
   "metadata": {},
   "outputs": [
    {
     "data": {
      "text/plain": [
       "7"
      ]
     },
     "execution_count": 176,
     "metadata": {},
     "output_type": "execute_result"
    }
   ],
   "source": [
    "int(0b000111)"
   ]
  },
  {
   "cell_type": "code",
   "execution_count": 178,
   "id": "97b67f70-e93f-4bbe-9d6a-13b5d575f0f7",
   "metadata": {},
   "outputs": [
    {
     "data": {
      "text/plain": [
       "40"
      ]
     },
     "execution_count": 178,
     "metadata": {},
     "output_type": "execute_result"
    }
   ],
   "source": [
    "10<<2"
   ]
  },
  {
   "cell_type": "code",
   "execution_count": 180,
   "id": "87953536-c66d-416b-802c-8c63208e9bab",
   "metadata": {},
   "outputs": [
    {
     "data": {
      "text/plain": [
       "320"
      ]
     },
     "execution_count": 180,
     "metadata": {},
     "output_type": "execute_result"
    }
   ],
   "source": [
    "20<<4"
   ]
  },
  {
   "cell_type": "markdown",
   "id": "47a9c739-8418-416f-9318-65513c7da575",
   "metadata": {},
   "source": [
    "# import math module"
   ]
  },
  {
   "cell_type": "code",
   "execution_count": 183,
   "id": "2b5c7c39-61f0-4804-b074-2fc8109b141b",
   "metadata": {},
   "outputs": [
    {
     "ename": "NameError",
     "evalue": "name 'sqrt' is not defined",
     "output_type": "error",
     "traceback": [
      "\u001b[1;31m---------------------------------------------------------------------------\u001b[0m",
      "\u001b[1;31mNameError\u001b[0m                                 Traceback (most recent call last)",
      "Cell \u001b[1;32mIn[183], line 1\u001b[0m\n\u001b[1;32m----> 1\u001b[0m x \u001b[38;5;241m=\u001b[39m sqrt(\u001b[38;5;241m25\u001b[39m)\n",
      "\u001b[1;31mNameError\u001b[0m: name 'sqrt' is not defined"
     ]
    }
   ],
   "source": [
    "x = sqrt(25)"
   ]
  },
  {
   "cell_type": "code",
   "execution_count": 185,
   "id": "cfd5a2e6-9005-4266-bddf-fe0159f97060",
   "metadata": {},
   "outputs": [],
   "source": [
    "import math"
   ]
  },
  {
   "cell_type": "code",
   "execution_count": 187,
   "id": "64bdc126-4120-47f5-9e20-66947e90bc0d",
   "metadata": {},
   "outputs": [
    {
     "data": {
      "text/plain": [
       "5.0"
      ]
     },
     "execution_count": 187,
     "metadata": {},
     "output_type": "execute_result"
    }
   ],
   "source": [
    "x = math.sqrt(25)\n",
    "x"
   ]
  },
  {
   "cell_type": "code",
   "execution_count": 189,
   "id": "f7bf147b-4b7a-409e-aebb-7bf29e5c6452",
   "metadata": {},
   "outputs": [
    {
     "data": {
      "text/plain": [
       "5.0"
      ]
     },
     "execution_count": 189,
     "metadata": {},
     "output_type": "execute_result"
    }
   ],
   "source": [
    "x1 = math.sqrt(25)\n",
    "x"
   ]
  },
  {
   "cell_type": "code",
   "execution_count": 191,
   "id": "1711dbd8-a723-45ae-bd7a-cbd144c9c39c",
   "metadata": {},
   "outputs": [
    {
     "data": {
      "text/plain": [
       "3.872983346207417"
      ]
     },
     "execution_count": 191,
     "metadata": {},
     "output_type": "execute_result"
    }
   ],
   "source": [
    "x1 = math.sqrt(15)\n",
    "x1"
   ]
  },
  {
   "cell_type": "code",
   "execution_count": 195,
   "id": "774eaa82-b819-4e66-8e36-c5ade4e8d264",
   "metadata": {},
   "outputs": [
    {
     "name": "stdout",
     "output_type": "stream",
     "text": [
      "2\n"
     ]
    }
   ],
   "source": [
    "print(math.floor(2.9))# floor= minimum or least value"
   ]
  },
  {
   "cell_type": "code",
   "execution_count": 199,
   "id": "dae89803-6c11-42af-972e-6b01c7dcc442",
   "metadata": {},
   "outputs": [
    {
     "name": "stdout",
     "output_type": "stream",
     "text": [
      "3\n"
     ]
    }
   ],
   "source": [
    "print(math.ceil(2.9))# ceil= maximum or higher value"
   ]
  },
  {
   "cell_type": "code",
   "execution_count": 201,
   "id": "d93036e9-01e9-4d10-b364-3b2f1e616948",
   "metadata": {},
   "outputs": [
    {
     "name": "stdout",
     "output_type": "stream",
     "text": [
      "3.141592653589793\n"
     ]
    }
   ],
   "source": [
    "print(math.pi)# these are constant"
   ]
  },
  {
   "cell_type": "code",
   "execution_count": 203,
   "id": "e6a6703a-38ad-4592-97e2-dbbd28d246b6",
   "metadata": {},
   "outputs": [
    {
     "name": "stdout",
     "output_type": "stream",
     "text": [
      "2.718281828459045\n"
     ]
    }
   ],
   "source": [
    "print(math.e)# these are constant"
   ]
  },
  {
   "cell_type": "code",
   "execution_count": 205,
   "id": "093bf5dd-c68c-40e9-ab05-473953e966a1",
   "metadata": {},
   "outputs": [
    {
     "name": "stdout",
     "output_type": "stream",
     "text": [
      "2.718281828459045\n"
     ]
    }
   ],
   "source": [
    "print(math.e)# these are constant"
   ]
  },
  {
   "cell_type": "code",
   "execution_count": 207,
   "id": "47d0d806-7397-4c25-a8de-763c928e53a4",
   "metadata": {},
   "outputs": [
    {
     "data": {
      "text/plain": [
       "3.1622776601683795"
      ]
     },
     "execution_count": 207,
     "metadata": {},
     "output_type": "execute_result"
    }
   ],
   "source": [
    "import math as m\n",
    "m.sqrt(10)"
   ]
  },
  {
   "cell_type": "code",
   "execution_count": 209,
   "id": "1609d125-cc33-401a-9398-cc8679821ed9",
   "metadata": {},
   "outputs": [
    {
     "data": {
      "text/plain": [
       "8.0"
      ]
     },
     "execution_count": 209,
     "metadata": {},
     "output_type": "execute_result"
    }
   ],
   "source": [
    "from math import sqrt,pow\n",
    "pow(2,3)"
   ]
  },
  {
   "cell_type": "code",
   "execution_count": 217,
   "id": "c4359b71-1423-4c21-932f-a72510e6ca00",
   "metadata": {},
   "outputs": [
    {
     "data": {
      "text/plain": [
       "8"
      ]
     },
     "execution_count": 217,
     "metadata": {},
     "output_type": "execute_result"
    }
   ],
   "source": [
    "round(pow(2,3))"
   ]
  },
  {
   "cell_type": "code",
   "execution_count": null,
   "id": "a6ec63e4-ee55-4423-830e-e6c811558058",
   "metadata": {},
   "outputs": [],
   "source": [
    " "
   ]
  }
 ],
 "metadata": {
  "kernelspec": {
   "display_name": "Python [conda env:base] *",
   "language": "python",
   "name": "conda-base-py"
  },
  "language_info": {
   "codemirror_mode": {
    "name": "ipython",
    "version": 3
   },
   "file_extension": ".py",
   "mimetype": "text/x-python",
   "name": "python",
   "nbconvert_exporter": "python",
   "pygments_lexer": "ipython3",
   "version": "3.12.7"
  }
 },
 "nbformat": 4,
 "nbformat_minor": 5
}
