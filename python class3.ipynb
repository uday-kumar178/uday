{
 "cells": [
  {
   "cell_type": "markdown",
   "id": "21c18267-2cc6-4ba9-bc77-6e0997b66381",
   "metadata": {},
   "source": [
    "18th april.\n",
    "\n",
    "TYPECASTING."
   ]
  },
  {
   "cell_type": "code",
   "execution_count": 44,
   "id": "2f28396f-ae95-436c-9150-55d4db9b5acd",
   "metadata": {},
   "outputs": [
    {
     "data": {
      "text/plain": [
       "23.0"
      ]
     },
     "execution_count": 44,
     "metadata": {},
     "output_type": "execute_result"
    }
   ],
   "source": [
    "float(23)"
   ]
  },
  {
   "cell_type": "code",
   "execution_count": 46,
   "id": "75c68a8f-ee48-4d5c-addb-fbcea231638e",
   "metadata": {},
   "outputs": [
    {
     "ename": "TypeError",
     "evalue": "float expected at most 1 argument, got 2",
     "output_type": "error",
     "traceback": [
      "\u001b[1;31m---------------------------------------------------------------------------\u001b[0m",
      "\u001b[1;31mTypeError\u001b[0m                                 Traceback (most recent call last)",
      "Cell \u001b[1;32mIn[46], line 1\u001b[0m\n\u001b[1;32m----> 1\u001b[0m \u001b[38;5;28mfloat\u001b[39m(\u001b[38;5;241m23\u001b[39m,\u001b[38;5;241m45\u001b[39m)\n",
      "\u001b[1;31mTypeError\u001b[0m: float expected at most 1 argument, got 2"
     ]
    }
   ],
   "source": [
    "float(23,45)# only one argument is allowed"
   ]
  },
  {
   "cell_type": "code",
   "execution_count": 48,
   "id": "9bc9041c-d31f-4d61-8dac-0daf46e7142b",
   "metadata": {},
   "outputs": [
    {
     "data": {
      "text/plain": [
       "1.0"
      ]
     },
     "execution_count": 48,
     "metadata": {},
     "output_type": "execute_result"
    }
   ],
   "source": [
    "float(True)"
   ]
  },
  {
   "cell_type": "code",
   "execution_count": 50,
   "id": "aedcebcd-7916-4356-aee0-ce5161a0f66a",
   "metadata": {},
   "outputs": [
    {
     "ename": "ValueError",
     "evalue": "could not convert string to float: 'ten'",
     "output_type": "error",
     "traceback": [
      "\u001b[1;31m---------------------------------------------------------------------------\u001b[0m",
      "\u001b[1;31mValueError\u001b[0m                                Traceback (most recent call last)",
      "Cell \u001b[1;32mIn[50], line 1\u001b[0m\n\u001b[1;32m----> 1\u001b[0m \u001b[38;5;28mfloat\u001b[39m(\u001b[38;5;124m'\u001b[39m\u001b[38;5;124mten\u001b[39m\u001b[38;5;124m'\u001b[39m)\n",
      "\u001b[1;31mValueError\u001b[0m: could not convert string to float: 'ten'"
     ]
    }
   ],
   "source": [
    "float('ten')"
   ]
  },
  {
   "cell_type": "markdown",
   "id": "b2ac73dd-780d-4685-8bbe-d32edf855ef6",
   "metadata": {},
   "source": [
    "#FROM OTHER DATATTYPES TO FLOAT EXXCEPT COMPLEX &  'STRING TEXT'"
   ]
  },
  {
   "cell_type": "code",
   "execution_count": 2,
   "id": "28deef64-fafd-4635-bc16-f234ecb8ece7",
   "metadata": {},
   "outputs": [
    {
     "data": {
      "text/plain": [
       "(10+0j)"
      ]
     },
     "execution_count": 2,
     "metadata": {},
     "output_type": "execute_result"
    }
   ],
   "source": [
    "complex(10)"
   ]
  },
  {
   "cell_type": "code",
   "execution_count": 4,
   "id": "218ba35b-8f77-4fc4-9e27-d93d6daf16f5",
   "metadata": {},
   "outputs": [
    {
     "data": {
      "text/plain": [
       "(10+20j)"
      ]
     },
     "execution_count": 4,
     "metadata": {},
     "output_type": "execute_result"
    }
   ],
   "source": [
    "complex(10,20)"
   ]
  },
  {
   "cell_type": "code",
   "execution_count": 14,
   "id": "ebf08ad5-68c0-43da-93ec-f2bc3814b683",
   "metadata": {},
   "outputs": [
    {
     "ename": "TypeError",
     "evalue": "complex() takes at most 2 arguments (3 given)",
     "output_type": "error",
     "traceback": [
      "\u001b[1;31m---------------------------------------------------------------------------\u001b[0m",
      "\u001b[1;31mTypeError\u001b[0m                                 Traceback (most recent call last)",
      "Cell \u001b[1;32mIn[14], line 1\u001b[0m\n\u001b[1;32m----> 1\u001b[0m \u001b[38;5;28mcomplex\u001b[39m(\u001b[38;5;241m10\u001b[39m,\u001b[38;5;241m20\u001b[39m,\u001b[38;5;241m30\u001b[39m)\n",
      "\u001b[1;31mTypeError\u001b[0m: complex() takes at most 2 arguments (3 given)"
     ]
    }
   ],
   "source": [
    "complex(10,20,30) "
   ]
  },
  {
   "cell_type": "code",
   "execution_count": 10,
   "id": "403d9234-8fbf-4bae-a126-4d05bc799330",
   "metadata": {},
   "outputs": [
    {
     "data": {
      "text/plain": [
       "(1+0j)"
      ]
     },
     "execution_count": 10,
     "metadata": {},
     "output_type": "execute_result"
    }
   ],
   "source": [
    "complex(True)"
   ]
  },
  {
   "cell_type": "code",
   "execution_count": 12,
   "id": "ad757ef0-d6f2-4f22-bb29-7f8ee1616517",
   "metadata": {},
   "outputs": [
    {
     "data": {
      "text/plain": [
       "0j"
      ]
     },
     "execution_count": 12,
     "metadata": {},
     "output_type": "execute_result"
    }
   ],
   "source": [
    "complex(False)"
   ]
  },
  {
   "cell_type": "code",
   "execution_count": 16,
   "id": "2ff4e978-aa59-48e2-b3ee-61474f0c8c10",
   "metadata": {},
   "outputs": [
    {
     "data": {
      "text/plain": [
       "(10+0j)"
      ]
     },
     "execution_count": 16,
     "metadata": {},
     "output_type": "execute_result"
    }
   ],
   "source": [
    "complex('10')"
   ]
  },
  {
   "cell_type": "code",
   "execution_count": 18,
   "id": "daf50e6f-329c-47dd-82d3-0da508cd396e",
   "metadata": {},
   "outputs": [
    {
     "data": {
      "text/plain": [
       "(3.2+56j)"
      ]
     },
     "execution_count": 18,
     "metadata": {},
     "output_type": "execute_result"
    }
   ],
   "source": [
    "complex(3.2,56)"
   ]
  },
  {
   "cell_type": "markdown",
   "id": "1bf08f0c-2af7-4289-ad3f-1badb87abd81",
   "metadata": {},
   "source": [
    "# FROM OTHER  DATATYPES TO COMPLEX & TEXT STRING WILL NOT POSSIBLE"
   ]
  },
  {
   "cell_type": "code",
   "execution_count": 22,
   "id": "6a74e366-e809-4753-9b90-fdcd5840bd33",
   "metadata": {},
   "outputs": [
    {
     "data": {
      "text/plain": [
       "True"
      ]
     },
     "execution_count": 22,
     "metadata": {},
     "output_type": "execute_result"
    }
   ],
   "source": [
    "bool(10)"
   ]
  },
  {
   "cell_type": "code",
   "execution_count": 24,
   "id": "1a2b66c8-540b-4660-bce4-745b1b2d0204",
   "metadata": {},
   "outputs": [
    {
     "data": {
      "text/plain": [
       "False"
      ]
     },
     "execution_count": 24,
     "metadata": {},
     "output_type": "execute_result"
    }
   ],
   "source": [
    "bool(0)"
   ]
  },
  {
   "cell_type": "code",
   "execution_count": 26,
   "id": "fdb72176-db6c-4c85-aff4-9f5ce44e5b62",
   "metadata": {},
   "outputs": [
    {
     "data": {
      "text/plain": [
       "True"
      ]
     },
     "execution_count": 26,
     "metadata": {},
     "output_type": "execute_result"
    }
   ],
   "source": [
    "bool(3.2)"
   ]
  },
  {
   "cell_type": "code",
   "execution_count": 28,
   "id": "b99ccc34-0c1f-4491-977c-08eb85a9d7ce",
   "metadata": {},
   "outputs": [
    {
     "data": {
      "text/plain": [
       "False"
      ]
     },
     "execution_count": 28,
     "metadata": {},
     "output_type": "execute_result"
    }
   ],
   "source": [
    "bool(0.0)"
   ]
  },
  {
   "cell_type": "code",
   "execution_count": 30,
   "id": "a21cccdd-3733-41e6-91b3-189b28edee5b",
   "metadata": {},
   "outputs": [
    {
     "data": {
      "text/plain": [
       "True"
      ]
     },
     "execution_count": 30,
     "metadata": {},
     "output_type": "execute_result"
    }
   ],
   "source": [
    "bool(1+2j)"
   ]
  },
  {
   "cell_type": "code",
   "execution_count": 32,
   "id": "f950a8a1-daee-47ad-8ed4-6f98986f4da2",
   "metadata": {},
   "outputs": [
    {
     "data": {
      "text/plain": [
       "False"
      ]
     },
     "execution_count": 32,
     "metadata": {},
     "output_type": "execute_result"
    }
   ],
   "source": [
    "bool(0+0j)"
   ]
  },
  {
   "cell_type": "code",
   "execution_count": 34,
   "id": "f21e69fc-9aff-4536-b7d3-d66ff2a5bcb4",
   "metadata": {},
   "outputs": [
    {
     "data": {
      "text/plain": [
       "True"
      ]
     },
     "execution_count": 34,
     "metadata": {},
     "output_type": "execute_result"
    }
   ],
   "source": [
    "bool('10')"
   ]
  },
  {
   "cell_type": "code",
   "execution_count": 36,
   "id": "8e1af00f-b04f-4f06-9629-3f6eb911cfe2",
   "metadata": {},
   "outputs": [
    {
     "data": {
      "text/plain": [
       "True"
      ]
     },
     "execution_count": 36,
     "metadata": {},
     "output_type": "execute_result"
    }
   ],
   "source": [
    "bool(_)"
   ]
  },
  {
   "cell_type": "code",
   "execution_count": 38,
   "id": "20b0d96b-dbfa-45cb-90f4-15b1405e8d03",
   "metadata": {},
   "outputs": [
    {
     "data": {
      "text/plain": [
       "False"
      ]
     },
     "execution_count": 38,
     "metadata": {},
     "output_type": "execute_result"
    }
   ],
   "source": [
    "bool( )"
   ]
  },
  {
   "cell_type": "markdown",
   "id": "2a8c62c2-3819-4744-9934-e1d0956ee13f",
   "metadata": {},
   "source": [
    "# STRING INDEXING &SLICING,ADVANCED SLICING"
   ]
  },
  {
   "cell_type": "code",
   "execution_count": 64,
   "id": "7bc2cbb1-7def-4aa9-b23c-f32e13f9039b",
   "metadata": {},
   "outputs": [
    {
     "data": {
      "text/plain": [
       "'HELLOPYTHON'"
      ]
     },
     "execution_count": 64,
     "metadata": {},
     "output_type": "execute_result"
    }
   ],
   "source": [
    "s9 ='HELLOPYTHON'\n",
    "s9"
   ]
  },
  {
   "cell_type": "markdown",
   "id": "defa4bac-3773-49a6-8677-1c332c41a442",
   "metadata": {},
   "source": [
    "s9[:] # [:] SLICING"
   ]
  },
  {
   "cell_type": "code",
   "execution_count": 66,
   "id": "82503a88-b3e6-4b73-86f6-f8cd77557b79",
   "metadata": {},
   "outputs": [
    {
     "name": "stdout",
     "output_type": "stream",
     "text": [
      "H\n",
      "E\n",
      "L\n",
      "L\n",
      "O\n",
      "P\n",
      "Y\n",
      "T\n",
      "H\n",
      "O\n",
      "N\n"
     ]
    }
   ],
   "source": [
    "for i  in s9:\n",
    "    print(i)"
   ]
  },
  {
   "cell_type": "code",
   "execution_count": 68,
   "id": "785230aa-4fc3-44db-8630-f4a0eebdc7f6",
   "metadata": {},
   "outputs": [
    {
     "data": {
      "text/plain": [
       "'HELLOPYTHON'"
      ]
     },
     "execution_count": 68,
     "metadata": {},
     "output_type": "execute_result"
    }
   ],
   "source": [
    "s9"
   ]
  },
  {
   "cell_type": "code",
   "execution_count": 70,
   "id": "fafecd8d-ba29-422c-8281-d2f8d75eb96e",
   "metadata": {},
   "outputs": [
    {
     "data": {
      "text/plain": [
       "'HEL'"
      ]
     },
     "execution_count": 70,
     "metadata": {},
     "output_type": "execute_result"
    }
   ],
   "source": [
    "s9[:3]"
   ]
  },
  {
   "cell_type": "code",
   "execution_count": 72,
   "id": "f53a0666-d27a-4fb0-913a-85fb0b3ba3f2",
   "metadata": {},
   "outputs": [
    {
     "ename": "IndexError",
     "evalue": "string index out of range",
     "output_type": "error",
     "traceback": [
      "\u001b[1;31m---------------------------------------------------------------------------\u001b[0m",
      "\u001b[1;31mIndexError\u001b[0m                                Traceback (most recent call last)",
      "Cell \u001b[1;32mIn[72], line 1\u001b[0m\n\u001b[1;32m----> 1\u001b[0m s9[\u001b[38;5;241m13\u001b[39m]\n",
      "\u001b[1;31mIndexError\u001b[0m: string index out of range"
     ]
    }
   ],
   "source": [
    "s9[13]"
   ]
  },
  {
   "cell_type": "code",
   "execution_count": 74,
   "id": "7693a37c-c3a6-47eb-befb-b2b1564525f9",
   "metadata": {},
   "outputs": [
    {
     "data": {
      "text/plain": [
       "'T'"
      ]
     },
     "execution_count": 74,
     "metadata": {},
     "output_type": "execute_result"
    }
   ],
   "source": [
    "s9[-4]"
   ]
  },
  {
   "cell_type": "code",
   "execution_count": 76,
   "id": "a5103be2-a308-46d3-8977-2c704608ed16",
   "metadata": {},
   "outputs": [
    {
     "data": {
      "text/plain": [
       "'NOHTYPOLLEH'"
      ]
     },
     "execution_count": 76,
     "metadata": {},
     "output_type": "execute_result"
    }
   ],
   "source": [
    "s9[::-1]"
   ]
  },
  {
   "cell_type": "code",
   "execution_count": 78,
   "id": "66a55983-8082-4848-b33c-8a67aeab6c79",
   "metadata": {},
   "outputs": [
    {
     "data": {
      "text/plain": [
       "'ELLOPYTH'"
      ]
     },
     "execution_count": 78,
     "metadata": {},
     "output_type": "execute_result"
    }
   ],
   "source": [
    "s9[1:9]"
   ]
  },
  {
   "cell_type": "code",
   "execution_count": 80,
   "id": "61b234f7-31ec-4689-aa23-0759af03adf1",
   "metadata": {},
   "outputs": [
    {
     "data": {
      "text/plain": [
       "'HELLOPYTHO'"
      ]
     },
     "execution_count": 80,
     "metadata": {},
     "output_type": "execute_result"
    }
   ],
   "source": [
    "s9[0:-1]"
   ]
  },
  {
   "cell_type": "code",
   "execution_count": 82,
   "id": "cd9095d7-aaec-470e-b4c7-2a3df1eeb4b3",
   "metadata": {},
   "outputs": [
    {
     "data": {
      "text/plain": [
       "'ELLOPYTHON'"
      ]
     },
     "execution_count": 82,
     "metadata": {},
     "output_type": "execute_result"
    }
   ],
   "source": [
    "s9[1:20]"
   ]
  },
  {
   "cell_type": "code",
   "execution_count": 84,
   "id": "b4520358-93f7-4324-8e14-616addb6e8b9",
   "metadata": {},
   "outputs": [
    {
     "data": {
      "text/plain": [
       "'HELLO'"
      ]
     },
     "execution_count": 84,
     "metadata": {},
     "output_type": "execute_result"
    }
   ],
   "source": [
    "s9[:5]"
   ]
  },
  {
   "cell_type": "code",
   "execution_count": 86,
   "id": "0600715f-ca64-4db4-8e2a-cadd172c8233",
   "metadata": {},
   "outputs": [
    {
     "data": {
      "text/plain": [
       "'PYTHON'"
      ]
     },
     "execution_count": 86,
     "metadata": {},
     "output_type": "execute_result"
    }
   ],
   "source": [
    "s9[5:]"
   ]
  },
  {
   "cell_type": "code",
   "execution_count": 88,
   "id": "832e696a-07b9-43ec-8307-d35e8717e39f",
   "metadata": {},
   "outputs": [
    {
     "data": {
      "text/plain": [
       "'NHYOLH'"
      ]
     },
     "execution_count": 88,
     "metadata": {},
     "output_type": "execute_result"
    }
   ],
   "source": [
    "s9[::-2]"
   ]
  },
  {
   "cell_type": "code",
   "execution_count": 90,
   "id": "78abda9a-fbde-4751-bc59-95050f98b626",
   "metadata": {},
   "outputs": [
    {
     "data": {
      "text/plain": [
       "'HLOYHN'"
      ]
     },
     "execution_count": 90,
     "metadata": {},
     "output_type": "execute_result"
    }
   ],
   "source": [
    "s9[0:11:2]#step indexing in the 2 cut  and print the value"
   ]
  },
  {
   "cell_type": "code",
   "execution_count": 92,
   "id": "ace48a21-16f3-4925-8600-578230b451aa",
   "metadata": {},
   "outputs": [
    {
     "data": {
      "text/plain": [
       "'HPN'"
      ]
     },
     "execution_count": 92,
     "metadata": {},
     "output_type": "execute_result"
    }
   ],
   "source": [
    "s9[0:11:5]"
   ]
  },
  {
   "cell_type": "code",
   "execution_count": 94,
   "id": "64661aa0-dfd0-488d-9979-a5abab1da69f",
   "metadata": {},
   "outputs": [
    {
     "data": {
      "text/plain": [
       "'NTOE'"
      ]
     },
     "execution_count": 94,
     "metadata": {},
     "output_type": "execute_result"
    }
   ],
   "source": [
    "s9[::-3]"
   ]
  },
  {
   "cell_type": "markdown",
   "id": "95c60d83-8b6f-48c8-b546-93895cd4e23b",
   "metadata": {},
   "source": []
  }
 ],
 "metadata": {
  "kernelspec": {
   "display_name": "Python [conda env:base] *",
   "language": "python",
   "name": "conda-base-py"
  },
  "language_info": {
   "codemirror_mode": {
    "name": "ipython",
    "version": 3
   },
   "file_extension": ".py",
   "mimetype": "text/x-python",
   "name": "python",
   "nbconvert_exporter": "python",
   "pygments_lexer": "ipython3",
   "version": "3.12.7"
  }
 },
 "nbformat": 4,
 "nbformat_minor": 5
}
