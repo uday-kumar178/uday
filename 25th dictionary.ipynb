{
 "cells": [
  {
   "cell_type": "markdown",
   "id": "91a949d2-af68-47f8-96a1-fff4a5978b27",
   "metadata": {},
   "source": [
    "# DICTIONARY"
   ]
  },
  {
   "cell_type": "code",
   "execution_count": 32,
   "id": "b73cbbc9-ad9e-4779-9ea1-fca02d84255e",
   "metadata": {},
   "outputs": [
    {
     "data": {
      "text/plain": [
       "{}"
      ]
     },
     "execution_count": 32,
     "metadata": {},
     "output_type": "execute_result"
    }
   ],
   "source": [
    "mydict = dict()\n",
    "mydict"
   ]
  },
  {
   "cell_type": "code",
   "execution_count": 34,
   "id": "d5aead88-9dc9-4f09-b501-5f12680b2f81",
   "metadata": {},
   "outputs": [
    {
     "data": {
      "text/plain": [
       "{}"
      ]
     },
     "execution_count": 34,
     "metadata": {},
     "output_type": "execute_result"
    }
   ],
   "source": [
    "mydict = {}\n",
    "mydict"
   ]
  },
  {
   "cell_type": "code",
   "execution_count": 36,
   "id": "bb9b6b65-df6a-44a0-95e4-66c7d7faa208",
   "metadata": {},
   "outputs": [
    {
     "data": {
      "text/plain": [
       "{1: 'one', 2: 'two', 3: 'three', 4: 'four'}"
      ]
     },
     "execution_count": 36,
     "metadata": {},
     "output_type": "execute_result"
    }
   ],
   "source": [
    "mydict = {1:'one',2:'two',3:'three',4:'four'}\n",
    "mydict\n"
   ]
  },
  {
   "cell_type": "code",
   "execution_count": 40,
   "id": "2bcf0f29-b5a9-4ca7-adab-76c97e4dec61",
   "metadata": {},
   "outputs": [
    {
     "data": {
      "text/plain": [
       "dict_keys([1, 2, 3, 4])"
      ]
     },
     "execution_count": 40,
     "metadata": {},
     "output_type": "execute_result"
    }
   ],
   "source": [
    "mydict.keys()"
   ]
  },
  {
   "cell_type": "code",
   "execution_count": 42,
   "id": "8ddf3d44-02a7-42b2-9f3b-ad083e111f33",
   "metadata": {},
   "outputs": [
    {
     "data": {
      "text/plain": [
       "dict_values(['one', 'two', 'three', 'four'])"
      ]
     },
     "execution_count": 42,
     "metadata": {},
     "output_type": "execute_result"
    }
   ],
   "source": [
    "mydict.values()"
   ]
  },
  {
   "cell_type": "code",
   "execution_count": 44,
   "id": "ea2f1314-5a5d-4b54-b322-23538661c5e1",
   "metadata": {},
   "outputs": [
    {
     "data": {
      "text/plain": [
       "dict_items([(1, 'one'), (2, 'two'), (3, 'three'), (4, 'four')])"
      ]
     },
     "execution_count": 44,
     "metadata": {},
     "output_type": "execute_result"
    }
   ],
   "source": [
    "mydict.items()"
   ]
  },
  {
   "cell_type": "code",
   "execution_count": 46,
   "id": "fc653b9f-a9be-4efc-8cbf-f991561f2034",
   "metadata": {},
   "outputs": [
    {
     "data": {
      "text/plain": [
       "{1: 'one', 2: 'two', 3: 'three', 4: 'four', 'A': ['uday', 'bijoy', 'victor']}"
      ]
     },
     "execution_count": 46,
     "metadata": {},
     "output_type": "execute_result"
    }
   ],
   "source": [
    "mydict = {1:'one',2:'two',3:'three',4:'four','A':['uday','bijoy','victor']}\n",
    "mydict"
   ]
  },
  {
   "cell_type": "code",
   "execution_count": 48,
   "id": "3475f4ed-52ed-4898-add3-5b0cc1c3278f",
   "metadata": {},
   "outputs": [
    {
     "data": {
      "text/plain": [
       "{1: 'one',\n",
       " 2: 'two',\n",
       " 3: 'three',\n",
       " 4: 'four',\n",
       " 'A': ['uday', 'bijoy', 'victor'],\n",
       " 'B': ['arjun', 'sarkar', 'vikram']}"
      ]
     },
     "execution_count": 48,
     "metadata": {},
     "output_type": "execute_result"
    }
   ],
   "source": [
    "mydict = {1:'one',2:'two',3:'three',4:'four','A':['uday','bijoy','victor'],'B':['arjun','sarkar','vikram']}\n",
    "mydict"
   ]
  },
  {
   "cell_type": "code",
   "execution_count": 50,
   "id": "7ae8be2e-aca6-4b9b-be45-49e6e5da1015",
   "metadata": {},
   "outputs": [
    {
     "data": {
      "text/plain": [
       "{'d': None, 'b': None, 'a': None, 'c': None}"
      ]
     },
     "execution_count": 50,
     "metadata": {},
     "output_type": "execute_result"
    }
   ],
   "source": [
    "keys = {'a','b','c','d'}\n",
    "mydict3 = dict.fromkeys(keys) # create a dictionary from a sequence of keys\n",
    "mydict3"
   ]
  },
  {
   "cell_type": "code",
   "execution_count": 56,
   "id": "47c54a85-7b58-4465-b880-8894739efb17",
   "metadata": {},
   "outputs": [
    {
     "data": {
      "text/plain": [
       "{'d': {10}, 'b': {10}, 'a': {10}, 'c': {10}}"
      ]
     },
     "execution_count": 56,
     "metadata": {},
     "output_type": "execute_result"
    }
   ],
   "source": [
    "keys = {'a','b','c','d'}\n",
    "value = 10\n",
    "mydict3 = dict.fromkeys(keys,values) # create a dictionary from a sequence of keys\n",
    "mydict3"
   ]
  },
  {
   "cell_type": "code",
   "execution_count": 62,
   "id": "9cb83b46-949e-4094-8c85-ca9a06d3f892",
   "metadata": {},
   "outputs": [
    {
     "data": {
      "text/plain": [
       "{'d': [10, 20, 30], 'b': [10, 20, 30], 'a': [10, 20, 30], 'c': [10, 20, 30]}"
      ]
     },
     "execution_count": 62,
     "metadata": {},
     "output_type": "execute_result"
    }
   ],
   "source": [
    "keys = {'a','b','c','d'}\n",
    "values = [10,20,30]\n",
    "mydict3 = dict.fromkeys(keys,values) # create a dictionary from a sequence of keys\n",
    "mydict3"
   ]
  },
  {
   "cell_type": "markdown",
   "id": "0426b227-265e-4c34-b912-3d51f5677a57",
   "metadata": {},
   "source": [
    "# ACCESSING ITEMS"
   ]
  },
  {
   "cell_type": "code",
   "execution_count": 65,
   "id": "45c8b5af-9f36-4122-abeb-08abee8a3d1d",
   "metadata": {},
   "outputs": [
    {
     "data": {
      "text/plain": [
       "{1: 'one', 2: 'two', 3: 'three', 4: 'four'}"
      ]
     },
     "execution_count": 65,
     "metadata": {},
     "output_type": "execute_result"
    }
   ],
   "source": [
    "mydict = {1:'one',2:'two',3:'three',4:'four'}\n",
    "mydict"
   ]
  },
  {
   "cell_type": "code",
   "execution_count": 67,
   "id": "a218af1d-ed1f-4d78-bd5c-ba6405823444",
   "metadata": {},
   "outputs": [
    {
     "data": {
      "text/plain": [
       "'one'"
      ]
     },
     "execution_count": 67,
     "metadata": {},
     "output_type": "execute_result"
    }
   ],
   "source": [
    "mydict[1]"
   ]
  },
  {
   "cell_type": "code",
   "execution_count": 71,
   "id": "5d6e3acc-0e46-4b65-b72d-ab79d610226e",
   "metadata": {},
   "outputs": [
    {
     "data": {
      "text/plain": [
       "'one'"
      ]
     },
     "execution_count": 71,
     "metadata": {},
     "output_type": "execute_result"
    }
   ],
   "source": [
    "mydict.get(1)"
   ]
  },
  {
   "cell_type": "code",
   "execution_count": 73,
   "id": "a7a8bbc1-edab-4bb6-bdf3-a9230d936763",
   "metadata": {},
   "outputs": [
    {
     "data": {
      "text/plain": [
       "{'name': 'uday',\n",
       " 'address': 'hyderabad',\n",
       " 'mobile number': 1234556789,\n",
       " 'id': 2345,\n",
       " 'job': 'developer'}"
      ]
     },
     "execution_count": 73,
     "metadata": {},
     "output_type": "execute_result"
    }
   ],
   "source": [
    "mydict1 = {'name':'uday','address':'hyderabad','mobile number':1234556789,'id':2345,'job':'developer'}\n",
    "mydict1"
   ]
  },
  {
   "cell_type": "code",
   "execution_count": 75,
   "id": "c46038bf-1549-4619-b34d-7a453042e4e7",
   "metadata": {},
   "outputs": [
    {
     "data": {
      "text/plain": [
       "'uday'"
      ]
     },
     "execution_count": 75,
     "metadata": {},
     "output_type": "execute_result"
    }
   ],
   "source": [
    "mydict1['name']"
   ]
  },
  {
   "cell_type": "code",
   "execution_count": 81,
   "id": "c84f685b-6bcc-4be0-b2bb-3a0b094e042a",
   "metadata": {},
   "outputs": [
    {
     "data": {
      "text/plain": [
       "'hyderabad'"
      ]
     },
     "execution_count": 81,
     "metadata": {},
     "output_type": "execute_result"
    }
   ],
   "source": [
    "mydict1['address']"
   ]
  },
  {
   "cell_type": "markdown",
   "id": "971967d5-fbd2-4cd3-b4fd-17f8c3ac2968",
   "metadata": {},
   "source": [
    "# ADD,REMOVE & CHANGE ITEMS"
   ]
  },
  {
   "cell_type": "code",
   "execution_count": 114,
   "id": "740cc791-6321-4522-bb32-cfa26b87359e",
   "metadata": {},
   "outputs": [
    {
     "data": {
      "text/plain": [
       "{'name': 'uday',\n",
       " 'address': 'hyderabad',\n",
       " 'mobile number': 1234556789,\n",
       " 'job': 'developer',\n",
       " 'id': 2345,\n",
       " 'dob': 1992}"
      ]
     },
     "execution_count": 114,
     "metadata": {},
     "output_type": "execute_result"
    }
   ],
   "source": [
    "mydict1 = {'name':'uday','address':'hyderabad','mobile number':1234556789,'job':'developer','id':2345,'dob':1992}\n",
    "mydict1"
   ]
  },
  {
   "cell_type": "code",
   "execution_count": 116,
   "id": "2fb6c589-b4b5-4d5d-8b21-3d04e7c87d32",
   "metadata": {},
   "outputs": [
    {
     "data": {
      "text/plain": [
       "{'name': 'uday',\n",
       " 'address': 'mumbai',\n",
       " 'mobile number': 1234556789,\n",
       " 'job': 'developer',\n",
       " 'id': 2345,\n",
       " 'dob': 1993}"
      ]
     },
     "execution_count": 116,
     "metadata": {},
     "output_type": "execute_result"
    }
   ],
   "source": [
    "mydict1['dob']=1993\n",
    "mydict1['address'] ='mumbai'\n",
    "mydict1"
   ]
  },
  {
   "cell_type": "code",
   "execution_count": 118,
   "id": "df5d5651-9173-4066-afc1-f0c645955734",
   "metadata": {},
   "outputs": [
    {
     "data": {
      "text/plain": [
       "{'name': 'uday',\n",
       " 'address': 'mumbai',\n",
       " 'mobile number': 1234556789,\n",
       " 'job': 'developer',\n",
       " 'id': 2345,\n",
       " 'dob': 1993}"
      ]
     },
     "execution_count": 118,
     "metadata": {},
     "output_type": "execute_result"
    }
   ],
   "source": [
    "dict1 ={'dob':1993} # changing dict items\n",
    "mydict1.update(dict1)\n",
    "mydict1"
   ]
  },
  {
   "cell_type": "code",
   "execution_count": 120,
   "id": "ff3c1028-d7ed-47b5-991a-594ddf283090",
   "metadata": {},
   "outputs": [
    {
     "data": {
      "text/plain": [
       "{'name': 'uday',\n",
       " 'address': 'mumbai',\n",
       " 'mobile number': 1234556789,\n",
       " 'job': 'developer',\n",
       " 'id': 2345,\n",
       " 'dob': 1993}"
      ]
     },
     "execution_count": 120,
     "metadata": {},
     "output_type": "execute_result"
    }
   ],
   "source": [
    "mydict1['job'] = 'developer'\n",
    "mydict1"
   ]
  },
  {
   "cell_type": "code",
   "execution_count": 126,
   "id": "d7184a26-5fe9-4fc6-849a-2807b14975c3",
   "metadata": {},
   "outputs": [
    {
     "ename": "KeyError",
     "evalue": "'job'",
     "output_type": "error",
     "traceback": [
      "\u001b[1;31m---------------------------------------------------------------------------\u001b[0m",
      "\u001b[1;31mKeyError\u001b[0m                                  Traceback (most recent call last)",
      "Cell \u001b[1;32mIn[126], line 1\u001b[0m\n\u001b[1;32m----> 1\u001b[0m mydict1\u001b[38;5;241m.\u001b[39mpop(\u001b[38;5;124m'\u001b[39m\u001b[38;5;124mjob\u001b[39m\u001b[38;5;124m'\u001b[39m)\n",
      "\u001b[1;31mKeyError\u001b[0m: 'job'"
     ]
    }
   ],
   "source": [
    "mydict1.pop('job')"
   ]
  },
  {
   "cell_type": "code",
   "execution_count": 128,
   "id": "9e7492ee-a5ac-4e85-9e83-c82ae63d8d33",
   "metadata": {},
   "outputs": [
    {
     "data": {
      "text/plain": [
       "{'name': 'uday',\n",
       " 'address': 'mumbai',\n",
       " 'mobile number': 1234556789,\n",
       " 'id': 2345,\n",
       " 'dob': 1993}"
      ]
     },
     "execution_count": 128,
     "metadata": {},
     "output_type": "execute_result"
    }
   ],
   "source": [
    "mydict1"
   ]
  },
  {
   "cell_type": "code",
   "execution_count": 130,
   "id": "c1164733-1320-48eb-8802-3310c6f9d688",
   "metadata": {},
   "outputs": [
    {
     "data": {
      "text/plain": [
       "(4, 'four')"
      ]
     },
     "execution_count": 130,
     "metadata": {},
     "output_type": "execute_result"
    }
   ],
   "source": [
    "mydict.popitem()"
   ]
  },
  {
   "cell_type": "code",
   "execution_count": 132,
   "id": "a511d237-5fee-4992-9467-105d63c8fb0c",
   "metadata": {},
   "outputs": [
    {
     "data": {
      "text/plain": [
       "{'name': 'uday',\n",
       " 'address': 'mumbai',\n",
       " 'mobile number': 1234556789,\n",
       " 'id': 2345,\n",
       " 'dob': 1993}"
      ]
     },
     "execution_count": 132,
     "metadata": {},
     "output_type": "execute_result"
    }
   ],
   "source": [
    "mydict1"
   ]
  },
  {
   "cell_type": "code",
   "execution_count": 138,
   "id": "b003bbf2-3020-4113-b667-6969a6c22e43",
   "metadata": {},
   "outputs": [
    {
     "data": {
      "text/plain": [
       "{'name': 'uday', 'address': 'mumbai', 'mobile number': 1234556789, 'dob': 1993}"
      ]
     },
     "execution_count": 138,
     "metadata": {},
     "output_type": "execute_result"
    }
   ],
   "source": [
    "del[mydict1['id']]\n",
    "mydict1"
   ]
  },
  {
   "cell_type": "code",
   "execution_count": 140,
   "id": "fad365db-88f2-4af4-81d3-5e71793862d3",
   "metadata": {},
   "outputs": [
    {
     "data": {
      "text/plain": [
       "{}"
      ]
     },
     "execution_count": 140,
     "metadata": {},
     "output_type": "execute_result"
    }
   ],
   "source": [
    "mydict1.clear()\n",
    "mydict1"
   ]
  },
  {
   "cell_type": "markdown",
   "id": "ad0eae31-c225-4ca9-ad1e-aa148b6f5cd8",
   "metadata": {},
   "source": [
    "# copy dictionary"
   ]
  },
  {
   "cell_type": "code",
   "execution_count": 145,
   "id": "8d640513-5950-45ec-b972-ff467ae3ef00",
   "metadata": {},
   "outputs": [
    {
     "data": {
      "text/plain": [
       "{'Name': 'uday', 'ID': 12345, 'DOB': 1991, 'Address': 'Hyderabad'}"
      ]
     },
     "execution_count": 145,
     "metadata": {},
     "output_type": "execute_result"
    }
   ],
   "source": [
    "mydict = {'Name':'uday' , 'ID': 12345 , 'DOB': 1991 , 'Address' : 'Hyderabad'} \n",
    "mydict "
   ]
  },
  {
   "cell_type": "code",
   "execution_count": 147,
   "id": "05922f6c-8103-4415-83d0-43cc3266edf2",
   "metadata": {},
   "outputs": [],
   "source": [
    "mydict1 = mydict"
   ]
  },
  {
   "cell_type": "code",
   "execution_count": 151,
   "id": "02558842-8849-4265-8afb-3e540c5c31dc",
   "metadata": {},
   "outputs": [
    {
     "data": {
      "text/plain": [
       "(1720855208256, 1720855208256)"
      ]
     },
     "execution_count": 151,
     "metadata": {},
     "output_type": "execute_result"
    }
   ],
   "source": [
    "id(mydict),id(mydict1)"
   ]
  },
  {
   "cell_type": "code",
   "execution_count": 153,
   "id": "b4423742-1089-4826-954b-cde38d0fa0f9",
   "metadata": {},
   "outputs": [],
   "source": [
    "mydict2 = mydict.copy()"
   ]
  },
  {
   "cell_type": "code",
   "execution_count": 155,
   "id": "b1a8197a-7cea-46d1-ad9a-903d267f6ffa",
   "metadata": {},
   "outputs": [
    {
     "data": {
      "text/plain": [
       "1720856862976"
      ]
     },
     "execution_count": 155,
     "metadata": {},
     "output_type": "execute_result"
    }
   ],
   "source": [
    "id(mydict2)"
   ]
  },
  {
   "cell_type": "code",
   "execution_count": 157,
   "id": "2f08d017-730a-4d1b-bd67-4ebef3ccc220",
   "metadata": {},
   "outputs": [
    {
     "data": {
      "text/plain": [
       "{'Name': 'uday',\n",
       " 'ID': 12345,\n",
       " 'DOB': 1991,\n",
       " 'Address': 'Hyderabad',\n",
       " 'address': 'chennai'}"
      ]
     },
     "execution_count": 157,
     "metadata": {},
     "output_type": "execute_result"
    }
   ],
   "source": [
    "mydict['address'] = 'chennai'\n",
    "mydict"
   ]
  },
  {
   "cell_type": "code",
   "execution_count": 159,
   "id": "d064de88-8fc6-4a39-a11e-7874c9bfbfcc",
   "metadata": {},
   "outputs": [
    {
     "data": {
      "text/plain": [
       "{'Name': 'uday',\n",
       " 'ID': 12345,\n",
       " 'DOB': 1991,\n",
       " 'Address': 'Hyderabad',\n",
       " 'address': 'chennai'}"
      ]
     },
     "execution_count": 159,
     "metadata": {},
     "output_type": "execute_result"
    }
   ],
   "source": [
    "mydict1"
   ]
  },
  {
   "cell_type": "code",
   "execution_count": 161,
   "id": "37658aa7-699e-4d4e-9f38-0e0f10c29205",
   "metadata": {},
   "outputs": [
    {
     "data": {
      "text/plain": [
       "{'Name': 'uday', 'ID': 12345, 'DOB': 1991, 'Address': 'Hyderabad'}"
      ]
     },
     "execution_count": 161,
     "metadata": {},
     "output_type": "execute_result"
    }
   ],
   "source": [
    "mydict2"
   ]
  },
  {
   "cell_type": "markdown",
   "id": "8ec778e0-ef75-41b7-b9bb-465e05075dbe",
   "metadata": {},
   "source": [
    "# LOOP THROUGH A DICTIONARY"
   ]
  },
  {
   "cell_type": "code",
   "execution_count": 164,
   "id": "3ac04939-5f7c-4e41-a601-ed37b6ac52b1",
   "metadata": {},
   "outputs": [
    {
     "data": {
      "text/plain": [
       "{'name': 'uday', 'address': 'hyderabad', 'dob': 1991, 'id': 2345}"
      ]
     },
     "execution_count": 164,
     "metadata": {},
     "output_type": "execute_result"
    }
   ],
   "source": [
    "mydict1 = {'name':'uday','address':'hyderabad','dob':1991,'id':2345}\n",
    "mydict1"
   ]
  },
  {
   "cell_type": "code",
   "execution_count": 168,
   "id": "12ec798f-7a7a-433a-996f-cb94057abea7",
   "metadata": {},
   "outputs": [
    {
     "name": "stdout",
     "output_type": "stream",
     "text": [
      "name : uday\n",
      "address : hyderabad\n",
      "dob : 1991\n",
      "id : 2345\n"
     ]
    }
   ],
   "source": [
    "for i in mydict1:\n",
    "    print(i,':',mydict1[i])"
   ]
  },
  {
   "cell_type": "code",
   "execution_count": 170,
   "id": "956ce21b-fe1e-44af-8d57-c755e377dbe9",
   "metadata": {},
   "outputs": [
    {
     "name": "stdout",
     "output_type": "stream",
     "text": [
      "uday\n",
      "hyderabad\n",
      "1991\n",
      "2345\n"
     ]
    }
   ],
   "source": [
    "for i in mydict1:\n",
    "    print(mydict1[i])"
   ]
  },
  {
   "cell_type": "markdown",
   "id": "9e4d1c64-b7c8-468d-86be-da8f3eaeac72",
   "metadata": {},
   "source": [
    "# dictionary membership"
   ]
  },
  {
   "cell_type": "code",
   "execution_count": 175,
   "id": "496384d3-d650-4e0f-b169-326a9d42d397",
   "metadata": {},
   "outputs": [
    {
     "data": {
      "text/plain": [
       "{'name': 'uday',\n",
       " 'id': 23456,\n",
       " 'address': 'hyderanad',\n",
       " 'dob': 1991,\n",
       " 'job': 'developer'}"
      ]
     },
     "execution_count": 175,
     "metadata": {},
     "output_type": "execute_result"
    }
   ],
   "source": [
    "mydict1 = {'name':'uday','id':23456,'address':'hyderanad','dob':  1991,'job':'developer'}\n",
    "mydict1"
   ]
  },
  {
   "cell_type": "code",
   "execution_count": 177,
   "id": "8fe599d9-c68e-4b3d-9678-79c2e233ca9a",
   "metadata": {},
   "outputs": [
    {
     "data": {
      "text/plain": [
       "True"
      ]
     },
     "execution_count": 177,
     "metadata": {},
     "output_type": "execute_result"
    }
   ],
   "source": [
    "'name' in mydict1# test if a key is in a dictionary or not"
   ]
  },
  {
   "cell_type": "code",
   "execution_count": 179,
   "id": "fbc75f43-dfbd-469f-8978-d00339cb06f4",
   "metadata": {},
   "outputs": [
    {
     "data": {
      "text/plain": [
       "False"
      ]
     },
     "execution_count": 179,
     "metadata": {},
     "output_type": "execute_result"
    }
   ],
   "source": [
    "'uday'  in mydict1 # membership test can be only for  keys."
   ]
  },
  {
   "cell_type": "code",
   "execution_count": 181,
   "id": "11d5f635-5d1b-4976-b5bf-565b15aea62f",
   "metadata": {},
   "outputs": [
    {
     "data": {
      "text/plain": [
       "True"
      ]
     },
     "execution_count": 181,
     "metadata": {},
     "output_type": "execute_result"
    }
   ],
   "source": [
    "'id' in mydict1"
   ]
  },
  {
   "cell_type": "code",
   "execution_count": 183,
   "id": "b7aa8730-4465-4eb0-8608-7b3500ee140c",
   "metadata": {},
   "outputs": [
    {
     "data": {
      "text/plain": [
       "False"
      ]
     },
     "execution_count": 183,
     "metadata": {},
     "output_type": "execute_result"
    }
   ],
   "source": [
    "23456 in mydict1"
   ]
  },
  {
   "cell_type": "code",
   "execution_count": 185,
   "id": "e4ba2f25-1c6d-4d9b-82bb-9571c74c28cd",
   "metadata": {},
   "outputs": [
    {
     "data": {
      "text/plain": [
       "True"
      ]
     },
     "execution_count": 185,
     "metadata": {},
     "output_type": "execute_result"
    }
   ],
   "source": [
    "'address' in mydict1"
   ]
  },
  {
   "cell_type": "code",
   "execution_count": 187,
   "id": "a8588d9c-e13c-41f4-911d-27ea8eed73e6",
   "metadata": {},
   "outputs": [
    {
     "data": {
      "text/plain": [
       "False"
      ]
     },
     "execution_count": 187,
     "metadata": {},
     "output_type": "execute_result"
    }
   ],
   "source": [
    "'hyderabad' in mydict1"
   ]
  },
  {
   "cell_type": "code",
   "execution_count": 189,
   "id": "0c833d9d-da82-4bc5-8515-98aab3169167",
   "metadata": {},
   "outputs": [
    {
     "data": {
      "text/plain": [
       "{'name': 'uday',\n",
       " 'id': 23456,\n",
       " 'address': 'hyderanad',\n",
       " 'dob': 1991,\n",
       " 'job': 'developer'}"
      ]
     },
     "execution_count": 189,
     "metadata": {},
     "output_type": "execute_result"
    }
   ],
   "source": [
    "mydict1"
   ]
  },
  {
   "cell_type": "code",
   "execution_count": 197,
   "id": "e2b518b4-704c-444a-9de7-6fa9c8410c72",
   "metadata": {},
   "outputs": [
    {
     "data": {
      "text/plain": [
       "{'name': 'uday',\n",
       " 'id': 23456,\n",
       " 'address': 'hyderanad',\n",
       " 'dob': 1991,\n",
       " 'job': 'developer'}"
      ]
     },
     "execution_count": 197,
     "metadata": {},
     "output_type": "execute_result"
    }
   ],
   "source": [
    "mydict1"
   ]
  },
  {
   "cell_type": "code",
   "execution_count": 199,
   "id": "99e21c29-d0f4-4f0c-b813-9e4c55d785a8",
   "metadata": {},
   "outputs": [
    {
     "data": {
      "text/plain": [
       "True"
      ]
     },
     "execution_count": 199,
     "metadata": {},
     "output_type": "execute_result"
    }
   ],
   "source": [
    "all(mydict1)"
   ]
  },
  {
   "cell_type": "code",
   "execution_count": null,
   "id": "898b867d-a910-4506-881a-4f21c778f966",
   "metadata": {},
   "outputs": [],
   "source": []
  }
 ],
 "metadata": {
  "kernelspec": {
   "display_name": "Python [conda env:base] *",
   "language": "python",
   "name": "conda-base-py"
  },
  "language_info": {
   "codemirror_mode": {
    "name": "ipython",
    "version": 3
   },
   "file_extension": ".py",
   "mimetype": "text/x-python",
   "name": "python",
   "nbconvert_exporter": "python",
   "pygments_lexer": "ipython3",
   "version": "3.12.7"
  }
 },
 "nbformat": 4,
 "nbformat_minor": 5
}
