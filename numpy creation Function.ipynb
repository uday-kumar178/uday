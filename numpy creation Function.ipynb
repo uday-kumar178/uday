{
 "cells": [
  {
   "cell_type": "markdown",
   "id": "f0a52488-4cbf-447a-a324-64f4a98555d3",
   "metadata": {},
   "source": [
    "# Array Creation Function"
   ]
  },
  {
   "cell_type": "code",
   "execution_count": 3,
   "id": "820ddd88-df2f-4881-9d88-87d3cc3e5266",
   "metadata": {},
   "outputs": [],
   "source": [
    "import numpy as np"
   ]
  },
  {
   "cell_type": "code",
   "execution_count": 5,
   "id": "2298a390-5c71-4432-b908-4a3e10ee81aa",
   "metadata": {},
   "outputs": [
    {
     "name": "stdout",
     "output_type": "stream",
     "text": [
      "Array a: [1 2 3 4]\n"
     ]
    }
   ],
   "source": [
    "# create an array from a list\n",
    "a = np.array([1,2,3,4])\n",
    "print(\"Array a:\",a)"
   ]
  },
  {
   "cell_type": "code",
   "execution_count": 7,
   "id": "2c7861e8-630b-482c-ad12-126d4563c082",
   "metadata": {},
   "outputs": [
    {
     "name": "stdout",
     "output_type": "stream",
     "text": [
      "Array b: [0 2 4 6 8]\n"
     ]
    }
   ],
   "source": [
    "# create an array with early spaced values\n",
    "b = np.arange(0,10,2)\n",
    "print(\"Array b:\",b)"
   ]
  },
  {
   "cell_type": "code",
   "execution_count": 11,
   "id": "90ad6611-57aa-4ed9-9c66-387ecaf29868",
   "metadata": {},
   "outputs": [
    {
     "name": "stdout",
     "output_type": "stream",
     "text": [
      "Array c: [0.   0.25 0.5  0.75 1.  ]\n"
     ]
    }
   ],
   "source": [
    "#create an array with linearly spaced values\n",
    "c = np.linspace(0,1,5)\n",
    "print(\"Array c:\",c)"
   ]
  },
  {
   "cell_type": "code",
   "execution_count": 13,
   "id": "4b4e3b2a-61e1-4f30-a895-73834a8e6615",
   "metadata": {},
   "outputs": [
    {
     "name": "stdout",
     "output_type": "stream",
     "text": [
      "Array d:\n",
      " [[0. 0. 0.]\n",
      " [0. 0. 0.]]\n"
     ]
    }
   ],
   "source": [
    "#create an array filled with zeros\n",
    "d =  np.zeros((2,3))\n",
    "print(\"Array d:\\n\",d)"
   ]
  },
  {
   "cell_type": "code",
   "execution_count": 15,
   "id": "a7abbc7a-cf79-4372-b3ba-b343b3b6c2e4",
   "metadata": {},
   "outputs": [
    {
     "name": "stdout",
     "output_type": "stream",
     "text": [
      "Identity matrix f:\n",
      " [[1. 0. 0. 0.]\n",
      " [0. 1. 0. 0.]\n",
      " [0. 0. 1. 0.]\n",
      " [0. 0. 0. 1.]]\n"
     ]
    }
   ],
   "source": [
    "#create an identity matrix\n",
    "f = np.eye(4)\n",
    "print(\"Identity matrix f:\\n\",f)"
   ]
  },
  {
   "cell_type": "markdown",
   "id": "ef790e21-698e-44c3-89c4-479888e51086",
   "metadata": {},
   "source": [
    "# Array Manipulation Function"
   ]
  },
  {
   "cell_type": "code",
   "execution_count": 22,
   "id": "b3efa50a-4bca-40d1-b620-3856a0473a67",
   "metadata": {},
   "outputs": [
    {
     "name": "stdout",
     "output_type": "stream",
     "text": [
      "Reshaped array: [[1 2 3]]\n"
     ]
    }
   ],
   "source": [
    "# Reshape an array \n",
    "a1 = np.array([1,2,3])\n",
    "reshaped = np.reshape(a1,(1,3))\n",
    "print(\"Reshaped array:\",reshaped)"
   ]
  },
  {
   "cell_type": "code",
   "execution_count": 26,
   "id": "0c0190ae-e6d5-4f39-ab64-a20f1067ce97",
   "metadata": {},
   "outputs": [
    {
     "name": "stdout",
     "output_type": "stream",
     "text": [
      "Flattened array: [1 2 3 4]\n"
     ]
    }
   ],
   "source": [
    "# Flatten an array \n",
    "f1 = np.array([[1,2],[3,4]])\n",
    "flattened = np.ravel(f1)\n",
    "print(\"Flattened array:\",flattened)"
   ]
  },
  {
   "cell_type": "code",
   "execution_count": 28,
   "id": "a9950f84-8376-4474-9478-fa4632bfc2bd",
   "metadata": {},
   "outputs": [
    {
     "name": "stdout",
     "output_type": "stream",
     "text": [
      "Transposed array:\n",
      " [[1 3]\n",
      " [2 4]]\n"
     ]
    }
   ],
   "source": [
    "# Transpose an array\n",
    "e1 = np.array([[1,2],[3,4]])\n",
    "transposed = np.transpose(e1)\n",
    "print(\"Transposed array:\\n\",transposed)"
   ]
  },
  {
   "cell_type": "code",
   "execution_count": 30,
   "id": "097b85ac-9316-4a21-9ba8-678749c690de",
   "metadata": {},
   "outputs": [
    {
     "name": "stdout",
     "output_type": "stream",
     "text": [
      "Stacked arrays:\n",
      " [[1 2]\n",
      " [4 5]]\n"
     ]
    }
   ],
   "source": [
    "# Stack arrays vertically\n",
    "a2 = np.array([1,2])\n",
    "b2 = np.array([4,5])\n",
    "stacked = np.vstack([a2,b2])\n",
    "print(\"Stacked arrays:\\n\",stacked)"
   ]
  },
  {
   "cell_type": "markdown",
   "id": "feaea8b7-0934-46bf-9a3f-2364e18ed352",
   "metadata": {},
   "source": [
    "# 3.Mathematical Function"
   ]
  },
  {
   "cell_type": "code",
   "execution_count": 80,
   "id": "2c74a073-377f-4dc7-bee5-97c87bef2002",
   "metadata": {},
   "outputs": [
    {
     "name": "stdout",
     "output_type": "stream",
     "text": [
      "Added 2 to g: [3 4 5 6 7]\n"
     ]
    }
   ],
   "source": [
    "# Add two arrays\n",
    "g = np.array([1,2,3,4,5])\n",
    "added = np.add(g,2)\n",
    "print(\"Added 2 to g:\",added)"
   ]
  },
  {
   "cell_type": "code",
   "execution_count": 82,
   "id": "eda95331-e509-445d-b00f-bdb149055cbf",
   "metadata": {},
   "outputs": [
    {
     "name": "stdout",
     "output_type": "stream",
     "text": [
      "Squared g: [ 1  4  9 16 25]\n"
     ]
    }
   ],
   "source": [
    "# Square each element\n",
    "squared = np.power(g, 2)  # Square each element\n",
    "print(\"Squared g:\", squared)"
   ]
  },
  {
   "cell_type": "code",
   "execution_count": 84,
   "id": "7cf6dfc7-2712-430f-aa85-98ba4fc16357",
   "metadata": {},
   "outputs": [
    {
     "name": "stdout",
     "output_type": "stream",
     "text": [
      "Square root of g: [1.         1.41421356 1.73205081 2.         2.23606798]\n"
     ]
    }
   ],
   "source": [
    "# square root of each element\n",
    "sqrt_val = np.sqrt(g)\n",
    "print(\"Square root of g:\",sqrt_val)"
   ]
  },
  {
   "cell_type": "code",
   "execution_count": 48,
   "id": "067b8f41-3922-4926-b533-fa8d90197dfd",
   "metadata": {},
   "outputs": [
    {
     "name": "stdout",
     "output_type": "stream",
     "text": [
      "[1 2 3]\n",
      "[1 2 3 4 5]\n"
     ]
    }
   ],
   "source": [
    "print(a1)\n",
    "print(g)"
   ]
  },
  {
   "cell_type": "code",
   "execution_count": 60,
   "id": "f194e126-9833-4e9c-a796-ee2078bc62b6",
   "metadata": {},
   "outputs": [
    {
     "name": "stdout",
     "output_type": "stream",
     "text": [
      "Dot product of a and g: 55\n"
     ]
    }
   ],
   "source": [
    "# DOT  product of two arrays\n",
    "a2 = np.array([1,2,3,4,5])\n",
    "dot_product = np.dot(a2,g)\n",
    "print(\"Dot product of a and g:\", dot_product)"
   ]
  },
  {
   "cell_type": "code",
   "execution_count": 86,
   "id": "6b5656a6-7c74-4817-83aa-1667b1db4389",
   "metadata": {},
   "outputs": [
    {
     "name": "stdout",
     "output_type": "stream",
     "text": [
      "[1 2 3 4]\n",
      "[1 2 3]\n"
     ]
    }
   ],
   "source": [
    "print(a)\n",
    "print(a1)"
   ]
  },
  {
   "cell_type": "markdown",
   "id": "3ed5d611-31cf-47d7-8499-5a1c9b2d79fa",
   "metadata": {},
   "source": [
    "# 4. Statistical Functions"
   ]
  },
  {
   "cell_type": "code",
   "execution_count": 93,
   "id": "d22be1e4-8674-4134-9780-b1731a6920f9",
   "metadata": {},
   "outputs": [
    {
     "name": "stdout",
     "output_type": "stream",
     "text": [
      "Mean of s: 2.5\n"
     ]
    }
   ],
   "source": [
    "s = np.array([1,2,3,4])\n",
    "mean = np.mean(s)\n",
    "print(\"Mean of s:\",mean)"
   ]
  },
  {
   "cell_type": "code",
   "execution_count": 95,
   "id": "7ad1c488-ecbe-47f3-8fc7-903f953a3777",
   "metadata": {},
   "outputs": [
    {
     "name": "stdout",
     "output_type": "stream",
     "text": [
      "Standard deviation of s: 1.118033988749895\n"
     ]
    }
   ],
   "source": [
    "# Standard deviation of an array\n",
    "std_dev = np.std(s)\n",
    "print(\"Standard deviation of s:\",std_dev)"
   ]
  },
  {
   "cell_type": "code",
   "execution_count": 97,
   "id": "5a6090d7-af16-4a4d-a566-cca5f00c010a",
   "metadata": {},
   "outputs": [
    {
     "name": "stdout",
     "output_type": "stream",
     "text": [
      "Min of s: 1\n"
     ]
    }
   ],
   "source": [
    "# Minimum element of an array\n",
    "minimum = np.min(s)\n",
    "print(\"Min of s:\",minimum)"
   ]
  },
  {
   "cell_type": "code",
   "execution_count": 99,
   "id": "90ee4bc2-254a-4be0-a479-7dd7967812f9",
   "metadata": {},
   "outputs": [
    {
     "name": "stdout",
     "output_type": "stream",
     "text": [
      "Maximum of s: 4\n"
     ]
    }
   ],
   "source": [
    "# Maximum element of an array\n",
    "maximum = np.max(s)\n",
    "print(\"Maximum of s:\",maximum)"
   ]
  },
  {
   "cell_type": "markdown",
   "id": "b2c9d903-f561-4054-b092-da326f3726c3",
   "metadata": {},
   "source": [
    "# Linear Algebra Functions"
   ]
  },
  {
   "cell_type": "code",
   "execution_count": 104,
   "id": "23f0deed-7310-4119-860f-65b52f1ec28c",
   "metadata": {},
   "outputs": [],
   "source": [
    "# Create a matrix\n",
    "matrix = np.array([[1,2],[3,4]])"
   ]
  },
  {
   "cell_type": "code",
   "execution_count": 108,
   "id": "cadae2d9-4212-4a9d-a2d8-adb4ef43d379",
   "metadata": {},
   "outputs": [
    {
     "name": "stdout",
     "output_type": "stream",
     "text": [
      "Determinant of matrix: -2.0000000000000004\n"
     ]
    }
   ],
   "source": [
    "# Determinant of a matrix\n",
    "determinant = np.linalg.det(matrix)\n",
    "print(\"Determinant of matrix:\",determinant)"
   ]
  },
  {
   "cell_type": "code",
   "execution_count": 110,
   "id": "b94a0e81-f56b-4f33-bf0f-7f2757c3dc3f",
   "metadata": {},
   "outputs": [
    {
     "name": "stdout",
     "output_type": "stream",
     "text": [
      "Inverse of matrix:\n",
      " [[-2.   1. ]\n",
      " [ 1.5 -0.5]]\n"
     ]
    }
   ],
   "source": [
    "# Inverse of matrix\n",
    "inverse = np.linalg.inv(matrix)\n",
    "print(\"Inverse of matrix:\\n\",inverse)"
   ]
  },
  {
   "cell_type": "markdown",
   "id": "a4eb3387-63ff-4314-b26f-08f63c14c977",
   "metadata": {},
   "source": [
    "# 6. Random Sampling Functions"
   ]
  },
  {
   "cell_type": "code",
   "execution_count": 113,
   "id": "9c014cc0-4350-4aa6-924d-2f898d933299",
   "metadata": {},
   "outputs": [
    {
     "name": "stdout",
     "output_type": "stream",
     "text": [
      "Random value: [0.06276385 0.24898612 0.71534195]\n"
     ]
    }
   ],
   "source": [
    "# Generate random values between 0 and 1\n",
    "random_vals = np.random.rand(3)\n",
    "print(\"Random value:\",random_vals)"
   ]
  },
  {
   "cell_type": "code",
   "execution_count": 115,
   "id": "bbf44855-cbfe-4553-8c1d-6defe9769b29",
   "metadata": {},
   "outputs": [
    {
     "name": "stdout",
     "output_type": "stream",
     "text": [
      "Random values: [0.5488135  0.71518937 0.60276338]\n"
     ]
    }
   ],
   "source": [
    "# Set seed for reproducibility\n",
    "np.random.seed(0)\n",
    "# Generate random values between 0 and 1 \n",
    "random_vals = np.random.rand(3)\n",
    "print(\"Random values:\",random_vals)"
   ]
  },
  {
   "cell_type": "code",
   "execution_count": 117,
   "id": "4daa3eaf-0a45-4ec1-b19b-566215d164a9",
   "metadata": {},
   "outputs": [
    {
     "name": "stdout",
     "output_type": "stream",
     "text": [
      "Random values: [3 7 9 3 5]\n"
     ]
    }
   ],
   "source": [
    "# Generate random integers\n",
    "rand_ints = np.random.randint(0,10,size = 5)\n",
    "print(\"Random values:\",rand_ints)"
   ]
  },
  {
   "cell_type": "code",
   "execution_count": 119,
   "id": "a77a378b-5c14-41b5-8b9f-5c0a5b7dabf4",
   "metadata": {},
   "outputs": [
    {
     "name": "stdout",
     "output_type": "stream",
     "text": [
      "Random values: [5 0 3 3 7]\n"
     ]
    }
   ],
   "source": [
    "# Set seed for reproducibility\n",
    "np.random.seed(0)\n",
    "# Generate  random inetegers\n",
    "rand_ints = np.random.randint(0,10,size=5)\n",
    "print(\"Random values:\",rand_ints)"
   ]
  },
  {
   "cell_type": "markdown",
   "id": "8c4f9641-2c8e-4783-b3be-41a9f74cc482",
   "metadata": {},
   "source": [
    "# 7. Boolean & Logical Functions"
   ]
  },
  {
   "cell_type": "code",
   "execution_count": 124,
   "id": "7416fb14-fbf0-4945-8fe8-1f830259d966",
   "metadata": {},
   "outputs": [
    {
     "name": "stdout",
     "output_type": "stream",
     "text": [
      "All elements True: False\n"
     ]
    }
   ],
   "source": [
    "#Check if all elements are True\n",
    "# all\n",
    "logical_test = np.array([True,False,True])\n",
    "all_true = np.all(logical_test)\n",
    "print(\"All elements True:\",all_true)"
   ]
  },
  {
   "cell_type": "code",
   "execution_count": 128,
   "id": "d350eeeb-38a8-4b3b-9ca8-768b20b7dbac",
   "metadata": {},
   "outputs": [
    {
     "name": "stdout",
     "output_type": "stream",
     "text": [
      "All elements True: False\n"
     ]
    }
   ],
   "source": [
    "# Check if any elements are True\n",
    "logical_test = np.array([False,False,False])\n",
    "all_true = np.all(logical_test)\n",
    "print(\"All elements True:\",all_true)"
   ]
  },
  {
   "cell_type": "code",
   "execution_count": 130,
   "id": "9b4f3cc0-9fb4-438f-8762-2409fb277c30",
   "metadata": {},
   "outputs": [
    {
     "name": "stdout",
     "output_type": "stream",
     "text": [
      "Any elements True: False\n"
     ]
    }
   ],
   "source": [
    "# check if any elements are True\n",
    "# any \n",
    "any_true = np.any(logical_test)\n",
    "print(\"Any elements True:\",any_true)"
   ]
  },
  {
   "cell_type": "markdown",
   "id": "9185438d-112c-40e7-8417-7dad83f33d4d",
   "metadata": {},
   "source": [
    "# 8.Set Operations"
   ]
  },
  {
   "cell_type": "code",
   "execution_count": 133,
   "id": "65c93edb-2bc4-4144-92ca-f6780b2d5c73",
   "metadata": {},
   "outputs": [
    {
     "name": "stdout",
     "output_type": "stream",
     "text": [
      "Intersection of a and  b: [3 4]\n"
     ]
    }
   ],
   "source": [
    "# Intersection of two arrays\n",
    "set_a = np.array([1,2,3,4])\n",
    "set_b = np.array([3,4,5,6])\n",
    "intersection = np.intersect1d(set_a,set_b)\n",
    "print(\"Intersection of a and  b:\",intersection)"
   ]
  },
  {
   "cell_type": "code",
   "execution_count": 135,
   "id": "26b2f245-1e25-4d47-a86d-be075977484f",
   "metadata": {},
   "outputs": [
    {
     "name": "stdout",
     "output_type": "stream",
     "text": [
      "Union of a and b: [1 2 3 4 5 6]\n"
     ]
    }
   ],
   "source": [
    "#Union of two arrays\n",
    "union = np.union1d(set_a,set_b)\n",
    "print(\"Union of a and b:\",union)"
   ]
  },
  {
   "cell_type": "markdown",
   "id": "085d3dc9-16c2-4d39-afb5-491410df456d",
   "metadata": {},
   "source": [
    "# 9.Array Attribute Functions"
   ]
  },
  {
   "cell_type": "code",
   "execution_count": 138,
   "id": "3dc91ab8-80dd-4e7f-80b2-dfd8f0ff9599",
   "metadata": {},
   "outputs": [
    {
     "name": "stdout",
     "output_type": "stream",
     "text": [
      "Shape of the array: (3,)\n",
      "Size  of the array: 3\n",
      "Number of dimentions of  array: 1\n",
      "Data type of the array: int32\n"
     ]
    }
   ],
   "source": [
    "# Array attribution\n",
    "a = np.array([1,2,3])\n",
    "shape = a.shape # shape of the array\n",
    "size = a.size # size of the array\n",
    "dimentions = a.ndim # number of dimentions\n",
    "dtype = a.dtype # data type of the array\n",
    "\n",
    "print(\"Shape of the array:\",shape)\n",
    "print(\"Size  of the array:\",size)\n",
    "print(\"Number of dimentions of  array:\",dimentions)\n",
    "print(\"Data type of the array:\",dtype)"
   ]
  },
  {
   "cell_type": "markdown",
   "id": "b98b4ebc-ecc7-46c5-adb3-a1211fbd7015",
   "metadata": {},
   "source": [
    "# 10.Other Functions"
   ]
  },
  {
   "cell_type": "code",
   "execution_count": 141,
   "id": "4aa8834a-72b3-487d-aa7b-83064483da8e",
   "metadata": {},
   "outputs": [
    {
     "name": "stdout",
     "output_type": "stream",
     "text": [
      "Copied of a: [1 2 3]\n"
     ]
    }
   ],
   "source": [
    "# create a copy of an array \n",
    "a = np.array([1,2,3])\n",
    "copied_array = np.copy(a)# create a copy of array a \n",
    "print(\"Copied of a:\",copied_array)"
   ]
  },
  {
   "cell_type": "code",
   "execution_count": 143,
   "id": "26e07054-4991-4584-a651-7d5dbd7c6502",
   "metadata": {},
   "outputs": [
    {
     "name": "stdout",
     "output_type": "stream",
     "text": [
      "Size of a in bytes: 12\n"
     ]
    }
   ],
   "source": [
    "# Size in bytes of an array\n",
    "array_size_in_bytes = a.nbytes #size in bytes\n",
    "print(\"Size of a in bytes:\",array_size_in_bytes)"
   ]
  },
  {
   "cell_type": "code",
   "execution_count": 153,
   "id": "40d72985-0cb5-4e5f-b962-0f55980e780e",
   "metadata": {},
   "outputs": [
    {
     "name": "stdout",
     "output_type": "stream",
     "text": [
      "Do a and copied_array share memor> False\n"
     ]
    }
   ],
   "source": [
    "# chexk if two arrays share memory\n",
    "shared = np.shares_memory(a,copied_array)\n",
    "print(\"Do a and copied_array share memor>\",shared)"
   ]
  },
  {
   "cell_type": "code",
   "execution_count": null,
   "id": "56d1120f-3822-4e66-b6c9-da4b5912382f",
   "metadata": {},
   "outputs": [],
   "source": []
  }
 ],
 "metadata": {
  "kernelspec": {
   "display_name": "Python [conda env:base] *",
   "language": "python",
   "name": "conda-base-py"
  },
  "language_info": {
   "codemirror_mode": {
    "name": "ipython",
    "version": 3
   },
   "file_extension": ".py",
   "mimetype": "text/x-python",
   "name": "python",
   "nbconvert_exporter": "python",
   "pygments_lexer": "ipython3",
   "version": "3.12.7"
  }
 },
 "nbformat": 4,
 "nbformat_minor": 5
}
