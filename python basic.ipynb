{
 "cells": [
  {
   "cell_type": "markdown",
   "id": "b4c35c60-c3a4-48f5-99a0-ed9e7661b7dd",
   "metadata": {},
   "source": [
    "#16th april."
   ]
  },
  {
   "cell_type": "code",
   "execution_count": null,
   "id": "4757cc3f-67ad-41ce-98fa-02fba7e74f40",
   "metadata": {},
   "outputs": [],
   "source": [
    "       a = 10 ( a- variable 10- value) 10-interrger value\n",
    "#python datatypes --->\n",
    "      - Interger datatypes\n",
    "      - float datatypes\n",
    "      -bool datatypes\n",
    "      -string datatypes"
   ]
  },
  {
   "cell_type": "code",
   "execution_count": null,
   "id": "5d129dc0-f4bd-41f8-9af3-9202d7d04953",
   "metadata": {},
   "outputs": [],
   "source": [
    "#interger datatypes"
   ]
  },
  {
   "cell_type": "code",
   "execution_count": 10,
   "id": "202c0997-23de-48cc-93ae-3c80dc15595e",
   "metadata": {},
   "outputs": [
    {
     "name": "stdout",
     "output_type": "stream",
     "text": [
      "<class 'int'>\n"
     ]
    }
   ],
   "source": [
    "i =45\n",
    "i\n",
    "print(type(i))"
   ]
  },
  {
   "cell_type": "code",
   "execution_count": null,
   "id": "17238f4f-e09b-490d-8731-f592f211d6ac",
   "metadata": {},
   "outputs": [],
   "source": [
    "#float datatypes"
   ]
  },
  {
   "cell_type": "code",
   "execution_count": 14,
   "id": "83c7702a-1e13-49b1-abd0-bf88b830d458",
   "metadata": {},
   "outputs": [
    {
     "name": "stdout",
     "output_type": "stream",
     "text": [
      "<class 'float'>\n"
     ]
    }
   ],
   "source": [
    "petrol = 110.9  # int datatypes class int is a input it interger\n",
    "petrol\n",
    "print(type(petrol))"
   ]
  },
  {
   "cell_type": "code",
   "execution_count": 18,
   "id": "ff04cba4-8771-45aa-bd81-760964306cc3",
   "metadata": {},
   "outputs": [
    {
     "name": "stdout",
     "output_type": "stream",
     "text": [
      "10\n",
      "20\n"
     ]
    }
   ],
   "source": [
    "i1,i2 = 10,20\n",
    "print(i1)\n",
    "print(i2)\n",
    "\n"
   ]
  },
  {
   "cell_type": "code",
   "execution_count": null,
   "id": "e045d8dd-2da5-40a3-b087-b476842b521c",
   "metadata": {},
   "outputs": [],
   "source": [
    "STRING DATATYPE."
   ]
  },
  {
   "cell_type": "code",
   "execution_count": 20,
   "id": "af6ee69e-3e3d-41a7-b408-f2ecbfdb960f",
   "metadata": {},
   "outputs": [
    {
     "data": {
      "text/plain": [
       "'nareshit'"
      ]
     },
     "execution_count": 20,
     "metadata": {},
     "output_type": "execute_result"
    }
   ],
   "source": [
    "s1 = 'nareshit' #string always starts with singlee code\n",
    "s1"
   ]
  },
  {
   "cell_type": "code",
   "execution_count": 22,
   "id": "248a19b6-9b40-4ef3-97f4-2595d7a7d6ef",
   "metadata": {},
   "outputs": [
    {
     "data": {
      "text/plain": [
       "' naresh it technology\\n            datascience, ai student -- 6 month i will change your brain'"
      ]
     },
     "execution_count": 22,
     "metadata": {},
     "output_type": "execute_result"
    }
   ],
   "source": [
    "s2 = ''' naresh it technology\n",
    "            datascience, ai student -- 6 month i will change your brain'''  # triple codes use for more sentence\n",
    "s2"
   ]
  },
  {
   "cell_type": "code",
   "execution_count": null,
   "id": "c67a53e8-bc9e-40b4-9375-95afab057556",
   "metadata": {},
   "outputs": [],
   "source": [
    "string-->\n",
    "assign txt to the variables\n",
    "define ''|\"\"|'''|"
   ]
  },
  {
   "cell_type": "code",
   "execution_count": null,
   "id": "e376f7d7-a2d1-4946-b79d-74a0d44b5cff",
   "metadata": {},
   "outputs": [],
   "source": [
    "string indexing-->\n",
    "forward indexing \n",
    "backward indexing"
   ]
  },
  {
   "cell_type": "code",
   "execution_count": 26,
   "id": "bfa1e11b-6d77-448b-b769-58c54a26cd24",
   "metadata": {},
   "outputs": [
    {
     "name": "stdout",
     "output_type": "stream",
     "text": [
      "n\n",
      "t\n",
      "e\n"
     ]
    }
   ],
   "source": [
    "'udaykumar'\n",
    "print(s[0])\n",
    "print(s[-1])\n",
    "print(s[3])"
   ]
  },
  {
   "cell_type": "code",
   "execution_count": 28,
   "id": "361cb6d2-beef-4599-95d7-e84f7389bcb9",
   "metadata": {},
   "outputs": [
    {
     "data": {
      "text/plain": [
       "'res'"
      ]
     },
     "execution_count": 28,
     "metadata": {},
     "output_type": "execute_result"
    }
   ],
   "source": [
    "s[2:5]"
   ]
  },
  {
   "cell_type": "code",
   "execution_count": null,
   "id": "c3d795e7-98ce-4c52-85e2-f54085690317",
   "metadata": {},
   "outputs": [],
   "source": []
  },
  {
   "cell_type": "code",
   "execution_count": null,
   "id": "afcff27b-d555-4a51-8245-5c1e7d0560c6",
   "metadata": {},
   "outputs": [],
   "source": []
  },
  {
   "cell_type": "code",
   "execution_count": null,
   "id": "1d1c89d4-8ccf-43e5-8305-dce5c8141dc6",
   "metadata": {},
   "outputs": [],
   "source": []
  },
  {
   "cell_type": "code",
   "execution_count": null,
   "id": "2664071a-a438-49a2-bfdc-b09524520108",
   "metadata": {},
   "outputs": [],
   "source": []
  },
  {
   "cell_type": "code",
   "execution_count": null,
   "id": "3f3fa898-23a0-400b-98f3-c1441440f5ff",
   "metadata": {},
   "outputs": [],
   "source": []
  },
  {
   "cell_type": "code",
   "execution_count": null,
   "id": "2530ae30-7e8f-4c65-8f10-53917c753cf8",
   "metadata": {},
   "outputs": [],
   "source": []
  }
 ],
 "metadata": {
  "kernelspec": {
   "display_name": "Python [conda env:base] *",
   "language": "python",
   "name": "conda-base-py"
  },
  "language_info": {
   "codemirror_mode": {
    "name": "ipython",
    "version": 3
   },
   "file_extension": ".py",
   "mimetype": "text/x-python",
   "name": "python",
   "nbconvert_exporter": "python",
   "pygments_lexer": "ipython3",
   "version": "3.12.7"
  }
 },
 "nbformat": 4,
 "nbformat_minor": 5
}
