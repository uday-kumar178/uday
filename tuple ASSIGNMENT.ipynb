{
 "cells": [
  {
   "cell_type": "markdown",
   "id": "72e7b787-fee8-45db-9ed6-aa43735387b0",
   "metadata": {},
   "source": [
    "# TUPLE ASSIGNMENT"
   ]
  },
  {
   "cell_type": "code",
   "execution_count": 20,
   "id": "9d68993e-3867-4e16-a054-db79491b4b68",
   "metadata": {},
   "outputs": [
    {
     "data": {
      "text/plain": [
       "()"
      ]
     },
     "execution_count": 20,
     "metadata": {},
     "output_type": "execute_result"
    }
   ],
   "source": [
    "t = ()\n",
    "t"
   ]
  },
  {
   "cell_type": "code",
   "execution_count": 22,
   "id": "944fd89b-94a2-4454-92b0-11956d9ea529",
   "metadata": {},
   "outputs": [
    {
     "data": {
      "text/plain": [
       "0"
      ]
     },
     "execution_count": 22,
     "metadata": {},
     "output_type": "execute_result"
    }
   ],
   "source": [
    "len(t)"
   ]
  },
  {
   "cell_type": "code",
   "execution_count": 26,
   "id": "a8085b50-1cba-41c0-8421-21960a257cf5",
   "metadata": {},
   "outputs": [
    {
     "data": {
      "text/plain": [
       "(10, 20, 30, 40, 50, 60, 70)"
      ]
     },
     "execution_count": 26,
     "metadata": {},
     "output_type": "execute_result"
    }
   ],
   "source": [
    "t1 = (10,20,30,40,50,60,70)\n",
    "t1"
   ]
  },
  {
   "cell_type": "code",
   "execution_count": 30,
   "id": "2bf1b6a7-3b9c-4d13-8cbd-0c935c52c645",
   "metadata": {},
   "outputs": [
    {
     "data": {
      "text/plain": [
       "('a', 'b', 'c', 'e', 'z', 'm', 'n')"
      ]
     },
     "execution_count": 30,
     "metadata": {},
     "output_type": "execute_result"
    }
   ],
   "source": [
    "t2 = ('a','b','c','e','z','m','n')\n",
    "t2"
   ]
  },
  {
   "cell_type": "code",
   "execution_count": 125,
   "id": "f3d02a56-8285-4faf-b2e9-46ef85a788eb",
   "metadata": {},
   "outputs": [
    {
     "data": {
      "text/plain": [
       "(10.77, 30.66, 60.89)"
      ]
     },
     "execution_count": 125,
     "metadata": {},
     "output_type": "execute_result"
    }
   ],
   "source": [
    "t3 = (10.77,30.66,60.89)\n",
    "t3"
   ]
  },
  {
   "cell_type": "code",
   "execution_count": 127,
   "id": "ef214eff-127d-4b0a-9025-f6bc724e9316",
   "metadata": {},
   "outputs": [
    {
     "data": {
      "text/plain": [
       "('one', 'two', 'three', 'four')"
      ]
     },
     "execution_count": 127,
     "metadata": {},
     "output_type": "execute_result"
    }
   ],
   "source": [
    "t4 = ('one','two','three','four')\n",
    "t4"
   ]
  },
  {
   "cell_type": "code",
   "execution_count": 129,
   "id": "0eb54ee2-fcd6-475e-99bd-cf273e6f1bd2",
   "metadata": {},
   "outputs": [
    {
     "data": {
      "text/plain": [
       "('uday', 13, (60, 100), (160, 90))"
      ]
     },
     "execution_count": 129,
     "metadata": {},
     "output_type": "execute_result"
    }
   ],
   "source": [
    "t5 = ('uday',13,(60,100),(160,90))\n",
    "t5"
   ]
  },
  {
   "cell_type": "code",
   "execution_count": 133,
   "id": "d8dd0d25-cee5-43e8-9228-db793ed90ad9",
   "metadata": {},
   "outputs": [
    {
     "data": {
      "text/plain": [
       "(100, 'uday', 19.578)"
      ]
     },
     "execution_count": 133,
     "metadata": {},
     "output_type": "execute_result"
    }
   ],
   "source": [
    "t6 = (100,'uday',19.578)\n",
    "t6"
   ]
  },
  {
   "cell_type": "code",
   "execution_count": 135,
   "id": "d8365f72-a587-4e99-a7f9-262d4e076394",
   "metadata": {},
   "outputs": [
    {
     "data": {
      "text/plain": [
       "('uday', 25, [50, 100], [150, 90], {'arun', 'vijay'}, (88, 77, 33))"
      ]
     },
     "execution_count": 135,
     "metadata": {},
     "output_type": "execute_result"
    }
   ],
   "source": [
    "t7 = ('uday',25,[50,100],[150,90],{'arun','vijay'},(88,77,33))\n",
    "t7"
   ]
  },
  {
   "cell_type": "code",
   "execution_count": 137,
   "id": "abce2965-c221-408d-b07b-c70f89f16093",
   "metadata": {},
   "outputs": [
    {
     "data": {
      "text/plain": [
       "6"
      ]
     },
     "execution_count": 137,
     "metadata": {},
     "output_type": "execute_result"
    }
   ],
   "source": [
    "len(t7)"
   ]
  },
  {
   "cell_type": "markdown",
   "id": "a3adae4d-aaf9-4742-bf0a-32e343161ebc",
   "metadata": {},
   "source": [
    "# tuple indexing"
   ]
  },
  {
   "cell_type": "code",
   "execution_count": 142,
   "id": "ba3992d9-5d66-4447-aa46-b0d47605da9d",
   "metadata": {},
   "outputs": [
    {
     "data": {
      "text/plain": [
       "'a'"
      ]
     },
     "execution_count": 142,
     "metadata": {},
     "output_type": "execute_result"
    }
   ],
   "source": [
    "t2[0]"
   ]
  },
  {
   "cell_type": "code",
   "execution_count": 144,
   "id": "3a436eb2-fdd3-4ff5-8978-57bc993d7d24",
   "metadata": {},
   "outputs": [
    {
     "data": {
      "text/plain": [
       "'one'"
      ]
     },
     "execution_count": 144,
     "metadata": {},
     "output_type": "execute_result"
    }
   ],
   "source": [
    "t4[0]"
   ]
  },
  {
   "cell_type": "code",
   "execution_count": 146,
   "id": "13c870ae-3146-473b-b068-85b85f8a3c31",
   "metadata": {},
   "outputs": [
    {
     "data": {
      "text/plain": [
       "'o'"
      ]
     },
     "execution_count": 146,
     "metadata": {},
     "output_type": "execute_result"
    }
   ],
   "source": [
    "t4[0][0]"
   ]
  },
  {
   "cell_type": "code",
   "execution_count": null,
   "id": "2e864cc1-b4c3-4787-bc64-59962751e110",
   "metadata": {},
   "outputs": [],
   "source": [
    "t4[-1]"
   ]
  },
  {
   "cell_type": "code",
   "execution_count": 34,
   "id": "f3b4168f-d27c-447b-84ec-24c2ee555d73",
   "metadata": {},
   "outputs": [
    {
     "data": {
      "text/plain": [
       "0"
      ]
     },
     "execution_count": 34,
     "metadata": {},
     "output_type": "execute_result"
    }
   ],
   "source": [
    "t2.index('a')"
   ]
  },
  {
   "cell_type": "code",
   "execution_count": 36,
   "id": "0626c34a-9cb1-4376-b298-890a25684d30",
   "metadata": {},
   "outputs": [
    {
     "data": {
      "text/plain": [
       "10"
      ]
     },
     "execution_count": 36,
     "metadata": {},
     "output_type": "execute_result"
    }
   ],
   "source": [
    "t1[0]"
   ]
  },
  {
   "cell_type": "code",
   "execution_count": 38,
   "id": "d0e1712a-96ac-48e9-815b-d56391bd23a5",
   "metadata": {},
   "outputs": [
    {
     "ename": "TypeError",
     "evalue": "'tuple' object does not support item assignment",
     "output_type": "error",
     "traceback": [
      "\u001b[1;31m---------------------------------------------------------------------------\u001b[0m",
      "\u001b[1;31mTypeError\u001b[0m                                 Traceback (most recent call last)",
      "Cell \u001b[1;32mIn[38], line 1\u001b[0m\n\u001b[1;32m----> 1\u001b[0m t1[\u001b[38;5;241m0\u001b[39m] \u001b[38;5;241m=\u001b[39m \u001b[38;5;241m100\u001b[39m\n",
      "\u001b[1;31mTypeError\u001b[0m: 'tuple' object does not support item assignment"
     ]
    }
   ],
   "source": [
    "t1[0] = 100"
   ]
  },
  {
   "cell_type": "code",
   "execution_count": 40,
   "id": "cad1dcd1-142d-492b-9891-557cde1d94f9",
   "metadata": {},
   "outputs": [
    {
     "data": {
      "text/plain": [
       "('12345', '13th apr 2004', 134567, 'cvghb3992')"
      ]
     },
     "execution_count": 40,
     "metadata": {},
     "output_type": "execute_result"
    }
   ],
   "source": [
    "sbi = ('12345' , '13th apr 2004',134567,'cvghb3992')\n",
    "sbi"
   ]
  },
  {
   "cell_type": "code",
   "execution_count": 42,
   "id": "01080b5a-5243-45da-b713-a12379b2b8b1",
   "metadata": {},
   "outputs": [
    {
     "data": {
      "text/plain": [
       "(10, 20, 30, 40, 50, 60, 70)"
      ]
     },
     "execution_count": 42,
     "metadata": {},
     "output_type": "execute_result"
    }
   ],
   "source": [
    "t1"
   ]
  },
  {
   "cell_type": "code",
   "execution_count": 44,
   "id": "c3b9f608-12b0-4f51-9182-977a0aac25e6",
   "metadata": {},
   "outputs": [
    {
     "data": {
      "text/plain": [
       "(10,\n",
       " 20,\n",
       " 30,\n",
       " 40,\n",
       " 50,\n",
       " 60,\n",
       " 70,\n",
       " 10,\n",
       " 20,\n",
       " 30,\n",
       " 40,\n",
       " 50,\n",
       " 60,\n",
       " 70,\n",
       " 10,\n",
       " 20,\n",
       " 30,\n",
       " 40,\n",
       " 50,\n",
       " 60,\n",
       " 70)"
      ]
     },
     "execution_count": 44,
     "metadata": {},
     "output_type": "execute_result"
    }
   ],
   "source": [
    "t3 = t1*3\n",
    "t3"
   ]
  },
  {
   "cell_type": "code",
   "execution_count": 46,
   "id": "25fd15dd-82f9-4c9a-8efb-715720323575",
   "metadata": {},
   "outputs": [
    {
     "data": {
      "text/plain": [
       "(10, 20, 30, 30, 40, 40, 50, 60)"
      ]
     },
     "execution_count": 46,
     "metadata": {},
     "output_type": "execute_result"
    }
   ],
   "source": [
    "t4 = (10,20,30,30,40,40,50,60)\n",
    "t4"
   ]
  },
  {
   "cell_type": "code",
   "execution_count": 48,
   "id": "1a8d5ac6-1e0e-4218-8551-ea3a218a89bf",
   "metadata": {},
   "outputs": [
    {
     "data": {
      "text/plain": [
       "(10, 20, 30)"
      ]
     },
     "execution_count": 48,
     "metadata": {},
     "output_type": "execute_result"
    }
   ],
   "source": [
    "t3[:3]"
   ]
  },
  {
   "cell_type": "code",
   "execution_count": 50,
   "id": "fb35fa13-af06-49e3-a5ba-57a63acf2ea7",
   "metadata": {},
   "outputs": [
    {
     "data": {
      "text/plain": [
       "(20, 30, 40, 50)"
      ]
     },
     "execution_count": 50,
     "metadata": {},
     "output_type": "execute_result"
    }
   ],
   "source": [
    "t3[1:5]"
   ]
  },
  {
   "cell_type": "code",
   "execution_count": 54,
   "id": "b033a1d2-9ea0-4462-af17-222aa3841fb4",
   "metadata": {},
   "outputs": [
    {
     "data": {
      "text/plain": [
       "('one', 'two', 'three', 'four', 'five', 'six', 'seven', 'eight', 'nine', 'ten')"
      ]
     },
     "execution_count": 54,
     "metadata": {},
     "output_type": "execute_result"
    }
   ],
   "source": [
    "mytup = ('one','two','three','four','five','six','seven','eight','nine','ten')\n",
    "mytup"
   ]
  },
  {
   "cell_type": "code",
   "execution_count": 56,
   "id": "19fa95f4-b4ee-4291-a4d9-ad99651e635b",
   "metadata": {},
   "outputs": [
    {
     "data": {
      "text/plain": [
       "('one', 'two', 'three')"
      ]
     },
     "execution_count": 56,
     "metadata": {},
     "output_type": "execute_result"
    }
   ],
   "source": [
    "mytup[0:3]"
   ]
  },
  {
   "cell_type": "code",
   "execution_count": 58,
   "id": "0f709d59-4994-4f62-b27b-97b44243dcc1",
   "metadata": {},
   "outputs": [
    {
     "data": {
      "text/plain": [
       "('one', 'two', 'three')"
      ]
     },
     "execution_count": 58,
     "metadata": {},
     "output_type": "execute_result"
    }
   ],
   "source": [
    "mytup[:3]"
   ]
  },
  {
   "cell_type": "code",
   "execution_count": 60,
   "id": "557ae9af-8f07-4f20-971f-12440d2d20f9",
   "metadata": {},
   "outputs": [
    {
     "data": {
      "text/plain": [
       "('eight', 'nine', 'ten')"
      ]
     },
     "execution_count": 60,
     "metadata": {},
     "output_type": "execute_result"
    }
   ],
   "source": [
    "mytup[-3:]"
   ]
  },
  {
   "cell_type": "code",
   "execution_count": 62,
   "id": "d28773f6-3bb8-48a5-b832-637d55df9027",
   "metadata": {},
   "outputs": [
    {
     "data": {
      "text/plain": [
       "('nine', 'ten')"
      ]
     },
     "execution_count": 62,
     "metadata": {},
     "output_type": "execute_result"
    }
   ],
   "source": [
    "mytup[-2:]"
   ]
  },
  {
   "cell_type": "code",
   "execution_count": 64,
   "id": "b734cc04-fa8b-4227-846b-9b4ee604837d",
   "metadata": {},
   "outputs": [
    {
     "data": {
      "text/plain": [
       "('ten',)"
      ]
     },
     "execution_count": 64,
     "metadata": {},
     "output_type": "execute_result"
    }
   ],
   "source": [
    "mytup[-1:]"
   ]
  },
  {
   "cell_type": "code",
   "execution_count": 68,
   "id": "7d9569d5-ee46-4cfb-b99e-1125c87bcb7f",
   "metadata": {},
   "outputs": [
    {
     "data": {
      "text/plain": [
       "('one', 'two', 'three', 'four', 'five', 'six', 'seven', 'eight', 'nine', 'ten')"
      ]
     },
     "execution_count": 68,
     "metadata": {},
     "output_type": "execute_result"
    }
   ],
   "source": [
    "mytup[:]"
   ]
  },
  {
   "cell_type": "markdown",
   "id": "f0121ff6-a93f-475a-ac8b-8648bb5743d1",
   "metadata": {},
   "source": [
    "# remove and change items"
   ]
  },
  {
   "cell_type": "code",
   "execution_count": 71,
   "id": "a7c42a09-7538-4a1c-9342-749af1418945",
   "metadata": {},
   "outputs": [
    {
     "data": {
      "text/plain": [
       "('one', 'two', 'three', 'four', 'five', 'six', 'seven', 'eight', 'nine', 'ten')"
      ]
     },
     "execution_count": 71,
     "metadata": {},
     "output_type": "execute_result"
    }
   ],
   "source": [
    "mytup"
   ]
  },
  {
   "cell_type": "code",
   "execution_count": 73,
   "id": "219c4b1a-8318-4c29-a6c2-80bb8df46aae",
   "metadata": {},
   "outputs": [
    {
     "ename": "TypeError",
     "evalue": "'tuple' object doesn't support item deletion",
     "output_type": "error",
     "traceback": [
      "\u001b[1;31m---------------------------------------------------------------------------\u001b[0m",
      "\u001b[1;31mTypeError\u001b[0m                                 Traceback (most recent call last)",
      "Cell \u001b[1;32mIn[73], line 1\u001b[0m\n\u001b[1;32m----> 1\u001b[0m \u001b[38;5;28;01mdel\u001b[39;00m mytup[\u001b[38;5;241m0\u001b[39m]\n",
      "\u001b[1;31mTypeError\u001b[0m: 'tuple' object doesn't support item deletion"
     ]
    }
   ],
   "source": [
    "del mytup[0] # it wont delete single value  but it will delete whole list."
   ]
  },
  {
   "cell_type": "code",
   "execution_count": 77,
   "id": "d17d417e-5b2e-4661-8cb1-f404317bd542",
   "metadata": {},
   "outputs": [
    {
     "ename": "NameError",
     "evalue": "name 'mytup' is not defined",
     "output_type": "error",
     "traceback": [
      "\u001b[1;31m---------------------------------------------------------------------------\u001b[0m",
      "\u001b[1;31mNameError\u001b[0m                                 Traceback (most recent call last)",
      "Cell \u001b[1;32mIn[77], line 1\u001b[0m\n\u001b[1;32m----> 1\u001b[0m \u001b[38;5;28;01mdel\u001b[39;00m mytup\n",
      "\u001b[1;31mNameError\u001b[0m: name 'mytup' is not defined"
     ]
    }
   ],
   "source": [
    "del mytup"
   ]
  },
  {
   "cell_type": "markdown",
   "id": "0c60535d-578e-442c-b7b7-5e7c14bfd86b",
   "metadata": {},
   "source": [
    "# loop through a tuple"
   ]
  },
  {
   "cell_type": "code",
   "execution_count": 80,
   "id": "5cd9946a-c941-4bbb-ab25-b137d3768b0c",
   "metadata": {},
   "outputs": [
    {
     "ename": "NameError",
     "evalue": "name 'mytup' is not defined",
     "output_type": "error",
     "traceback": [
      "\u001b[1;31m---------------------------------------------------------------------------\u001b[0m",
      "\u001b[1;31mNameError\u001b[0m                                 Traceback (most recent call last)",
      "Cell \u001b[1;32mIn[80], line 1\u001b[0m\n\u001b[1;32m----> 1\u001b[0m mytup\n",
      "\u001b[1;31mNameError\u001b[0m: name 'mytup' is not defined"
     ]
    }
   ],
   "source": [
    "mytup"
   ]
  },
  {
   "cell_type": "code",
   "execution_count": 82,
   "id": "efceac36-36c0-4031-8b41-034a447d31f2",
   "metadata": {},
   "outputs": [
    {
     "data": {
      "text/plain": [
       "('one', 'two', 'three', 'four', 'five', 'six', 'seven', 'eight', 'nine', 'ten')"
      ]
     },
     "execution_count": 82,
     "metadata": {},
     "output_type": "execute_result"
    }
   ],
   "source": [
    "mytup = ('one','two','three','four','five','six','seven','eight','nine','ten')\n",
    "mytup"
   ]
  },
  {
   "cell_type": "code",
   "execution_count": 84,
   "id": "8cf683d0-14a6-4f17-8841-40b4b6ce79a9",
   "metadata": {},
   "outputs": [
    {
     "name": "stdout",
     "output_type": "stream",
     "text": [
      "one\n",
      "two\n",
      "three\n",
      "four\n",
      "five\n",
      "six\n",
      "seven\n",
      "eight\n",
      "nine\n",
      "ten\n"
     ]
    }
   ],
   "source": [
    "for i in mytup:\n",
    "    print(i)"
   ]
  },
  {
   "cell_type": "code",
   "execution_count": 88,
   "id": "236f7dbe-3089-4ff5-8509-401a75cbc120",
   "metadata": {},
   "outputs": [
    {
     "name": "stdout",
     "output_type": "stream",
     "text": [
      "(0, 'one')\n",
      "(1, 'two')\n",
      "(2, 'three')\n",
      "(3, 'four')\n",
      "(4, 'five')\n",
      "(5, 'six')\n",
      "(6, 'seven')\n",
      "(7, 'eight')\n",
      "(8, 'nine')\n",
      "(9, 'ten')\n"
     ]
    }
   ],
   "source": [
    "for i in enumerate(mytup):\n",
    "    print(i)"
   ]
  },
  {
   "cell_type": "markdown",
   "id": "ddfb9f88-c34e-4361-9d2a-5406d6f2934f",
   "metadata": {},
   "source": [
    "# tuple membership"
   ]
  },
  {
   "cell_type": "code",
   "execution_count": 91,
   "id": "7185f5e0-7393-403f-84b5-2f0f3e165040",
   "metadata": {},
   "outputs": [
    {
     "data": {
      "text/plain": [
       "('one', 'two', 'three', 'four', 'five', 'six', 'seven', 'eight', 'nine', 'ten')"
      ]
     },
     "execution_count": 91,
     "metadata": {},
     "output_type": "execute_result"
    }
   ],
   "source": [
    "mytup"
   ]
  },
  {
   "cell_type": "code",
   "execution_count": 93,
   "id": "a106f699-2de7-4ac7-a6c6-c6c31882eb4d",
   "metadata": {},
   "outputs": [
    {
     "data": {
      "text/plain": [
       "True"
      ]
     },
     "execution_count": 93,
     "metadata": {},
     "output_type": "execute_result"
    }
   ],
   "source": [
    "'one' in mytup# check if 'one' exist in list"
   ]
  },
  {
   "cell_type": "code",
   "execution_count": 95,
   "id": "ccf5dfa2-9b96-4df6-a821-ecbbb8142b18",
   "metadata": {},
   "outputs": [
    {
     "data": {
      "text/plain": [
       "True"
      ]
     },
     "execution_count": 95,
     "metadata": {},
     "output_type": "execute_result"
    }
   ],
   "source": [
    "'ten' in mytup"
   ]
  },
  {
   "cell_type": "code",
   "execution_count": 97,
   "id": "dc60e9c1-9208-4b6c-83f4-899d9e0b4260",
   "metadata": {},
   "outputs": [
    {
     "name": "stdout",
     "output_type": "stream",
     "text": [
      "four is present in mytup\n"
     ]
    }
   ],
   "source": [
    "if 'four' in mytup:\n",
    "    print('four is present in mytup')\n",
    "else:\n",
    "    print('four is not present in mytup')"
   ]
  },
  {
   "cell_type": "code",
   "execution_count": 99,
   "id": "d9017e7d-9465-41c3-ac74-2ffcd3360977",
   "metadata": {},
   "outputs": [
    {
     "name": "stdout",
     "output_type": "stream",
     "text": [
      "fifteen is not present in mytup\n"
     ]
    }
   ],
   "source": [
    "if  'fifteen' in mytup:\n",
    "    print('fifteen  is present in mytup')\n",
    "else:\n",
    "    print('fifteen is not present in mytup')"
   ]
  },
  {
   "cell_type": "markdown",
   "id": "e496e9f5-117a-490e-b3a3-83c627f1f29d",
   "metadata": {},
   "source": [
    "# index position"
   ]
  },
  {
   "cell_type": "code",
   "execution_count": 102,
   "id": "1e975caa-f271-4931-9729-cf2629eb0c65",
   "metadata": {},
   "outputs": [
    {
     "data": {
      "text/plain": [
       "('one', 'two', 'three', 'four', 'five', 'six', 'seven', 'eight', 'nine', 'ten')"
      ]
     },
     "execution_count": 102,
     "metadata": {},
     "output_type": "execute_result"
    }
   ],
   "source": [
    "mytup"
   ]
  },
  {
   "cell_type": "code",
   "execution_count": 104,
   "id": "642e535c-3179-420c-8dd9-15f834efcee3",
   "metadata": {},
   "outputs": [
    {
     "data": {
      "text/plain": [
       "2"
      ]
     },
     "execution_count": 104,
     "metadata": {},
     "output_type": "execute_result"
    }
   ],
   "source": [
    "mytup.index('three')"
   ]
  },
  {
   "cell_type": "code",
   "execution_count": 106,
   "id": "3004b206-1160-464a-91a6-d042166f1e58",
   "metadata": {},
   "outputs": [
    {
     "data": {
      "text/plain": [
       "4"
      ]
     },
     "execution_count": 106,
     "metadata": {},
     "output_type": "execute_result"
    }
   ],
   "source": [
    "mytup.index('five')"
   ]
  },
  {
   "cell_type": "code",
   "execution_count": 112,
   "id": "d913ae82-3861-45a6-b9e3-c1cb386763eb",
   "metadata": {},
   "outputs": [
    {
     "data": {
      "text/plain": [
       "('one', 'two', 'three', 'four', 'two', 'three', 'one', 'four')"
      ]
     },
     "execution_count": 112,
     "metadata": {},
     "output_type": "execute_result"
    }
   ],
   "source": [
    "mytup1 = ('one', 'two', 'three', 'four','two','three','one','four')\n",
    "mytup1"
   ]
  },
  {
   "cell_type": "code",
   "execution_count": 116,
   "id": "759b59ac-cdf0-4bde-a873-c2ea280d6d1e",
   "metadata": {},
   "outputs": [
    {
     "data": {
      "text/plain": [
       "0"
      ]
     },
     "execution_count": 116,
     "metadata": {},
     "output_type": "execute_result"
    }
   ],
   "source": [
    "mytup1.index('one')"
   ]
  },
  {
   "cell_type": "markdown",
   "id": "ee632e62-a659-4d8d-b549-cbc376de675f",
   "metadata": {},
   "source": [
    "# Sorting"
   ]
  },
  {
   "cell_type": "code",
   "execution_count": 119,
   "id": "589f33b7-bc80-446a-b4eb-6529bca4628f",
   "metadata": {},
   "outputs": [
    {
     "data": {
      "text/plain": [
       "(44, 56, 67, 86, 92, 10, 39)"
      ]
     },
     "execution_count": 119,
     "metadata": {},
     "output_type": "execute_result"
    }
   ],
   "source": [
    "mytup2 = (44,56,67,86,92,10,39)\n",
    "mytup2"
   ]
  },
  {
   "cell_type": "code",
   "execution_count": 121,
   "id": "4f1c4a3f-5634-4f71-8cbb-864b5a8ba5ee",
   "metadata": {},
   "outputs": [
    {
     "data": {
      "text/plain": [
       "[10, 39, 44, 56, 67, 86, 92]"
      ]
     },
     "execution_count": 121,
     "metadata": {},
     "output_type": "execute_result"
    }
   ],
   "source": [
    "sorted(mytup2)# returns a new sorted list and doesn't change original tuple."
   ]
  },
  {
   "cell_type": "code",
   "execution_count": 123,
   "id": "9790c1df-c824-4064-bdb1-79d976bafcbc",
   "metadata": {},
   "outputs": [
    {
     "data": {
      "text/plain": [
       "[92, 86, 67, 56, 44, 39, 10]"
      ]
     },
     "execution_count": 123,
     "metadata": {},
     "output_type": "execute_result"
    }
   ],
   "source": [
    "sorted(mytup2, reverse=True)"
   ]
  },
  {
   "cell_type": "code",
   "execution_count": null,
   "id": "c851c1df-5813-4915-b621-1653ae86f9ea",
   "metadata": {},
   "outputs": [],
   "source": []
  }
 ],
 "metadata": {
  "kernelspec": {
   "display_name": "Python [conda env:base] *",
   "language": "python",
   "name": "conda-base-py"
  },
  "language_info": {
   "codemirror_mode": {
    "name": "ipython",
    "version": 3
   },
   "file_extension": ".py",
   "mimetype": "text/x-python",
   "name": "python",
   "nbconvert_exporter": "python",
   "pygments_lexer": "ipython3",
   "version": "3.12.7"
  }
 },
 "nbformat": 4,
 "nbformat_minor": 5
}
