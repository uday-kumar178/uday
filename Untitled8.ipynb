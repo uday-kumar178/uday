{
 "cells": [
  {
   "cell_type": "code",
   "execution_count": 2,
   "id": "bdd6b947-be9e-45c4-ba96-77501218c896",
   "metadata": {},
   "outputs": [
    {
     "name": "stdout",
     "output_type": "stream",
     "text": [
      "The addition of 20 and 30 is= 50\n"
     ]
    }
   ],
   "source": [
    "num1 = 20\n",
    "num2 = 30\n",
    "add = num1 + num2 \n",
    "print('The addition of',num1,'and',num2,'is=',add)"
   ]
  },
  {
   "cell_type": "code",
   "execution_count": 4,
   "id": "990af5f2-ee88-47c4-98b8-636726a61f6f",
   "metadata": {},
   "outputs": [
    {
     "name": "stdout",
     "output_type": "stream",
     "text": [
      "My name is uday and i am 20 year old from hyd\n"
     ]
    }
   ],
   "source": [
    "name = 'uday'\n",
    "age = 20\n",
    "city = 'hyd'\n",
    "print('My name is',name,'and i am', age,'year old from',city)"
   ]
  },
  {
   "cell_type": "markdown",
   "id": "d38c58a1-ee06-4882-b8de-47868d014c2b",
   "metadata": {},
   "source": [
    "# end statement"
   ]
  },
  {
   "cell_type": "code",
   "execution_count": 7,
   "id": "00394f94-c237-49f5-83d1-7346d851956f",
   "metadata": {},
   "outputs": [
    {
     "name": "stdout",
     "output_type": "stream",
     "text": [
      "hello\n",
      "good morning\n"
     ]
    }
   ],
   "source": [
    "print('hello')\n",
    "print('good morning')"
   ]
  },
  {
   "cell_type": "code",
   "execution_count": 9,
   "id": "005bd4fe-4832-439f-a41a-41b97c99e3bc",
   "metadata": {},
   "outputs": [
    {
     "name": "stdout",
     "output_type": "stream",
     "text": [
      "hello world good day\n"
     ]
    }
   ],
   "source": [
    "print('hello', end= ' ' )\n",
    "print('world good day')"
   ]
  },
  {
   "cell_type": "markdown",
   "id": "f758f5d8-65cd-4570-b812-ef83d5596b82",
   "metadata": {},
   "source": [
    "# separator"
   ]
  },
  {
   "cell_type": "code",
   "execution_count": 14,
   "id": "396da273-1005-4bfc-bdff-0a392f1ba42b",
   "metadata": {},
   "outputs": [
    {
     "name": "stdout",
     "output_type": "stream",
     "text": [
      "hello--->hai--->how are you\n"
     ]
    }
   ],
   "source": [
    "print('hello','hai','how are you',sep='--->')"
   ]
  },
  {
   "cell_type": "code",
   "execution_count": 16,
   "id": "5b156cd5-7c25-49f4-8c5b-951b9abd8086",
   "metadata": {},
   "outputs": [
    {
     "name": "stdout",
     "output_type": "stream",
     "text": [
      "hello&hai&how are you\n"
     ]
    }
   ],
   "source": [
    "print('hello','hai','how are you',sep='&')"
   ]
  },
  {
   "cell_type": "code",
   "execution_count": 18,
   "id": "57e3176f-8ddd-4e5e-b692-9416c3473df7",
   "metadata": {},
   "outputs": [
    {
     "name": "stdout",
     "output_type": "stream",
     "text": [
      "hello@hai@how are you\n"
     ]
    }
   ],
   "source": [
    "print('hello','hai','how are you',sep='@')"
   ]
  },
  {
   "cell_type": "code",
   "execution_count": 20,
   "id": "abf2466a-3a9d-449c-a38c-e1680b8bbb18",
   "metadata": {},
   "outputs": [
    {
     "name": "stdout",
     "output_type": "stream",
     "text": [
      "1 2 3 .\n"
     ]
    }
   ],
   "source": [
    "print(1,2,end=' ')\n",
    "print(3,'.',sep=' ')"
   ]
  },
  {
   "cell_type": "code",
   "execution_count": null,
   "id": "12849d49-871b-4a37-9d47-0652f5ffb0b9",
   "metadata": {},
   "outputs": [],
   "source": []
  }
 ],
 "metadata": {
  "kernelspec": {
   "display_name": "Python [conda env:base] *",
   "language": "python",
   "name": "conda-base-py"
  },
  "language_info": {
   "codemirror_mode": {
    "name": "ipython",
    "version": 3
   },
   "file_extension": ".py",
   "mimetype": "text/x-python",
   "name": "python",
   "nbconvert_exporter": "python",
   "pygments_lexer": "ipython3",
   "version": "3.12.7"
  }
 },
 "nbformat": 4,
 "nbformat_minor": 5
}
